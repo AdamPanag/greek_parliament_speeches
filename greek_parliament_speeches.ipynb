{
  "nbformat": 4,
  "nbformat_minor": 0,
  "metadata": {
    "accelerator": "TPU",
    "colab": {
      "name": "Αντίγραφο greek parliament speeches prediction.ipynb",
      "provenance": [],
      "collapsed_sections": [
        "SD1liQZ2W7TK",
        "8CLubmMW6yRr",
        "mEw8zxuY6yRv",
        "DwPwj-Id6yRx",
        "INytCeDe6ySq",
        "OacjANzSR1br",
        "TDPvhdfC6ySx",
        "aWvCbXgS6yTB",
        "OFmIUr426yTb",
        "Unxy04ki6yTe",
        "zAYSbKgsWsZw",
        "y48I6TFBWa8q",
        "an3a78OqW8M3",
        "TikkUhfplhfc",
        "30KLUt41tKiZ",
        "NiJQSXRNGcId",
        "I1ZaVCPjlGa2"
      ],
      "machine_shape": "hm"
    },
    "kernelspec": {
      "display_name": "Python 3",
      "name": "python3",
      "language": "python"
    }
  },
  "cells": [
    {
      "cell_type": "markdown",
      "metadata": {
        "id": "DFVerOeE6yRc"
      },
      "source": [
        "# Greek Parliament Proceedings\n",
        "\n",
        "## An assignment for the course `Machine Learning in Practise`.\n",
        "\n",
        "> Adam Panagiotidis, Student <br />\n",
        "> 8170096 <br />\n",
        "> Department of Management Science and Technology <br />\n",
        "> Athens University of Economics and Business <br />\n",
        "> adampanag06@gmail.com\n",
        "\n",
        "---\n",
        "\n",
        "The dataset of the analysis contains proceedings of the Greek Parliament, available at <https://zenodo.org/record/2587904>. The dataset is described in Zenodo; you can also read <https://lab.imedd.org/en/parliamentary-minutes-from-1989-until-today/>.\n"
      ]
    },
    {
      "cell_type": "markdown",
      "metadata": {
        "id": "SD1liQZ2W7TK"
      },
      "source": [
        "## Goal\r\n",
        "\r\n",
        "The goal of the analysis is to identify the political party of a speaker just by his/her speach. In order to achieve that, we will first clear and explore the data. After that we will train some non-neural network algorithms to learn to classify a speech. Last but not least, we will perform the training using neural network algorithms."
      ]
    },
    {
      "cell_type": "markdown",
      "metadata": {
        "id": "W2H6qIiQNJqO"
      },
      "source": [
        "## Before you Run the Notebook\r\n",
        "\r\n",
        "Please have in mind that this notebook includes algorithms and machine learning models that require a lot of RAM and GPU power. Running the whole notebook will take many hours on an average computer and it will erase all the current outputs. So, I suggest you to first read the whole notebook and then rerun it if you like.\r\n",
        "\r\n",
        "Also, you have to download the zip file `Greek_Parliament_Proceedings_1989_2019.csv.zip` from [here](https://zenodo.org/record/2587904#.YC8p-2gzaUk)."
      ]
    },
    {
      "cell_type": "markdown",
      "metadata": {
        "id": "8CLubmMW6yRr"
      },
      "source": [
        "## Importing Libraries"
      ]
    },
    {
      "cell_type": "code",
      "metadata": {
        "colab": {
          "base_uri": "https://localhost:8080/"
        },
        "id": "xmuuiWss6yRt",
        "outputId": "965298d9-096c-4f00-f966-5fd0b72d6385"
      },
      "source": [
        "import pandas as pd \n",
        "import numpy as np\n",
        "\n",
        "from sklearn.feature_extraction.text import CountVectorizer\n",
        "from sklearn.feature_extraction.text import TfidfTransformer\n",
        "from sklearn.naive_bayes import MultinomialNB\n",
        "from sklearn.pipeline import Pipeline\n",
        "import numpy as np\n",
        "from sklearn.metrics import classification_report\n",
        "\n",
        "from plotnine import *\n",
        "import matplotlib.pyplot as plt\n",
        "import seaborn as sns\n",
        "\n",
        "%matplotlib inline"
      ],
      "execution_count": 1,
      "outputs": []
    },
    {
      "cell_type": "markdown",
      "metadata": {
        "id": "mEw8zxuY6yRv"
      },
      "source": [
        "## File Paths\r\n",
        "\r\n",
        "So, after you have downloaded the necessary zip file, you must **unzip** it and put it in the right place.\r\n",
        "\r\n",
        "You should put it in a folder named data. For example, if the notebook file is in the relative path `Desktop/all_notebooks/`, the file should be in the relative path `Desktop/all_notebooks/data/`"
      ]
    },
    {
      "cell_type": "code",
      "metadata": {
        "id": "V9hhDE746yRw"
      },
      "source": [
        "proceedings_file = 'data/Greek_Parliament_Proceedings_1989_2019.csv'"
      ],
      "execution_count": 2,
      "outputs": []
    },
    {
      "cell_type": "markdown",
      "metadata": {
        "id": "DwPwj-Id6yRx"
      },
      "source": [
        "## Obtaining and Cleaning Data"
      ]
    },
    {
      "cell_type": "markdown",
      "metadata": {
        "id": "uySK6PIdSxyv"
      },
      "source": [
        "First, we will get the headers."
      ]
    },
    {
      "cell_type": "code",
      "metadata": {
        "colab": {
          "base_uri": "https://localhost:8080/"
        },
        "id": "ScNVozkt6ySF",
        "outputId": "0b2cb667-bdfd-4bbf-f11d-ca9c12c25c31"
      },
      "source": [
        "headers = pd.read_csv(proceedings_file, nrows=0)\n",
        "headers = headers.columns.tolist()\n",
        "headers"
      ],
      "execution_count": 3,
      "outputs": [
        {
          "output_type": "execute_result",
          "data": {
            "text/plain": [
              "['member_name',\n",
              " 'sitting_date',\n",
              " 'parliamentary_period',\n",
              " 'parliamentary_session',\n",
              " 'parliamentary_sitting',\n",
              " 'political_party',\n",
              " 'speaker_info',\n",
              " 'speech']"
            ]
          },
          "metadata": {},
          "execution_count": 3
        }
      ]
    },
    {
      "cell_type": "markdown",
      "metadata": {
        "id": "LmfcA8Y2S1_e"
      },
      "source": [
        "Now, we will set the data types to string, except `sitting_date` which is datetime."
      ]
    },
    {
      "cell_type": "code",
      "metadata": {
        "colab": {
          "base_uri": "https://localhost:8080/"
        },
        "id": "aFYKWpNd6ySO",
        "outputId": "3c4490f9-fe4a-44fc-884c-fe95336801cd"
      },
      "source": [
        "data_types = { header: np.str for header in headers }\n",
        "data_types"
      ],
      "execution_count": 4,
      "outputs": [
        {
          "output_type": "execute_result",
          "data": {
            "text/plain": [
              "{'member_name': str,\n",
              " 'sitting_date': str,\n",
              " 'parliamentary_period': str,\n",
              " 'parliamentary_session': str,\n",
              " 'parliamentary_sitting': str,\n",
              " 'political_party': str,\n",
              " 'speaker_info': str,\n",
              " 'speech': str}"
            ]
          },
          "metadata": {},
          "execution_count": 4
        }
      ]
    },
    {
      "cell_type": "code",
      "metadata": {
        "id": "GjUP8PIl6ySR"
      },
      "source": [
        "parse_dates = ['sitting_date']"
      ],
      "execution_count": 5,
      "outputs": []
    },
    {
      "cell_type": "markdown",
      "metadata": {
        "id": "4GyAHSC2TAyx"
      },
      "source": [
        "Let's read the whole data."
      ]
    },
    {
      "cell_type": "code",
      "metadata": {
        "colab": {
          "base_uri": "https://localhost:8080/",
          "height": 0
        },
        "id": "6XN44-8J6yST",
        "outputId": "9f094fdf-3af5-4e44-b710-391363f51998"
      },
      "source": [
        "proceedings = pd.read_csv(proceedings_file,\n",
        "                            index_col=False, \n",
        "                            names=headers,\n",
        "                            dtype=data_types,\n",
        "                            parse_dates=parse_dates,\n",
        "                            skiprows=1)\n",
        "\n",
        "print(proceedings.shape)\n",
        "proceedings.head()"
      ],
      "execution_count": 6,
      "outputs": [
        {
          "output_type": "stream",
          "name": "stdout",
          "text": [
            "(1194407, 8)\n"
          ]
        },
        {
          "output_type": "execute_result",
          "data": {
            "text/plain": [
              "                    member_name sitting_date parliamentary_period  \\\n",
              "0  κρητικος νικολαου παναγιωτης   1989-07-03             period 5   \n",
              "1  κρητικος νικολαου παναγιωτης   1989-07-03             period 5   \n",
              "2  κρητικος νικολαου παναγιωτης   1989-07-03             period 5   \n",
              "3                           NaN   1989-07-03             period 5   \n",
              "4  κρητικος νικολαου παναγιωτης   1989-07-03             period 5   \n",
              "\n",
              "  parliamentary_session parliamentary_sitting                 political_party  \\\n",
              "0             session 1             sitting 1  πανελληνιο σοσιαλιστικο κινημα   \n",
              "1             session 1             sitting 1  πανελληνιο σοσιαλιστικο κινημα   \n",
              "2             session 1             sitting 1  πανελληνιο σοσιαλιστικο κινημα   \n",
              "3             session 1             sitting 1                           βουλη   \n",
              "4             session 1             sitting 1  πανελληνιο σοσιαλιστικο κινημα   \n",
              "\n",
              "   speaker_info                                             speech  \n",
              "0    προεδρευων   Παρακαλείται ο Γραμματέας κ. Βουλγαράκης να σ...  \n",
              "1    προεδρευων   Παρακαλείται ο κύριος Γραμματέας να συνοδεύσε...  \n",
              "2    προεδρευων   Κύριοι συνάδελφοι, παρακαλώ τη Βουλή να εξουσ...  \n",
              "3  βουλευτης/ες                                  Μάλιστα, μάλιστα.  \n",
              "4    προεδρευων   Η Βουλή παρέσχε τη ζητηθείσα εξουσιοδότηση. Μ...  "
            ],
            "text/html": "<div>\n<style scoped>\n    .dataframe tbody tr th:only-of-type {\n        vertical-align: middle;\n    }\n\n    .dataframe tbody tr th {\n        vertical-align: top;\n    }\n\n    .dataframe thead th {\n        text-align: right;\n    }\n</style>\n<table border=\"1\" class=\"dataframe\">\n  <thead>\n    <tr style=\"text-align: right;\">\n      <th></th>\n      <th>member_name</th>\n      <th>sitting_date</th>\n      <th>parliamentary_period</th>\n      <th>parliamentary_session</th>\n      <th>parliamentary_sitting</th>\n      <th>political_party</th>\n      <th>speaker_info</th>\n      <th>speech</th>\n    </tr>\n  </thead>\n  <tbody>\n    <tr>\n      <th>0</th>\n      <td>κρητικος νικολαου παναγιωτης</td>\n      <td>1989-07-03</td>\n      <td>period 5</td>\n      <td>session 1</td>\n      <td>sitting 1</td>\n      <td>πανελληνιο σοσιαλιστικο κινημα</td>\n      <td>προεδρευων</td>\n      <td>Παρακαλείται ο Γραμματέας κ. Βουλγαράκης να σ...</td>\n    </tr>\n    <tr>\n      <th>1</th>\n      <td>κρητικος νικολαου παναγιωτης</td>\n      <td>1989-07-03</td>\n      <td>period 5</td>\n      <td>session 1</td>\n      <td>sitting 1</td>\n      <td>πανελληνιο σοσιαλιστικο κινημα</td>\n      <td>προεδρευων</td>\n      <td>Παρακαλείται ο κύριος Γραμματέας να συνοδεύσε...</td>\n    </tr>\n    <tr>\n      <th>2</th>\n      <td>κρητικος νικολαου παναγιωτης</td>\n      <td>1989-07-03</td>\n      <td>period 5</td>\n      <td>session 1</td>\n      <td>sitting 1</td>\n      <td>πανελληνιο σοσιαλιστικο κινημα</td>\n      <td>προεδρευων</td>\n      <td>Κύριοι συνάδελφοι, παρακαλώ τη Βουλή να εξουσ...</td>\n    </tr>\n    <tr>\n      <th>3</th>\n      <td>NaN</td>\n      <td>1989-07-03</td>\n      <td>period 5</td>\n      <td>session 1</td>\n      <td>sitting 1</td>\n      <td>βουλη</td>\n      <td>βουλευτης/ες</td>\n      <td>Μάλιστα, μάλιστα.</td>\n    </tr>\n    <tr>\n      <th>4</th>\n      <td>κρητικος νικολαου παναγιωτης</td>\n      <td>1989-07-03</td>\n      <td>period 5</td>\n      <td>session 1</td>\n      <td>sitting 1</td>\n      <td>πανελληνιο σοσιαλιστικο κινημα</td>\n      <td>προεδρευων</td>\n      <td>Η Βουλή παρέσχε τη ζητηθείσα εξουσιοδότηση. Μ...</td>\n    </tr>\n  </tbody>\n</table>\n</div>"
          },
          "metadata": {},
          "execution_count": 6
        }
      ]
    },
    {
      "cell_type": "code",
      "metadata": {
        "colab": {
          "base_uri": "https://localhost:8080/"
        },
        "id": "czqa1dOGPJK3",
        "outputId": "4bb23429-eacc-4ba3-d998-0f6e1497da00"
      },
      "source": [
        "proceedings.speaker_info.value_counts().head(10)"
      ],
      "execution_count": 7,
      "outputs": [
        {
          "output_type": "execute_result",
          "data": {
            "text/plain": [
              "προεδρευων                                      354560\n",
              "προεδρος                                         58067\n",
              "βουλευτης/ες                                     47165\n",
              "υφυπουργος οικονομικων                            7201\n",
              "υπουργος δικαιοσυνης                              5882\n",
              "υφυπουργος εθνικης παιδειας και θρησκευματων      4367\n",
              "υφυπουργος αναπτυξης                              3736\n",
              "υπουργος γεωργιας                                 3707\n",
              "υπουργος εσωτερικων                               3370\n",
              "υφυπουργος γεωργιας                               3361\n",
              "Name: speaker_info, dtype: int64"
            ]
          },
          "metadata": {},
          "execution_count": 7
        }
      ]
    },
    {
      "cell_type": "markdown",
      "metadata": {
        "id": "jPfK-n4jg9OZ"
      },
      "source": [
        "We see the most common speaker roles. The top 2 are `προεδρευων` and `προεδρος`. But after going through some of their speeches, I saw that they do not speak about political matters. They are mostly something like coordinators. So, we will remove them because their speeches will not help to identify their political party."
      ]
    },
    {
      "cell_type": "code",
      "metadata": {
        "colab": {
          "base_uri": "https://localhost:8080/",
          "height": 0
        },
        "id": "OnmrGs4INFjM",
        "outputId": "a1f05977-ee7c-420a-cc68-c7342ecec28f"
      },
      "source": [
        "proceedings = proceedings[~(proceedings['speaker_info'].isin(['προεδρευων', 'προεδρος']))]\n",
        "proceedings.head()"
      ],
      "execution_count": 8,
      "outputs": [
        {
          "output_type": "execute_result",
          "data": {
            "text/plain": [
              "                        member_name sitting_date parliamentary_period  \\\n",
              "3                               NaN   1989-07-03             period 5   \n",
              "10                              NaN   1989-07-04             period 5   \n",
              "12  τσοβολας κωνσταντινου δημητριος   1989-07-05             period 5   \n",
              "16       τζαννετακης πετρου τζαννης   1989-07-05             period 5   \n",
              "18                              NaN   1989-07-05             period 5   \n",
              "\n",
              "   parliamentary_session parliamentary_sitting  \\\n",
              "3              session 1             sitting 1   \n",
              "10             session 1             sitting 2   \n",
              "12             session 1             sitting 3   \n",
              "16             session 1             sitting 3   \n",
              "18             session 1             sitting 3   \n",
              "\n",
              "                   political_party  \\\n",
              "3                            βουλη   \n",
              "10                           βουλη   \n",
              "12  πανελληνιο σοσιαλιστικο κινημα   \n",
              "16                  νεα δημοκρατια   \n",
              "18  πανελληνιο σοσιαλιστικο κινημα   \n",
              "\n",
              "                                         speaker_info  \\\n",
              "3                                        βουλευτης/ες   \n",
              "10                                       βουλευτης/ες   \n",
              "12                                                NaN   \n",
              "16  προεδρος της κυβερνησης και υπουργος των εξωτε...   \n",
              "18                                       βουλευτης/ες   \n",
              "\n",
              "                                               speech  \n",
              "3                                   Μάλιστα, μάλιστα.  \n",
              "10                                  Μάλιστα, μάλιστα.  \n",
              "12   Κύριε Πρόεδρε, δεν έχουν μοιραστεί όλα τα ψηφ...  \n",
              "16   ~\"ΕΦΗΜΕΡΙΣ ΤΗΣ ΚΥΒΕΡΝΗΣΕΩΣ ΤΗΣ ΕΛΛΗΝΙΚΗΣ ΔΗΜΟ...  \n",
              "18                               Να μας τη διαβάσετε.  "
            ],
            "text/html": "<div>\n<style scoped>\n    .dataframe tbody tr th:only-of-type {\n        vertical-align: middle;\n    }\n\n    .dataframe tbody tr th {\n        vertical-align: top;\n    }\n\n    .dataframe thead th {\n        text-align: right;\n    }\n</style>\n<table border=\"1\" class=\"dataframe\">\n  <thead>\n    <tr style=\"text-align: right;\">\n      <th></th>\n      <th>member_name</th>\n      <th>sitting_date</th>\n      <th>parliamentary_period</th>\n      <th>parliamentary_session</th>\n      <th>parliamentary_sitting</th>\n      <th>political_party</th>\n      <th>speaker_info</th>\n      <th>speech</th>\n    </tr>\n  </thead>\n  <tbody>\n    <tr>\n      <th>3</th>\n      <td>NaN</td>\n      <td>1989-07-03</td>\n      <td>period 5</td>\n      <td>session 1</td>\n      <td>sitting 1</td>\n      <td>βουλη</td>\n      <td>βουλευτης/ες</td>\n      <td>Μάλιστα, μάλιστα.</td>\n    </tr>\n    <tr>\n      <th>10</th>\n      <td>NaN</td>\n      <td>1989-07-04</td>\n      <td>period 5</td>\n      <td>session 1</td>\n      <td>sitting 2</td>\n      <td>βουλη</td>\n      <td>βουλευτης/ες</td>\n      <td>Μάλιστα, μάλιστα.</td>\n    </tr>\n    <tr>\n      <th>12</th>\n      <td>τσοβολας κωνσταντινου δημητριος</td>\n      <td>1989-07-05</td>\n      <td>period 5</td>\n      <td>session 1</td>\n      <td>sitting 3</td>\n      <td>πανελληνιο σοσιαλιστικο κινημα</td>\n      <td>NaN</td>\n      <td>Κύριε Πρόεδρε, δεν έχουν μοιραστεί όλα τα ψηφ...</td>\n    </tr>\n    <tr>\n      <th>16</th>\n      <td>τζαννετακης πετρου τζαννης</td>\n      <td>1989-07-05</td>\n      <td>period 5</td>\n      <td>session 1</td>\n      <td>sitting 3</td>\n      <td>νεα δημοκρατια</td>\n      <td>προεδρος της κυβερνησης και υπουργος των εξωτε...</td>\n      <td>~\"ΕΦΗΜΕΡΙΣ ΤΗΣ ΚΥΒΕΡΝΗΣΕΩΣ ΤΗΣ ΕΛΛΗΝΙΚΗΣ ΔΗΜΟ...</td>\n    </tr>\n    <tr>\n      <th>18</th>\n      <td>NaN</td>\n      <td>1989-07-05</td>\n      <td>period 5</td>\n      <td>session 1</td>\n      <td>sitting 3</td>\n      <td>πανελληνιο σοσιαλιστικο κινημα</td>\n      <td>βουλευτης/ες</td>\n      <td>Να μας τη διαβάσετε.</td>\n    </tr>\n  </tbody>\n</table>\n</div>"
          },
          "metadata": {},
          "execution_count": 8
        }
      ]
    },
    {
      "cell_type": "code",
      "metadata": {
        "colab": {
          "base_uri": "https://localhost:8080/"
        },
        "id": "bbT-q6iX6ySV",
        "outputId": "ab6e4db1-8f5f-42f5-93d6-11359975c21c"
      },
      "source": [
        "proceedings.isna().sum()"
      ],
      "execution_count": 9,
      "outputs": [
        {
          "output_type": "execute_result",
          "data": {
            "text/plain": [
              "member_name               47289\n",
              "sitting_date                  0\n",
              "parliamentary_period          0\n",
              "parliamentary_session         0\n",
              "parliamentary_sitting         0\n",
              "political_party             124\n",
              "speaker_info             543871\n",
              "speech                        9\n",
              "dtype: int64"
            ]
          },
          "metadata": {},
          "execution_count": 9
        }
      ]
    },
    {
      "cell_type": "markdown",
      "metadata": {
        "id": "AEFouJZb6ySX"
      },
      "source": [
        "We see that there are many field with NaN values. The goal of our analysis is to to identify the political party of a person and use only his/her speech to do that. So, `political_party` and `speech` columns cannot be NaN."
      ]
    },
    {
      "cell_type": "code",
      "metadata": {
        "colab": {
          "base_uri": "https://localhost:8080/"
        },
        "id": "w2WC50wq6ySm",
        "outputId": "88c2d11c-bd04-48c4-e36f-226334c571a4"
      },
      "source": [
        "proceedings = proceedings.dropna(subset={'political_party', 'speech'})\n",
        "\n",
        "proceedings.isna().sum()"
      ],
      "execution_count": 10,
      "outputs": [
        {
          "output_type": "execute_result",
          "data": {
            "text/plain": [
              "member_name               47165\n",
              "sitting_date                  0\n",
              "parliamentary_period          0\n",
              "parliamentary_session         0\n",
              "parliamentary_sitting         0\n",
              "political_party               0\n",
              "speaker_info             543867\n",
              "speech                        0\n",
              "dtype: int64"
            ]
          },
          "metadata": {},
          "execution_count": 10
        }
      ]
    },
    {
      "cell_type": "code",
      "metadata": {
        "colab": {
          "base_uri": "https://localhost:8080/"
        },
        "id": "rd3OZcp36ySo",
        "outputId": "c45e587b-8931-4323-b1dc-37974090afa1"
      },
      "source": [
        "proceedings.dtypes"
      ],
      "execution_count": 11,
      "outputs": [
        {
          "output_type": "execute_result",
          "data": {
            "text/plain": [
              "member_name                      object\n",
              "sitting_date             datetime64[ns]\n",
              "parliamentary_period             object\n",
              "parliamentary_session            object\n",
              "parliamentary_sitting            object\n",
              "political_party                  object\n",
              "speaker_info                     object\n",
              "speech                           object\n",
              "dtype: object"
            ]
          },
          "metadata": {},
          "execution_count": 11
        }
      ]
    },
    {
      "cell_type": "code",
      "metadata": {
        "colab": {
          "base_uri": "https://localhost:8080/"
        },
        "id": "R7pbSWg695M7",
        "outputId": "76093bac-edc6-4b9c-d451-f8f55bf312d0"
      },
      "source": [
        "proceedings.political_party.value_counts()"
      ],
      "execution_count": 12,
      "outputs": [
        {
          "output_type": "execute_result",
          "data": {
            "text/plain": [
              "νεα δημοκρατια                                                                     232974\n",
              "πανελληνιο σοσιαλιστικο κινημα                                                     226942\n",
              "συνασπισμος ριζοσπαστικης αριστερας                                                 81279\n",
              "κομμουνιστικο κομμα ελλαδας                                                         61753\n",
              "βουλη                                                                               45876\n",
              "συνασπισμος της αριστερας των κινηματων και της οικολογιας                          24440\n",
              "ανεξαρτητοι (εκτος κομματος)                                                        24259\n",
              "λαικος ορθοδοξος συναγερμος                                                         17310\n",
              "δημοκρατικη συμπαραταξη (πανελληνιο σοσιαλιστικο κινημα - δημοκρατικη αριστερα)     15402\n",
              "λαικος συνδεσος - χρυση αυγη                                                        14172\n",
              "ενωση κεντρωων                                                                       6649\n",
              "δημοκρατικο κοινωνικο κινημα                                                         6056\n",
              "το ποταμι                                                                            5983\n",
              "ανεξαρτητοι ελληνες - πανος καμμενος                                                 5374\n",
              "ανεξαρτητοι ελληνες εθνικη πατριωτικη δημοκρατικη συμμαχια                           4243\n",
              "δημοκρατικη αριστερα                                                                 4204\n",
              "πολιτικη ανοιξη                                                                      2090\n",
              "ανεξαρτητοι δημοκρατικοι βουλευτες                                                   1769\n",
              "λαικη ενοτητα                                                                         346\n",
              "οικολογοι εναλλακτικοι (ομοσπονδια οικολογικων εναλλακτικων οργανωσεων)               307\n",
              "κομμουνιστικο κομμα ελλαδας εσωτερικου                                                202\n",
              "αντιπολιτευση                                                                          11\n",
              "δημοκρατικη ανανεωση                                                                    6\n",
              "Name: political_party, dtype: int64"
            ]
          },
          "metadata": {},
          "execution_count": 12
        }
      ]
    },
    {
      "cell_type": "markdown",
      "metadata": {
        "id": "i8xqOnTo95hv"
      },
      "source": [
        "We want to keep only the speeches of political parties, so we will remove the speeches of `βουλη`, which is the parliament's speeches, of `ανεξαρτητοι δημοκρατικοι βουλευτες`, which was a temporary group of politicians from various parties and of `ανεξαρτητοι (εκτος κομματος)`, which represents politicians who do not belong to any party.\r\n",
        "\r\n",
        "<br />\r\n",
        "\r\n",
        "We also see that there are some political parties with very few speeches (less than 6000). The prediction models, that we want to create, will probably have problems identifying these parties. So we will remove them. \r\n",
        "\r\n",
        "Note: At the beginning we removed parties below 5000 speeches, but due to low preccision and recall for some parties, I decided to remove also parties below 6000 speeches."
      ]
    },
    {
      "cell_type": "code",
      "metadata": {
        "colab": {
          "base_uri": "https://localhost:8080/"
        },
        "id": "SZD6koRY-XnP",
        "outputId": "b96392e1-4726-4be7-ac77-9a212759ed68"
      },
      "source": [
        "# Removing non-political parties\n",
        "proceedings = proceedings[~(proceedings['political_party'].isin(['βουλη', 'ανεξαρτητοι δημοκρατικοι βουλευτες', 'ανεξαρτητοι (εκτος κομματος)']))]\n",
        "\n",
        "# Removing parties with very few speeches\n",
        "proceedings = proceedings[~(proceedings['political_party'].isin(['δημοκρατικη ανανεωση', 'αντιπολιτευση', 'κομμουνιστικο κομμα ελλαδας εσωτερικου',\n",
        "                                                                 'οικολογοι εναλλακτικοι (ομοσπονδια οικολογικων εναλλακτικων οργανωσεων)',\n",
        "                                                                 'λαικη ενοτητα', 'πολιτικη ανοιξη', 'δημοκρατικη αριστερα',\n",
        "                                                                 'ανεξαρτητοι ελληνες - πανος καμμενος', 'το ποταμι',\n",
        "                                                                 'ανεξαρτητοι ελληνες εθνικη πατριωτικη δημοκρατικη συμμαχια']))]\n",
        "\n",
        "proceedings.political_party.value_counts()"
      ],
      "execution_count": 13,
      "outputs": [
        {
          "output_type": "execute_result",
          "data": {
            "text/plain": [
              "νεα δημοκρατια                                                                     232974\n",
              "πανελληνιο σοσιαλιστικο κινημα                                                     226942\n",
              "συνασπισμος ριζοσπαστικης αριστερας                                                 81279\n",
              "κομμουνιστικο κομμα ελλαδας                                                         61753\n",
              "συνασπισμος της αριστερας των κινηματων και της οικολογιας                          24440\n",
              "λαικος ορθοδοξος συναγερμος                                                         17310\n",
              "δημοκρατικη συμπαραταξη (πανελληνιο σοσιαλιστικο κινημα - δημοκρατικη αριστερα)     15402\n",
              "λαικος συνδεσος - χρυση αυγη                                                        14172\n",
              "ενωση κεντρωων                                                                       6649\n",
              "δημοκρατικο κοινωνικο κινημα                                                         6056\n",
              "Name: political_party, dtype: int64"
            ]
          },
          "metadata": {},
          "execution_count": 13
        }
      ]
    },
    {
      "cell_type": "markdown",
      "metadata": {
        "id": "INytCeDe6ySq"
      },
      "source": [
        "## Data Exploration and Visualization\n",
        "\n",
        "In order to unserstand our dataset better and perform various machine learnings models to it, we will fisrt explore it.\n"
      ]
    },
    {
      "cell_type": "markdown",
      "metadata": {
        "id": "OacjANzSR1br"
      },
      "source": [
        "### Speeches per Party\r\n",
        "Let's find out how many speeches every party has made and visualize it."
      ]
    },
    {
      "cell_type": "code",
      "metadata": {
        "colab": {
          "base_uri": "https://localhost:8080/",
          "height": 0
        },
        "id": "sPVJmIaH6ySs",
        "outputId": "c7395211-8434-43da-ef1d-df5759b1a7a5"
      },
      "source": [
        "speeches_per_party = pd.DataFrame()\n",
        "\n",
        "speeches_per_party['speeches_made'] = proceedings.groupby('political_party')['political_party'].count().sort_values(ascending=False)\n",
        "\n",
        "speeches_per_party = speeches_per_party.reset_index()\n",
        "\n",
        "speeches_per_party"
      ],
      "execution_count": 15,
      "outputs": [
        {
          "output_type": "execute_result",
          "data": {
            "text/html": [
              "<div>\n",
              "<style scoped>\n",
              "    .dataframe tbody tr th:only-of-type {\n",
              "        vertical-align: middle;\n",
              "    }\n",
              "\n",
              "    .dataframe tbody tr th {\n",
              "        vertical-align: top;\n",
              "    }\n",
              "\n",
              "    .dataframe thead th {\n",
              "        text-align: right;\n",
              "    }\n",
              "</style>\n",
              "<table border=\"1\" class=\"dataframe\">\n",
              "  <thead>\n",
              "    <tr style=\"text-align: right;\">\n",
              "      <th></th>\n",
              "      <th>political_party</th>\n",
              "      <th>speeches_made</th>\n",
              "    </tr>\n",
              "  </thead>\n",
              "  <tbody>\n",
              "    <tr>\n",
              "      <th>0</th>\n",
              "      <td>νεα δημοκρατια</td>\n",
              "      <td>232974</td>\n",
              "    </tr>\n",
              "    <tr>\n",
              "      <th>1</th>\n",
              "      <td>πανελληνιο σοσιαλιστικο κινημα</td>\n",
              "      <td>226942</td>\n",
              "    </tr>\n",
              "    <tr>\n",
              "      <th>2</th>\n",
              "      <td>συνασπισμος ριζοσπαστικης αριστερας</td>\n",
              "      <td>81279</td>\n",
              "    </tr>\n",
              "    <tr>\n",
              "      <th>3</th>\n",
              "      <td>κομμουνιστικο κομμα ελλαδας</td>\n",
              "      <td>61753</td>\n",
              "    </tr>\n",
              "    <tr>\n",
              "      <th>4</th>\n",
              "      <td>συνασπισμος της αριστερας των κινηματων και τη...</td>\n",
              "      <td>24440</td>\n",
              "    </tr>\n",
              "    <tr>\n",
              "      <th>5</th>\n",
              "      <td>λαικος ορθοδοξος συναγερμος</td>\n",
              "      <td>17310</td>\n",
              "    </tr>\n",
              "    <tr>\n",
              "      <th>6</th>\n",
              "      <td>δημοκρατικη συμπαραταξη (πανελληνιο σοσιαλιστι...</td>\n",
              "      <td>15402</td>\n",
              "    </tr>\n",
              "    <tr>\n",
              "      <th>7</th>\n",
              "      <td>λαικος συνδεσος - χρυση αυγη</td>\n",
              "      <td>14172</td>\n",
              "    </tr>\n",
              "    <tr>\n",
              "      <th>8</th>\n",
              "      <td>ενωση κεντρωων</td>\n",
              "      <td>6649</td>\n",
              "    </tr>\n",
              "    <tr>\n",
              "      <th>9</th>\n",
              "      <td>δημοκρατικο κοινωνικο κινημα</td>\n",
              "      <td>6056</td>\n",
              "    </tr>\n",
              "  </tbody>\n",
              "</table>\n",
              "</div>"
            ],
            "text/plain": [
              "                                     political_party  speeches_made\n",
              "0                                     νεα δημοκρατια         232974\n",
              "1                     πανελληνιο σοσιαλιστικο κινημα         226942\n",
              "2                συνασπισμος ριζοσπαστικης αριστερας          81279\n",
              "3                        κομμουνιστικο κομμα ελλαδας          61753\n",
              "4  συνασπισμος της αριστερας των κινηματων και τη...          24440\n",
              "5                        λαικος ορθοδοξος συναγερμος          17310\n",
              "6  δημοκρατικη συμπαραταξη (πανελληνιο σοσιαλιστι...          15402\n",
              "7                       λαικος συνδεσος - χρυση αυγη          14172\n",
              "8                                     ενωση κεντρωων           6649\n",
              "9                       δημοκρατικο κοινωνικο κινημα           6056"
            ]
          },
          "metadata": {
            "tags": []
          },
          "execution_count": 15
        }
      ]
    },
    {
      "cell_type": "code",
      "metadata": {
        "colab": {
          "base_uri": "https://localhost:8080/",
          "height": 0
        },
        "id": "90SVtsAB6ySv",
        "outputId": "4c6d74d9-a63d-45d8-e470-8513712be6de"
      },
      "source": [
        "speeches_per_party.plot(x=\"political_party\", y=\"speeches_made\", kind='barh', figsize=(10,8))"
      ],
      "execution_count": 16,
      "outputs": [
        {
          "output_type": "execute_result",
          "data": {
            "text/plain": [
              "<matplotlib.axes._subplots.AxesSubplot at 0x7fa816d26f60>"
            ]
          },
          "metadata": {
            "tags": []
          },
          "execution_count": 16
        },
        {
          "output_type": "display_data",
          "data": {
            "image/png": "[encoded data removed]",
            "text/plain": [
              "<Figure size 720x576 with 1 Axes>"
            ]
          },
          "metadata": {
            "tags": [],
            "needs_background": "light"
          }
        }
      ]
    },
    {
      "cell_type": "markdown",
      "metadata": {
        "id": "K-XO42PcggEz"
      },
      "source": [
        "We see two parties having the lead and two more after them that have a significant number of speeches."
      ]
    },
    {
      "cell_type": "markdown",
      "metadata": {
        "id": "TDPvhdfC6ySx"
      },
      "source": [
        "### Speeches over time"
      ]
    },
    {
      "cell_type": "code",
      "metadata": {
        "colab": {
          "base_uri": "https://localhost:8080/",
          "height": 204
        },
        "id": "kU6EvhDI6ySx",
        "outputId": "51e2855c-ad1b-4fd2-84f6-04bcf43baa48"
      },
      "source": [
        "speeches_per_time = pd.DataFrame()\n",
        "\n",
        "speeches_per_time['month'] = proceedings['sitting_date'].dt.to_period('M')\n",
        "speeches_per_time['year'] = proceedings['sitting_date'].dt.to_period('Y')\n",
        "speeches_per_time['party'] = proceedings['political_party']\n",
        "\n",
        "speeches_per_time.head()"
      ],
      "execution_count": 17,
      "outputs": [
        {
          "output_type": "execute_result",
          "data": {
            "text/html": [
              "<div>\n",
              "<style scoped>\n",
              "    .dataframe tbody tr th:only-of-type {\n",
              "        vertical-align: middle;\n",
              "    }\n",
              "\n",
              "    .dataframe tbody tr th {\n",
              "        vertical-align: top;\n",
              "    }\n",
              "\n",
              "    .dataframe thead th {\n",
              "        text-align: right;\n",
              "    }\n",
              "</style>\n",
              "<table border=\"1\" class=\"dataframe\">\n",
              "  <thead>\n",
              "    <tr style=\"text-align: right;\">\n",
              "      <th></th>\n",
              "      <th>month</th>\n",
              "      <th>year</th>\n",
              "      <th>party</th>\n",
              "    </tr>\n",
              "  </thead>\n",
              "  <tbody>\n",
              "    <tr>\n",
              "      <th>12</th>\n",
              "      <td>1989-07</td>\n",
              "      <td>1989</td>\n",
              "      <td>πανελληνιο σοσιαλιστικο κινημα</td>\n",
              "    </tr>\n",
              "    <tr>\n",
              "      <th>16</th>\n",
              "      <td>1989-07</td>\n",
              "      <td>1989</td>\n",
              "      <td>νεα δημοκρατια</td>\n",
              "    </tr>\n",
              "    <tr>\n",
              "      <th>18</th>\n",
              "      <td>1989-07</td>\n",
              "      <td>1989</td>\n",
              "      <td>πανελληνιο σοσιαλιστικο κινημα</td>\n",
              "    </tr>\n",
              "    <tr>\n",
              "      <th>21</th>\n",
              "      <td>1989-07</td>\n",
              "      <td>1989</td>\n",
              "      <td>πανελληνιο σοσιαλιστικο κινημα</td>\n",
              "    </tr>\n",
              "    <tr>\n",
              "      <th>23</th>\n",
              "      <td>1989-07</td>\n",
              "      <td>1989</td>\n",
              "      <td>πανελληνιο σοσιαλιστικο κινημα</td>\n",
              "    </tr>\n",
              "  </tbody>\n",
              "</table>\n",
              "</div>"
            ],
            "text/plain": [
              "      month  year                           party\n",
              "12  1989-07  1989  πανελληνιο σοσιαλιστικο κινημα\n",
              "16  1989-07  1989                  νεα δημοκρατια\n",
              "18  1989-07  1989  πανελληνιο σοσιαλιστικο κινημα\n",
              "21  1989-07  1989  πανελληνιο σοσιαλιστικο κινημα\n",
              "23  1989-07  1989  πανελληνιο σοσιαλιστικο κινημα"
            ]
          },
          "metadata": {
            "tags": []
          },
          "execution_count": 17
        }
      ]
    },
    {
      "cell_type": "code",
      "metadata": {
        "colab": {
          "base_uri": "https://localhost:8080/",
          "height": 419
        },
        "id": "0lk5w8ev6ySy",
        "outputId": "797a7bdc-0f9a-4b36-fcdd-3f1c46cc2462"
      },
      "source": [
        "speeches_per_month = pd.DataFrame()\n",
        "\n",
        "speeches_per_month['scpeeches_count'] = speeches_per_time.groupby('month')['month'].count()\n",
        "\n",
        "speeches_per_month = speeches_per_month.reset_index()\n",
        "\n",
        "speeches_per_month"
      ],
      "execution_count": 18,
      "outputs": [
        {
          "output_type": "execute_result",
          "data": {
            "text/html": [
              "<div>\n",
              "<style scoped>\n",
              "    .dataframe tbody tr th:only-of-type {\n",
              "        vertical-align: middle;\n",
              "    }\n",
              "\n",
              "    .dataframe tbody tr th {\n",
              "        vertical-align: top;\n",
              "    }\n",
              "\n",
              "    .dataframe thead th {\n",
              "        text-align: right;\n",
              "    }\n",
              "</style>\n",
              "<table border=\"1\" class=\"dataframe\">\n",
              "  <thead>\n",
              "    <tr style=\"text-align: right;\">\n",
              "      <th></th>\n",
              "      <th>month</th>\n",
              "      <th>scpeeches_count</th>\n",
              "    </tr>\n",
              "  </thead>\n",
              "  <tbody>\n",
              "    <tr>\n",
              "      <th>0</th>\n",
              "      <td>1989-07</td>\n",
              "      <td>1422</td>\n",
              "    </tr>\n",
              "    <tr>\n",
              "      <th>1</th>\n",
              "      <td>1989-09</td>\n",
              "      <td>3337</td>\n",
              "    </tr>\n",
              "    <tr>\n",
              "      <th>2</th>\n",
              "      <td>1989-10</td>\n",
              "      <td>1376</td>\n",
              "    </tr>\n",
              "    <tr>\n",
              "      <th>3</th>\n",
              "      <td>1989-11</td>\n",
              "      <td>85</td>\n",
              "    </tr>\n",
              "    <tr>\n",
              "      <th>4</th>\n",
              "      <td>1989-12</td>\n",
              "      <td>574</td>\n",
              "    </tr>\n",
              "    <tr>\n",
              "      <th>...</th>\n",
              "      <td>...</td>\n",
              "      <td>...</td>\n",
              "    </tr>\n",
              "    <tr>\n",
              "      <th>319</th>\n",
              "      <td>2018-10</td>\n",
              "      <td>1019</td>\n",
              "    </tr>\n",
              "    <tr>\n",
              "      <th>320</th>\n",
              "      <td>2018-11</td>\n",
              "      <td>1314</td>\n",
              "    </tr>\n",
              "    <tr>\n",
              "      <th>321</th>\n",
              "      <td>2018-12</td>\n",
              "      <td>2139</td>\n",
              "    </tr>\n",
              "    <tr>\n",
              "      <th>322</th>\n",
              "      <td>2019-01</td>\n",
              "      <td>2374</td>\n",
              "    </tr>\n",
              "    <tr>\n",
              "      <th>323</th>\n",
              "      <td>2019-02</td>\n",
              "      <td>1870</td>\n",
              "    </tr>\n",
              "  </tbody>\n",
              "</table>\n",
              "<p>324 rows × 2 columns</p>\n",
              "</div>"
            ],
            "text/plain": [
              "       month  scpeeches_count\n",
              "0    1989-07             1422\n",
              "1    1989-09             3337\n",
              "2    1989-10             1376\n",
              "3    1989-11               85\n",
              "4    1989-12              574\n",
              "..       ...              ...\n",
              "319  2018-10             1019\n",
              "320  2018-11             1314\n",
              "321  2018-12             2139\n",
              "322  2019-01             2374\n",
              "323  2019-02             1870\n",
              "\n",
              "[324 rows x 2 columns]"
            ]
          },
          "metadata": {
            "tags": []
          },
          "execution_count": 18
        }
      ]
    },
    {
      "cell_type": "code",
      "metadata": {
        "colab": {
          "base_uri": "https://localhost:8080/",
          "height": 204
        },
        "id": "mDiUmltZ6ySz",
        "outputId": "e0d4d1ea-680a-4bd3-b563-705de03f8556"
      },
      "source": [
        "speeches_per_year = pd.DataFrame()\n",
        "\n",
        "speeches_per_year['scpeeches_count'] = speeches_per_time.groupby('year')['year'].count()\n",
        "\n",
        "speeches_per_year = speeches_per_year.reset_index()\n",
        "\n",
        "speeches_per_year.head()"
      ],
      "execution_count": 19,
      "outputs": [
        {
          "output_type": "execute_result",
          "data": {
            "text/html": [
              "<div>\n",
              "<style scoped>\n",
              "    .dataframe tbody tr th:only-of-type {\n",
              "        vertical-align: middle;\n",
              "    }\n",
              "\n",
              "    .dataframe tbody tr th {\n",
              "        vertical-align: top;\n",
              "    }\n",
              "\n",
              "    .dataframe thead th {\n",
              "        text-align: right;\n",
              "    }\n",
              "</style>\n",
              "<table border=\"1\" class=\"dataframe\">\n",
              "  <thead>\n",
              "    <tr style=\"text-align: right;\">\n",
              "      <th></th>\n",
              "      <th>year</th>\n",
              "      <th>scpeeches_count</th>\n",
              "    </tr>\n",
              "  </thead>\n",
              "  <tbody>\n",
              "    <tr>\n",
              "      <th>0</th>\n",
              "      <td>1989</td>\n",
              "      <td>6794</td>\n",
              "    </tr>\n",
              "    <tr>\n",
              "      <th>1</th>\n",
              "      <td>1990</td>\n",
              "      <td>23471</td>\n",
              "    </tr>\n",
              "    <tr>\n",
              "      <th>2</th>\n",
              "      <td>1991</td>\n",
              "      <td>30529</td>\n",
              "    </tr>\n",
              "    <tr>\n",
              "      <th>3</th>\n",
              "      <td>1992</td>\n",
              "      <td>34194</td>\n",
              "    </tr>\n",
              "    <tr>\n",
              "      <th>4</th>\n",
              "      <td>1993</td>\n",
              "      <td>28665</td>\n",
              "    </tr>\n",
              "  </tbody>\n",
              "</table>\n",
              "</div>"
            ],
            "text/plain": [
              "   year  scpeeches_count\n",
              "0  1989             6794\n",
              "1  1990            23471\n",
              "2  1991            30529\n",
              "3  1992            34194\n",
              "4  1993            28665"
            ]
          },
          "metadata": {
            "tags": []
          },
          "execution_count": 19
        }
      ]
    },
    {
      "cell_type": "markdown",
      "metadata": {
        "id": "4Eb1Z3QAg28B"
      },
      "source": [
        "Now, we will see the number of speeches that took place each month for all the availiable years that the dataset has. "
      ]
    },
    {
      "cell_type": "code",
      "metadata": {
        "colab": {
          "base_uri": "https://localhost:8080/",
          "height": 515
        },
        "id": "fQQowCa66yS1",
        "outputId": "ed18a780-66b4-4d68-c02d-5124dc6eec1f"
      },
      "source": [
        "speeches_per_month.plot(x=\"month\", y=\"scpeeches_count\", figsize=(14,8))"
      ],
      "execution_count": 20,
      "outputs": [
        {
          "output_type": "execute_result",
          "data": {
            "text/plain": [
              "<matplotlib.axes._subplots.AxesSubplot at 0x7fa816c70748>"
            ]
          },
          "metadata": {
            "tags": []
          },
          "execution_count": 20
        },
        {
          "output_type": "display_data",
          "data": {
            "image/png": "[encoded data removed]",
            "text/plain": [
              "<Figure size 1008x576 with 1 Axes>"
            ]
          },
          "metadata": {
            "tags": [],
            "needs_background": "light"
          }
        }
      ]
    },
    {
      "cell_type": "markdown",
      "metadata": {
        "id": "2L8eq0FQhIG4"
      },
      "source": [
        "We observe a lot of ups and downs which tells us that there are month with very few speeches and months with a lot of speeches."
      ]
    },
    {
      "cell_type": "markdown",
      "metadata": {
        "id": "Q4-Q_IR4hV3E"
      },
      "source": [
        "Here, we will see the same but for every year."
      ]
    },
    {
      "cell_type": "code",
      "metadata": {
        "colab": {
          "base_uri": "https://localhost:8080/",
          "height": 514
        },
        "id": "gU-he2it6yS3",
        "outputId": "dfb61cbf-1428-4638-fae3-54d12a21799c"
      },
      "source": [
        "speeches_per_year.plot(x=\"year\", y=\"scpeeches_count\", figsize=(14,8))"
      ],
      "execution_count": 21,
      "outputs": [
        {
          "output_type": "execute_result",
          "data": {
            "text/plain": [
              "<matplotlib.axes._subplots.AxesSubplot at 0x7fa81672ef28>"
            ]
          },
          "metadata": {
            "tags": []
          },
          "execution_count": 21
        },
        {
          "output_type": "display_data",
          "data": {
            "image/png": "[encoded data removed]",
            "text/plain": [
              "<Figure size 1008x576 with 1 Axes>"
            ]
          },
          "metadata": {
            "tags": [],
            "needs_background": "light"
          }
        }
      ]
    },
    {
      "cell_type": "markdown",
      "metadata": {
        "id": "x4EaMrMChdKo"
      },
      "source": [
        "It is obvious that 1999 was the year with vary few speechs. Note that 2019 has a few speeches because the data includes only the first months of this year. Also, 2016 was by bar the year with the most speeches and that happened because of the political instability in Greece at that time.\r\n",
        "\r\n",
        "Let's see the numbers in an array also.\r\n"
      ]
    },
    {
      "cell_type": "code",
      "metadata": {
        "colab": {
          "base_uri": "https://localhost:8080/",
          "height": 979
        },
        "id": "9DRp0Rt26yS4",
        "outputId": "49acf16a-6425-44be-db33-904f15ccd0d0"
      },
      "source": [
        "speeches_per_year.sort_values(by='scpeeches_count', ascending=False)"
      ],
      "execution_count": 22,
      "outputs": [
        {
          "output_type": "execute_result",
          "data": {
            "text/html": [
              "<div>\n",
              "<style scoped>\n",
              "    .dataframe tbody tr th:only-of-type {\n",
              "        vertical-align: middle;\n",
              "    }\n",
              "\n",
              "    .dataframe tbody tr th {\n",
              "        vertical-align: top;\n",
              "    }\n",
              "\n",
              "    .dataframe thead th {\n",
              "        text-align: right;\n",
              "    }\n",
              "</style>\n",
              "<table border=\"1\" class=\"dataframe\">\n",
              "  <thead>\n",
              "    <tr style=\"text-align: right;\">\n",
              "      <th></th>\n",
              "      <th>year</th>\n",
              "      <th>scpeeches_count</th>\n",
              "    </tr>\n",
              "  </thead>\n",
              "  <tbody>\n",
              "    <tr>\n",
              "      <th>26</th>\n",
              "      <td>2016</td>\n",
              "      <td>41166</td>\n",
              "    </tr>\n",
              "    <tr>\n",
              "      <th>3</th>\n",
              "      <td>1992</td>\n",
              "      <td>34194</td>\n",
              "    </tr>\n",
              "    <tr>\n",
              "      <th>7</th>\n",
              "      <td>1997</td>\n",
              "      <td>32083</td>\n",
              "    </tr>\n",
              "    <tr>\n",
              "      <th>15</th>\n",
              "      <td>2005</td>\n",
              "      <td>31467</td>\n",
              "    </tr>\n",
              "    <tr>\n",
              "      <th>18</th>\n",
              "      <td>2008</td>\n",
              "      <td>31031</td>\n",
              "    </tr>\n",
              "    <tr>\n",
              "      <th>2</th>\n",
              "      <td>1991</td>\n",
              "      <td>30529</td>\n",
              "    </tr>\n",
              "    <tr>\n",
              "      <th>27</th>\n",
              "      <td>2017</td>\n",
              "      <td>29795</td>\n",
              "    </tr>\n",
              "    <tr>\n",
              "      <th>11</th>\n",
              "      <td>2001</td>\n",
              "      <td>29115</td>\n",
              "    </tr>\n",
              "    <tr>\n",
              "      <th>21</th>\n",
              "      <td>2011</td>\n",
              "      <td>29040</td>\n",
              "    </tr>\n",
              "    <tr>\n",
              "      <th>24</th>\n",
              "      <td>2014</td>\n",
              "      <td>28825</td>\n",
              "    </tr>\n",
              "    <tr>\n",
              "      <th>4</th>\n",
              "      <td>1993</td>\n",
              "      <td>28665</td>\n",
              "    </tr>\n",
              "    <tr>\n",
              "      <th>9</th>\n",
              "      <td>1999</td>\n",
              "      <td>25078</td>\n",
              "    </tr>\n",
              "    <tr>\n",
              "      <th>23</th>\n",
              "      <td>2013</td>\n",
              "      <td>24988</td>\n",
              "    </tr>\n",
              "    <tr>\n",
              "      <th>16</th>\n",
              "      <td>2006</td>\n",
              "      <td>23501</td>\n",
              "    </tr>\n",
              "    <tr>\n",
              "      <th>1</th>\n",
              "      <td>1990</td>\n",
              "      <td>23471</td>\n",
              "    </tr>\n",
              "    <tr>\n",
              "      <th>20</th>\n",
              "      <td>2010</td>\n",
              "      <td>23434</td>\n",
              "    </tr>\n",
              "    <tr>\n",
              "      <th>17</th>\n",
              "      <td>2007</td>\n",
              "      <td>21858</td>\n",
              "    </tr>\n",
              "    <tr>\n",
              "      <th>28</th>\n",
              "      <td>2018</td>\n",
              "      <td>21237</td>\n",
              "    </tr>\n",
              "    <tr>\n",
              "      <th>22</th>\n",
              "      <td>2012</td>\n",
              "      <td>20288</td>\n",
              "    </tr>\n",
              "    <tr>\n",
              "      <th>25</th>\n",
              "      <td>2015</td>\n",
              "      <td>19760</td>\n",
              "    </tr>\n",
              "    <tr>\n",
              "      <th>13</th>\n",
              "      <td>2003</td>\n",
              "      <td>19100</td>\n",
              "    </tr>\n",
              "    <tr>\n",
              "      <th>10</th>\n",
              "      <td>2000</td>\n",
              "      <td>17938</td>\n",
              "    </tr>\n",
              "    <tr>\n",
              "      <th>5</th>\n",
              "      <td>1994</td>\n",
              "      <td>17764</td>\n",
              "    </tr>\n",
              "    <tr>\n",
              "      <th>12</th>\n",
              "      <td>2002</td>\n",
              "      <td>17342</td>\n",
              "    </tr>\n",
              "    <tr>\n",
              "      <th>19</th>\n",
              "      <td>2009</td>\n",
              "      <td>16560</td>\n",
              "    </tr>\n",
              "    <tr>\n",
              "      <th>8</th>\n",
              "      <td>1998</td>\n",
              "      <td>15735</td>\n",
              "    </tr>\n",
              "    <tr>\n",
              "      <th>14</th>\n",
              "      <td>2004</td>\n",
              "      <td>15648</td>\n",
              "    </tr>\n",
              "    <tr>\n",
              "      <th>0</th>\n",
              "      <td>1989</td>\n",
              "      <td>6794</td>\n",
              "    </tr>\n",
              "    <tr>\n",
              "      <th>6</th>\n",
              "      <td>1996</td>\n",
              "      <td>6327</td>\n",
              "    </tr>\n",
              "    <tr>\n",
              "      <th>29</th>\n",
              "      <td>2019</td>\n",
              "      <td>4244</td>\n",
              "    </tr>\n",
              "  </tbody>\n",
              "</table>\n",
              "</div>"
            ],
            "text/plain": [
              "    year  scpeeches_count\n",
              "26  2016            41166\n",
              "3   1992            34194\n",
              "7   1997            32083\n",
              "15  2005            31467\n",
              "18  2008            31031\n",
              "2   1991            30529\n",
              "27  2017            29795\n",
              "11  2001            29115\n",
              "21  2011            29040\n",
              "24  2014            28825\n",
              "4   1993            28665\n",
              "9   1999            25078\n",
              "23  2013            24988\n",
              "16  2006            23501\n",
              "1   1990            23471\n",
              "20  2010            23434\n",
              "17  2007            21858\n",
              "28  2018            21237\n",
              "22  2012            20288\n",
              "25  2015            19760\n",
              "13  2003            19100\n",
              "10  2000            17938\n",
              "5   1994            17764\n",
              "12  2002            17342\n",
              "19  2009            16560\n",
              "8   1998            15735\n",
              "14  2004            15648\n",
              "0   1989             6794\n",
              "6   1996             6327\n",
              "29  2019             4244"
            ]
          },
          "metadata": {
            "tags": []
          },
          "execution_count": 22
        }
      ]
    },
    {
      "cell_type": "markdown",
      "metadata": {
        "id": "aWvCbXgS6yTB"
      },
      "source": [
        "### Speeches per party and time."
      ]
    },
    {
      "cell_type": "code",
      "metadata": {
        "colab": {
          "base_uri": "https://localhost:8080/",
          "height": 204
        },
        "id": "mZZpLw-L6yTD",
        "outputId": "67113299-2923-4697-de55-398c47453b8e"
      },
      "source": [
        "speeches_per_year_party = pd.DataFrame()\n",
        "\n",
        "speeches_per_year_party['scpeeches_count'] = speeches_per_time.groupby(['party', 'year'])['year'].count()\n",
        "\n",
        "speeches_per_year_party = speeches_per_year_party.reset_index()\n",
        "\n",
        "speeches_per_year_party.head()"
      ],
      "execution_count": 24,
      "outputs": [
        {
          "output_type": "execute_result",
          "data": {
            "text/html": [
              "<div>\n",
              "<style scoped>\n",
              "    .dataframe tbody tr th:only-of-type {\n",
              "        vertical-align: middle;\n",
              "    }\n",
              "\n",
              "    .dataframe tbody tr th {\n",
              "        vertical-align: top;\n",
              "    }\n",
              "\n",
              "    .dataframe thead th {\n",
              "        text-align: right;\n",
              "    }\n",
              "</style>\n",
              "<table border=\"1\" class=\"dataframe\">\n",
              "  <thead>\n",
              "    <tr style=\"text-align: right;\">\n",
              "      <th></th>\n",
              "      <th>party</th>\n",
              "      <th>year</th>\n",
              "      <th>scpeeches_count</th>\n",
              "    </tr>\n",
              "  </thead>\n",
              "  <tbody>\n",
              "    <tr>\n",
              "      <th>0</th>\n",
              "      <td>δημοκρατικη συμπαραταξη (πανελληνιο σοσιαλιστι...</td>\n",
              "      <td>2015</td>\n",
              "      <td>359</td>\n",
              "    </tr>\n",
              "    <tr>\n",
              "      <th>1</th>\n",
              "      <td>δημοκρατικη συμπαραταξη (πανελληνιο σοσιαλιστι...</td>\n",
              "      <td>2016</td>\n",
              "      <td>7015</td>\n",
              "    </tr>\n",
              "    <tr>\n",
              "      <th>2</th>\n",
              "      <td>δημοκρατικη συμπαραταξη (πανελληνιο σοσιαλιστι...</td>\n",
              "      <td>2017</td>\n",
              "      <td>4700</td>\n",
              "    </tr>\n",
              "    <tr>\n",
              "      <th>3</th>\n",
              "      <td>δημοκρατικη συμπαραταξη (πανελληνιο σοσιαλιστι...</td>\n",
              "      <td>2018</td>\n",
              "      <td>2907</td>\n",
              "    </tr>\n",
              "    <tr>\n",
              "      <th>4</th>\n",
              "      <td>δημοκρατικη συμπαραταξη (πανελληνιο σοσιαλιστι...</td>\n",
              "      <td>2019</td>\n",
              "      <td>421</td>\n",
              "    </tr>\n",
              "  </tbody>\n",
              "</table>\n",
              "</div>"
            ],
            "text/plain": [
              "                                               party  year  scpeeches_count\n",
              "0  δημοκρατικη συμπαραταξη (πανελληνιο σοσιαλιστι...  2015              359\n",
              "1  δημοκρατικη συμπαραταξη (πανελληνιο σοσιαλιστι...  2016             7015\n",
              "2  δημοκρατικη συμπαραταξη (πανελληνιο σοσιαλιστι...  2017             4700\n",
              "3  δημοκρατικη συμπαραταξη (πανελληνιο σοσιαλιστι...  2018             2907\n",
              "4  δημοκρατικη συμπαραταξη (πανελληνιο σοσιαλιστι...  2019              421"
            ]
          },
          "metadata": {
            "tags": []
          },
          "execution_count": 24
        }
      ]
    },
    {
      "cell_type": "markdown",
      "metadata": {
        "id": "ltXJkzLCjLnn"
      },
      "source": [
        "Here we will see the speeches that each party have made per year."
      ]
    },
    {
      "cell_type": "code",
      "metadata": {
        "colab": {
          "base_uri": "https://localhost:8080/",
          "height": 516
        },
        "id": "auqoSh926yTZ",
        "outputId": "58867781-16ac-4219-a0b7-9fbef9304a20"
      },
      "source": [
        "ggplot(data=speeches_per_year_party) + \\\n",
        "    geom_line(aes(x='year', y='scpeeches_count', group='party', colour='party', fill='party')) + \\\n",
        "        theme(axis_text_x=element_text(angle = 90, hjust = 0.8))"
      ],
      "execution_count": 25,
      "outputs": [
        {
          "output_type": "stream",
          "text": [
            "/usr/local/lib/python3.6/dist-packages/plotnine/utils.py:1246: FutureWarning: is_categorical is deprecated and will be removed in a future version.  Use is_categorical_dtype instead\n",
            "  if pdtypes.is_categorical(arr):\n"
          ],
          "name": "stderr"
        },
        {
          "output_type": "display_data",
          "data": {
            "image/png": "[encoded data removed]",
            "text/plain": [
              "<Figure size 640x480 with 1 Axes>"
            ]
          },
          "metadata": {
            "tags": []
          }
        },
        {
          "output_type": "execute_result",
          "data": {
            "text/plain": [
              "<ggplot: (-9223363264360583971)>"
            ]
          },
          "metadata": {
            "tags": []
          },
          "execution_count": 25
        }
      ]
    },
    {
      "cell_type": "markdown",
      "metadata": {
        "id": "H0_X8brcjXpW"
      },
      "source": [
        "Here we see the same but the speeches are summed for every year."
      ]
    },
    {
      "cell_type": "code",
      "metadata": {
        "colab": {
          "base_uri": "https://localhost:8080/",
          "height": 516
        },
        "id": "2oRkOSf86yTa",
        "outputId": "1dc7aa37-e2e3-44a2-9342-f8759cfd5788"
      },
      "source": [
        "ggplot(data=speeches_per_year_party) + \\\n",
        "    geom_area(aes(x='year', y='scpeeches_count', group='party', fill='party')) + \\\n",
        "        theme(axis_text_x=element_text(angle = 90, hjust = 0.8))"
      ],
      "execution_count": 26,
      "outputs": [
        {
          "output_type": "stream",
          "text": [
            "/usr/local/lib/python3.6/dist-packages/plotnine/utils.py:1246: FutureWarning: is_categorical is deprecated and will be removed in a future version.  Use is_categorical_dtype instead\n",
            "  if pdtypes.is_categorical(arr):\n"
          ],
          "name": "stderr"
        },
        {
          "output_type": "display_data",
          "data": {
            "image/png": "[encoded data removed]",
            "text/plain": [
              "<Figure size 640x480 with 1 Axes>"
            ]
          },
          "metadata": {
            "tags": []
          }
        },
        {
          "output_type": "execute_result",
          "data": {
            "text/plain": [
              "<ggplot: (8772494179122)>"
            ]
          },
          "metadata": {
            "tags": []
          },
          "execution_count": 26
        }
      ]
    },
    {
      "cell_type": "markdown",
      "metadata": {
        "id": "OFmIUr426yTb"
      },
      "source": [
        "### Speakers per Party"
      ]
    },
    {
      "cell_type": "code",
      "metadata": {
        "colab": {
          "base_uri": "https://localhost:8080/",
          "height": 359
        },
        "id": "ABLtUnqD6yTb",
        "outputId": "08343206-ab13-4a76-a327-0ceae860833e"
      },
      "source": [
        "speakers = proceedings[['member_name', 'political_party']].copy()\n",
        "\n",
        "# Keep only the unique members.\n",
        "speakers = speakers.drop_duplicates(subset=['member_name'])\n",
        "\n",
        "speakers_per_party = pd.DataFrame()\n",
        "speakers_per_party['members_count'] = speakers.groupby('political_party')['member_name'].count()\n",
        "speakers_per_party = speakers_per_party.sort_values(by='members_count', ascending=False).reset_index()\n",
        "\n",
        "speakers_per_party"
      ],
      "execution_count": 27,
      "outputs": [
        {
          "output_type": "execute_result",
          "data": {
            "text/html": [
              "<div>\n",
              "<style scoped>\n",
              "    .dataframe tbody tr th:only-of-type {\n",
              "        vertical-align: middle;\n",
              "    }\n",
              "\n",
              "    .dataframe tbody tr th {\n",
              "        vertical-align: top;\n",
              "    }\n",
              "\n",
              "    .dataframe thead th {\n",
              "        text-align: right;\n",
              "    }\n",
              "</style>\n",
              "<table border=\"1\" class=\"dataframe\">\n",
              "  <thead>\n",
              "    <tr style=\"text-align: right;\">\n",
              "      <th></th>\n",
              "      <th>political_party</th>\n",
              "      <th>members_count</th>\n",
              "    </tr>\n",
              "  </thead>\n",
              "  <tbody>\n",
              "    <tr>\n",
              "      <th>0</th>\n",
              "      <td>νεα δημοκρατια</td>\n",
              "      <td>440</td>\n",
              "    </tr>\n",
              "    <tr>\n",
              "      <th>1</th>\n",
              "      <td>πανελληνιο σοσιαλιστικο κινημα</td>\n",
              "      <td>427</td>\n",
              "    </tr>\n",
              "    <tr>\n",
              "      <th>2</th>\n",
              "      <td>συνασπισμος ριζοσπαστικης αριστερας</td>\n",
              "      <td>198</td>\n",
              "    </tr>\n",
              "    <tr>\n",
              "      <th>3</th>\n",
              "      <td>κομμουνιστικο κομμα ελλαδας</td>\n",
              "      <td>52</td>\n",
              "    </tr>\n",
              "    <tr>\n",
              "      <th>4</th>\n",
              "      <td>συνασπισμος της αριστερας των κινηματων και τη...</td>\n",
              "      <td>39</td>\n",
              "    </tr>\n",
              "    <tr>\n",
              "      <th>5</th>\n",
              "      <td>λαικος συνδεσος - χρυση αυγη</td>\n",
              "      <td>26</td>\n",
              "    </tr>\n",
              "    <tr>\n",
              "      <th>6</th>\n",
              "      <td>λαικος ορθοδοξος συναγερμος</td>\n",
              "      <td>16</td>\n",
              "    </tr>\n",
              "    <tr>\n",
              "      <th>7</th>\n",
              "      <td>δημοκρατικο κοινωνικο κινημα</td>\n",
              "      <td>8</td>\n",
              "    </tr>\n",
              "    <tr>\n",
              "      <th>8</th>\n",
              "      <td>ενωση κεντρωων</td>\n",
              "      <td>8</td>\n",
              "    </tr>\n",
              "    <tr>\n",
              "      <th>9</th>\n",
              "      <td>δημοκρατικη συμπαραταξη (πανελληνιο σοσιαλιστι...</td>\n",
              "      <td>3</td>\n",
              "    </tr>\n",
              "  </tbody>\n",
              "</table>\n",
              "</div>"
            ],
            "text/plain": [
              "                                     political_party  members_count\n",
              "0                                     νεα δημοκρατια            440\n",
              "1                     πανελληνιο σοσιαλιστικο κινημα            427\n",
              "2                συνασπισμος ριζοσπαστικης αριστερας            198\n",
              "3                        κομμουνιστικο κομμα ελλαδας             52\n",
              "4  συνασπισμος της αριστερας των κινηματων και τη...             39\n",
              "5                       λαικος συνδεσος - χρυση αυγη             26\n",
              "6                        λαικος ορθοδοξος συναγερμος             16\n",
              "7                       δημοκρατικο κοινωνικο κινημα              8\n",
              "8                                     ενωση κεντρωων              8\n",
              "9  δημοκρατικη συμπαραταξη (πανελληνιο σοσιαλιστι...              3"
            ]
          },
          "metadata": {
            "tags": []
          },
          "execution_count": 27
        }
      ]
    },
    {
      "cell_type": "markdown",
      "metadata": {
        "id": "DXKgPRRxj8K1"
      },
      "source": [
        "Here we see the number of speakers of each party."
      ]
    },
    {
      "cell_type": "code",
      "metadata": {
        "colab": {
          "base_uri": "https://localhost:8080/",
          "height": 500
        },
        "id": "szPyNAVI6yTd",
        "outputId": "dc242227-18b7-4fd5-da6e-bfca0b0f9538"
      },
      "source": [
        "speakers_per_party.plot(x=\"political_party\", y=\"members_count\", kind='barh', figsize=(10,8))"
      ],
      "execution_count": 28,
      "outputs": [
        {
          "output_type": "execute_result",
          "data": {
            "text/plain": [
              "<matplotlib.axes._subplots.AxesSubplot at 0x7fa7f2d70da0>"
            ]
          },
          "metadata": {
            "tags": []
          },
          "execution_count": 28
        },
        {
          "output_type": "display_data",
          "data": {
            "image/png": "[encoded data removed]",
            "text/plain": [
              "<Figure size 720x576 with 1 Axes>"
            ]
          },
          "metadata": {
            "tags": [],
            "needs_background": "light"
          }
        }
      ]
    },
    {
      "cell_type": "markdown",
      "metadata": {
        "id": "Unxy04ki6yTe"
      },
      "source": [
        "### Top Speakers and their Party"
      ]
    },
    {
      "cell_type": "markdown",
      "metadata": {
        "id": "JrHLhH7TkPzW"
      },
      "source": [
        "Let's find the top 10 speakers with the most speeches."
      ]
    },
    {
      "cell_type": "code",
      "metadata": {
        "colab": {
          "base_uri": "https://localhost:8080/",
          "height": 359
        },
        "id": "v86Lyjt86yTg",
        "outputId": "aff25e76-19e0-4e5f-ad26-2e7c3e365750"
      },
      "source": [
        "speakers = pd.DataFrame()\n",
        "speakers['speeches_count'] = proceedings.groupby('member_name')['member_name'].count().sort_values(ascending=False)\n",
        "\n",
        "top_speakers = speakers.head(10).reset_index()\n",
        "\n",
        "top_speakers"
      ],
      "execution_count": 29,
      "outputs": [
        {
          "output_type": "execute_result",
          "data": {
            "text/html": [
              "<div>\n",
              "<style scoped>\n",
              "    .dataframe tbody tr th:only-of-type {\n",
              "        vertical-align: middle;\n",
              "    }\n",
              "\n",
              "    .dataframe tbody tr th {\n",
              "        vertical-align: top;\n",
              "    }\n",
              "\n",
              "    .dataframe thead th {\n",
              "        text-align: right;\n",
              "    }\n",
              "</style>\n",
              "<table border=\"1\" class=\"dataframe\">\n",
              "  <thead>\n",
              "    <tr style=\"text-align: right;\">\n",
              "      <th></th>\n",
              "      <th>member_name</th>\n",
              "      <th>speeches_count</th>\n",
              "    </tr>\n",
              "  </thead>\n",
              "  <tbody>\n",
              "    <tr>\n",
              "      <th>0</th>\n",
              "      <td>κακλαμανης χρηστου αποστολος</td>\n",
              "      <td>11269</td>\n",
              "    </tr>\n",
              "    <tr>\n",
              "      <th>1</th>\n",
              "      <td>λαφαζανης γεωργιου παναγιωτης</td>\n",
              "      <td>9394</td>\n",
              "    </tr>\n",
              "    <tr>\n",
              "      <th>2</th>\n",
              "      <td>παυλοπουλος βασιλειου προκοπιος</td>\n",
              "      <td>8320</td>\n",
              "    </tr>\n",
              "    <tr>\n",
              "      <th>3</th>\n",
              "      <td>κορακας χρηστου ευστρατιος</td>\n",
              "      <td>6835</td>\n",
              "    </tr>\n",
              "    <tr>\n",
              "      <th>4</th>\n",
              "      <td>λοβερδος νικολαου ανδρεας</td>\n",
              "      <td>6824</td>\n",
              "    </tr>\n",
              "    <tr>\n",
              "      <th>5</th>\n",
              "      <td>βενιζελος βασιλειου ευαγγελος</td>\n",
              "      <td>6705</td>\n",
              "    </tr>\n",
              "    <tr>\n",
              "      <th>6</th>\n",
              "      <td>ροντουλης γεωργιου αστεριος</td>\n",
              "      <td>5988</td>\n",
              "    </tr>\n",
              "    <tr>\n",
              "      <th>7</th>\n",
              "      <td>σιουφας γεωργιου δημητριος</td>\n",
              "      <td>5558</td>\n",
              "    </tr>\n",
              "    <tr>\n",
              "      <th>8</th>\n",
              "      <td>γκατζης φιλιππου νικολαος</td>\n",
              "      <td>5489</td>\n",
              "    </tr>\n",
              "    <tr>\n",
              "      <th>9</th>\n",
              "      <td>μητσοτακης κυριακου κωνσταντινος</td>\n",
              "      <td>5197</td>\n",
              "    </tr>\n",
              "  </tbody>\n",
              "</table>\n",
              "</div>"
            ],
            "text/plain": [
              "                        member_name  speeches_count\n",
              "0      κακλαμανης χρηστου αποστολος           11269\n",
              "1     λαφαζανης γεωργιου παναγιωτης            9394\n",
              "2   παυλοπουλος βασιλειου προκοπιος            8320\n",
              "3        κορακας χρηστου ευστρατιος            6835\n",
              "4         λοβερδος νικολαου ανδρεας            6824\n",
              "5     βενιζελος βασιλειου ευαγγελος            6705\n",
              "6       ροντουλης γεωργιου αστεριος            5988\n",
              "7        σιουφας γεωργιου δημητριος            5558\n",
              "8         γκατζης φιλιππου νικολαος            5489\n",
              "9  μητσοτακης κυριακου κωνσταντινος            5197"
            ]
          },
          "metadata": {
            "tags": []
          },
          "execution_count": 29
        }
      ]
    },
    {
      "cell_type": "markdown",
      "metadata": {
        "id": "Qr6-24wUkXcC"
      },
      "source": [
        "Now, we will get their political party."
      ]
    },
    {
      "cell_type": "code",
      "metadata": {
        "colab": {
          "base_uri": "https://localhost:8080/",
          "height": 419
        },
        "id": "mCR0ZFhm6yTi",
        "outputId": "7f1a852b-34a1-4c0d-8d46-66fd7e3bf29c"
      },
      "source": [
        "top_speakers = top_speakers.merge(proceedings[['political_party', 'member_name']], on='member_name')\n",
        "top_speakers"
      ],
      "execution_count": 30,
      "outputs": [
        {
          "output_type": "execute_result",
          "data": {
            "text/html": [
              "<div>\n",
              "<style scoped>\n",
              "    .dataframe tbody tr th:only-of-type {\n",
              "        vertical-align: middle;\n",
              "    }\n",
              "\n",
              "    .dataframe tbody tr th {\n",
              "        vertical-align: top;\n",
              "    }\n",
              "\n",
              "    .dataframe thead th {\n",
              "        text-align: right;\n",
              "    }\n",
              "</style>\n",
              "<table border=\"1\" class=\"dataframe\">\n",
              "  <thead>\n",
              "    <tr style=\"text-align: right;\">\n",
              "      <th></th>\n",
              "      <th>member_name</th>\n",
              "      <th>speeches_count</th>\n",
              "      <th>political_party</th>\n",
              "    </tr>\n",
              "  </thead>\n",
              "  <tbody>\n",
              "    <tr>\n",
              "      <th>0</th>\n",
              "      <td>κακλαμανης χρηστου αποστολος</td>\n",
              "      <td>11269</td>\n",
              "      <td>πανελληνιο σοσιαλιστικο κινημα</td>\n",
              "    </tr>\n",
              "    <tr>\n",
              "      <th>1</th>\n",
              "      <td>κακλαμανης χρηστου αποστολος</td>\n",
              "      <td>11269</td>\n",
              "      <td>πανελληνιο σοσιαλιστικο κινημα</td>\n",
              "    </tr>\n",
              "    <tr>\n",
              "      <th>2</th>\n",
              "      <td>κακλαμανης χρηστου αποστολος</td>\n",
              "      <td>11269</td>\n",
              "      <td>πανελληνιο σοσιαλιστικο κινημα</td>\n",
              "    </tr>\n",
              "    <tr>\n",
              "      <th>3</th>\n",
              "      <td>κακλαμανης χρηστου αποστολος</td>\n",
              "      <td>11269</td>\n",
              "      <td>πανελληνιο σοσιαλιστικο κινημα</td>\n",
              "    </tr>\n",
              "    <tr>\n",
              "      <th>4</th>\n",
              "      <td>κακλαμανης χρηστου αποστολος</td>\n",
              "      <td>11269</td>\n",
              "      <td>πανελληνιο σοσιαλιστικο κινημα</td>\n",
              "    </tr>\n",
              "    <tr>\n",
              "      <th>...</th>\n",
              "      <td>...</td>\n",
              "      <td>...</td>\n",
              "      <td>...</td>\n",
              "    </tr>\n",
              "    <tr>\n",
              "      <th>71574</th>\n",
              "      <td>μητσοτακης κυριακου κωνσταντινος</td>\n",
              "      <td>5197</td>\n",
              "      <td>νεα δημοκρατια</td>\n",
              "    </tr>\n",
              "    <tr>\n",
              "      <th>71575</th>\n",
              "      <td>μητσοτακης κυριακου κωνσταντινος</td>\n",
              "      <td>5197</td>\n",
              "      <td>νεα δημοκρατια</td>\n",
              "    </tr>\n",
              "    <tr>\n",
              "      <th>71576</th>\n",
              "      <td>μητσοτακης κυριακου κωνσταντινος</td>\n",
              "      <td>5197</td>\n",
              "      <td>νεα δημοκρατια</td>\n",
              "    </tr>\n",
              "    <tr>\n",
              "      <th>71577</th>\n",
              "      <td>μητσοτακης κυριακου κωνσταντινος</td>\n",
              "      <td>5197</td>\n",
              "      <td>νεα δημοκρατια</td>\n",
              "    </tr>\n",
              "    <tr>\n",
              "      <th>71578</th>\n",
              "      <td>μητσοτακης κυριακου κωνσταντινος</td>\n",
              "      <td>5197</td>\n",
              "      <td>νεα δημοκρατια</td>\n",
              "    </tr>\n",
              "  </tbody>\n",
              "</table>\n",
              "<p>71579 rows × 3 columns</p>\n",
              "</div>"
            ],
            "text/plain": [
              "                            member_name  ...                 political_party\n",
              "0          κακλαμανης χρηστου αποστολος  ...  πανελληνιο σοσιαλιστικο κινημα\n",
              "1          κακλαμανης χρηστου αποστολος  ...  πανελληνιο σοσιαλιστικο κινημα\n",
              "2          κακλαμανης χρηστου αποστολος  ...  πανελληνιο σοσιαλιστικο κινημα\n",
              "3          κακλαμανης χρηστου αποστολος  ...  πανελληνιο σοσιαλιστικο κινημα\n",
              "4          κακλαμανης χρηστου αποστολος  ...  πανελληνιο σοσιαλιστικο κινημα\n",
              "...                                 ...  ...                             ...\n",
              "71574  μητσοτακης κυριακου κωνσταντινος  ...                  νεα δημοκρατια\n",
              "71575  μητσοτακης κυριακου κωνσταντινος  ...                  νεα δημοκρατια\n",
              "71576  μητσοτακης κυριακου κωνσταντινος  ...                  νεα δημοκρατια\n",
              "71577  μητσοτακης κυριακου κωνσταντινος  ...                  νεα δημοκρατια\n",
              "71578  μητσοτακης κυριακου κωνσταντινος  ...                  νεα δημοκρατια\n",
              "\n",
              "[71579 rows x 3 columns]"
            ]
          },
          "metadata": {
            "tags": []
          },
          "execution_count": 30
        }
      ]
    },
    {
      "cell_type": "code",
      "metadata": {
        "colab": {
          "base_uri": "https://localhost:8080/",
          "height": 483
        },
        "id": "0kfRTeox6yTj",
        "outputId": "cb1ba024-207a-4395-c8d7-5e39b199a0ed"
      },
      "source": [
        "top_speakers = top_speakers.drop_duplicates()\n",
        "top_speakers"
      ],
      "execution_count": 31,
      "outputs": [
        {
          "output_type": "execute_result",
          "data": {
            "text/html": [
              "<div>\n",
              "<style scoped>\n",
              "    .dataframe tbody tr th:only-of-type {\n",
              "        vertical-align: middle;\n",
              "    }\n",
              "\n",
              "    .dataframe tbody tr th {\n",
              "        vertical-align: top;\n",
              "    }\n",
              "\n",
              "    .dataframe thead th {\n",
              "        text-align: right;\n",
              "    }\n",
              "</style>\n",
              "<table border=\"1\" class=\"dataframe\">\n",
              "  <thead>\n",
              "    <tr style=\"text-align: right;\">\n",
              "      <th></th>\n",
              "      <th>member_name</th>\n",
              "      <th>speeches_count</th>\n",
              "      <th>political_party</th>\n",
              "    </tr>\n",
              "  </thead>\n",
              "  <tbody>\n",
              "    <tr>\n",
              "      <th>0</th>\n",
              "      <td>κακλαμανης χρηστου αποστολος</td>\n",
              "      <td>11269</td>\n",
              "      <td>πανελληνιο σοσιαλιστικο κινημα</td>\n",
              "    </tr>\n",
              "    <tr>\n",
              "      <th>11269</th>\n",
              "      <td>λαφαζανης γεωργιου παναγιωτης</td>\n",
              "      <td>9394</td>\n",
              "      <td>συνασπισμος της αριστερας των κινηματων και τη...</td>\n",
              "    </tr>\n",
              "    <tr>\n",
              "      <th>12791</th>\n",
              "      <td>λαφαζανης γεωργιου παναγιωτης</td>\n",
              "      <td>9394</td>\n",
              "      <td>συνασπισμος ριζοσπαστικης αριστερας</td>\n",
              "    </tr>\n",
              "    <tr>\n",
              "      <th>20663</th>\n",
              "      <td>παυλοπουλος βασιλειου προκοπιος</td>\n",
              "      <td>8320</td>\n",
              "      <td>νεα δημοκρατια</td>\n",
              "    </tr>\n",
              "    <tr>\n",
              "      <th>28983</th>\n",
              "      <td>κορακας χρηστου ευστρατιος</td>\n",
              "      <td>6835</td>\n",
              "      <td>κομμουνιστικο κομμα ελλαδας</td>\n",
              "    </tr>\n",
              "    <tr>\n",
              "      <th>29055</th>\n",
              "      <td>κορακας χρηστου ευστρατιος</td>\n",
              "      <td>6835</td>\n",
              "      <td>συνασπισμος της αριστερας των κινηματων και τη...</td>\n",
              "    </tr>\n",
              "    <tr>\n",
              "      <th>35818</th>\n",
              "      <td>λοβερδος νικολαου ανδρεας</td>\n",
              "      <td>6824</td>\n",
              "      <td>πανελληνιο σοσιαλιστικο κινημα</td>\n",
              "    </tr>\n",
              "    <tr>\n",
              "      <th>39526</th>\n",
              "      <td>λοβερδος νικολαου ανδρεας</td>\n",
              "      <td>6824</td>\n",
              "      <td>δημοκρατικη συμπαραταξη (πανελληνιο σοσιαλιστι...</td>\n",
              "    </tr>\n",
              "    <tr>\n",
              "      <th>42642</th>\n",
              "      <td>βενιζελος βασιλειου ευαγγελος</td>\n",
              "      <td>6705</td>\n",
              "      <td>πανελληνιο σοσιαλιστικο κινημα</td>\n",
              "    </tr>\n",
              "    <tr>\n",
              "      <th>49025</th>\n",
              "      <td>βενιζελος βασιλειου ευαγγελος</td>\n",
              "      <td>6705</td>\n",
              "      <td>δημοκρατικη συμπαραταξη (πανελληνιο σοσιαλιστι...</td>\n",
              "    </tr>\n",
              "    <tr>\n",
              "      <th>49347</th>\n",
              "      <td>ροντουλης γεωργιου αστεριος</td>\n",
              "      <td>5988</td>\n",
              "      <td>λαικος ορθοδοξος συναγερμος</td>\n",
              "    </tr>\n",
              "    <tr>\n",
              "      <th>55335</th>\n",
              "      <td>σιουφας γεωργιου δημητριος</td>\n",
              "      <td>5558</td>\n",
              "      <td>νεα δημοκρατια</td>\n",
              "    </tr>\n",
              "    <tr>\n",
              "      <th>60893</th>\n",
              "      <td>γκατζης φιλιππου νικολαος</td>\n",
              "      <td>5489</td>\n",
              "      <td>κομμουνιστικο κομμα ελλαδας</td>\n",
              "    </tr>\n",
              "    <tr>\n",
              "      <th>66382</th>\n",
              "      <td>μητσοτακης κυριακου κωνσταντινος</td>\n",
              "      <td>5197</td>\n",
              "      <td>νεα δημοκρατια</td>\n",
              "    </tr>\n",
              "  </tbody>\n",
              "</table>\n",
              "</div>"
            ],
            "text/plain": [
              "                            member_name  ...                                    political_party\n",
              "0          κακλαμανης χρηστου αποστολος  ...                     πανελληνιο σοσιαλιστικο κινημα\n",
              "11269     λαφαζανης γεωργιου παναγιωτης  ...  συνασπισμος της αριστερας των κινηματων και τη...\n",
              "12791     λαφαζανης γεωργιου παναγιωτης  ...                συνασπισμος ριζοσπαστικης αριστερας\n",
              "20663   παυλοπουλος βασιλειου προκοπιος  ...                                     νεα δημοκρατια\n",
              "28983        κορακας χρηστου ευστρατιος  ...                        κομμουνιστικο κομμα ελλαδας\n",
              "29055        κορακας χρηστου ευστρατιος  ...  συνασπισμος της αριστερας των κινηματων και τη...\n",
              "35818         λοβερδος νικολαου ανδρεας  ...                     πανελληνιο σοσιαλιστικο κινημα\n",
              "39526         λοβερδος νικολαου ανδρεας  ...  δημοκρατικη συμπαραταξη (πανελληνιο σοσιαλιστι...\n",
              "42642     βενιζελος βασιλειου ευαγγελος  ...                     πανελληνιο σοσιαλιστικο κινημα\n",
              "49025     βενιζελος βασιλειου ευαγγελος  ...  δημοκρατικη συμπαραταξη (πανελληνιο σοσιαλιστι...\n",
              "49347       ροντουλης γεωργιου αστεριος  ...                        λαικος ορθοδοξος συναγερμος\n",
              "55335        σιουφας γεωργιου δημητριος  ...                                     νεα δημοκρατια\n",
              "60893         γκατζης φιλιππου νικολαος  ...                        κομμουνιστικο κομμα ελλαδας\n",
              "66382  μητσοτακης κυριακου κωνσταντινος  ...                                     νεα δημοκρατια\n",
              "\n",
              "[14 rows x 3 columns]"
            ]
          },
          "metadata": {
            "tags": []
          },
          "execution_count": 31
        }
      ]
    },
    {
      "cell_type": "markdown",
      "metadata": {
        "id": "FdXoxt3D6yTk"
      },
      "source": [
        "We see that `λαφαζανης γεωργιου παναγιωτης`, `κορακας χρηστου ευστρατιος`, `βενιζελος βασιλειου ευαγγελος` and `λοβερδος νικολαου ανδρεας` were members of two differnt patries. So we must count the speeches that they made as members of each one of the different parties."
      ]
    },
    {
      "cell_type": "code",
      "metadata": {
        "colab": {
          "base_uri": "https://localhost:8080/",
          "height": 585
        },
        "id": "t9fXRmWx6yTl",
        "outputId": "c59bde9a-0a2c-4f7b-9d9b-f386490af28d"
      },
      "source": [
        "# Count the speeches he made for each party.\n",
        "laf_saoi = proceedings[(proceedings['member_name'] == 'λαφαζανης γεωργιου παναγιωτης') \n",
        "                        & (proceedings['political_party'] == 'συνασπισμος της αριστερας των κινηματων και της οικολογιας')].shape[0]\n",
        "laf_sr = proceedings[(proceedings['member_name'] == 'λαφαζανης γεωργιου παναγιωτης') & (proceedings['political_party'] == 'συνασπισμος ριζοσπαστικης αριστερας')].shape[0]\n",
        "\n",
        "kor_kke = proceedings[(proceedings['member_name'] == 'κορακας χρηστου ευστρατιος') & (proceedings['political_party'] == 'κομμουνιστικο κομμα ελλαδας')].shape[0]\n",
        "kor_saoi = proceedings[(proceedings['member_name'] == 'κορακας χρηστου ευστρατιος') \n",
        "                        & (proceedings['political_party'] == 'συνασπισμος της αριστερας των κινηματων και της οικολογιας')].shape[0]\n",
        "\n",
        "lov_pasok = proceedings[(proceedings['member_name'] == 'λοβερδος νικολαου ανδρεας') & (proceedings['political_party'] == 'πανελληνιο σοσιαλιστικο κινημα')].shape[0]\n",
        "lov_dimar = proceedings[(proceedings['member_name'] == 'λοβερδος νικολαου ανδρεας') & (proceedings['political_party'] == 'δημοκρατικη συμπαραταξη (πανελληνιο σοσιαλιστικο κινημα - δημοκρατικη αριστερα)')].shape[0]\n",
        "\n",
        "ven_pasok = proceedings[(proceedings['member_name'] == 'βενιζελος βασιλειου ευαγγελος') & (proceedings['political_party'] == 'πανελληνιο σοσιαλιστικο κινημα')].shape[0]\n",
        "ven_dimar = proceedings[(proceedings['member_name'] == 'βενιζελος βασιλειου ευαγγελος') & (proceedings['political_party'] == 'δημοκρατικη συμπαραταξη (πανελληνιο σοσιαλιστικο κινημα - δημοκρατικη αριστερα)')].shape[0]\n",
        "\n",
        "\n",
        "# Update the values.\n",
        "top_speakers.loc[(top_speakers['member_name'] == 'λαφαζανης γεωργιου παναγιωτης') \n",
        "                & (top_speakers['political_party'] == 'συνασπισμος της αριστερας των κινηματων και της οικολογιας'), 'speeches_count'] = laf_saoi\n",
        "top_speakers.loc[(top_speakers['member_name'] == 'λαφαζανης γεωργιου παναγιωτης') \n",
        "                & (top_speakers['political_party'] == 'συνασπισμος ριζοσπαστικης αριστερας'), 'speeches_count'] = laf_sr\n",
        "\n",
        "top_speakers.loc[(top_speakers['member_name'] == 'κορακας χρηστου ευστρατιος') \n",
        "                & (top_speakers['political_party'] == 'κομμουνιστικο κομμα ελλαδας'), 'speeches_count'] = kor_kke\n",
        "top_speakers.loc[(top_speakers['member_name'] == 'κορακας χρηστου ευστρατιος') \n",
        "                & (top_speakers['political_party'] == 'συνασπισμος της αριστερας των κινηματων και της οικολογιας'), 'speeches_count'] = kor_saoi\n",
        "\n",
        "top_speakers.loc[(top_speakers['member_name'] == 'λοβερδος νικολαου ανδρεας') \n",
        "                & (top_speakers['political_party'] == 'πανελληνιο σοσιαλιστικο κινημα'), 'speeches_count'] = lov_pasok\n",
        "top_speakers.loc[(top_speakers['member_name'] == 'λοβερδος νικολαου ανδρεας') \n",
        "                & (top_speakers['political_party'] == 'δημοκρατικη συμπαραταξη (πανελληνιο σοσιαλιστικο κινημα - δημοκρατικη αριστερα)'), 'speeches_count'] = lov_dimar\n",
        "\n",
        "top_speakers.loc[(top_speakers['member_name'] == 'βενιζελος βασιλειου ευαγγελος') \n",
        "                & (top_speakers['political_party'] == 'πανελληνιο σοσιαλιστικο κινημα'), 'speeches_count'] = ven_pasok\n",
        "top_speakers.loc[(top_speakers['member_name'] == 'βενιζελος βασιλειου ευαγγελος') \n",
        "                & (top_speakers['political_party'] == 'δημοκρατικη συμπαραταξη (πανελληνιο σοσιαλιστικο κινημα - δημοκρατικη αριστερα)'), 'speeches_count'] = ven_dimar\n",
        "\n",
        "top_speakers"
      ],
      "execution_count": 32,
      "outputs": [
        {
          "output_type": "stream",
          "text": [
            "/usr/local/lib/python3.6/dist-packages/pandas/core/indexing.py:1763: SettingWithCopyWarning: \n",
            "A value is trying to be set on a copy of a slice from a DataFrame.\n",
            "Try using .loc[row_indexer,col_indexer] = value instead\n",
            "\n",
            "See the caveats in the documentation: https://pandas.pydata.org/pandas-docs/stable/user_guide/indexing.html#returning-a-view-versus-a-copy\n",
            "  isetter(loc, value)\n"
          ],
          "name": "stderr"
        },
        {
          "output_type": "execute_result",
          "data": {
            "text/html": [
              "<div>\n",
              "<style scoped>\n",
              "    .dataframe tbody tr th:only-of-type {\n",
              "        vertical-align: middle;\n",
              "    }\n",
              "\n",
              "    .dataframe tbody tr th {\n",
              "        vertical-align: top;\n",
              "    }\n",
              "\n",
              "    .dataframe thead th {\n",
              "        text-align: right;\n",
              "    }\n",
              "</style>\n",
              "<table border=\"1\" class=\"dataframe\">\n",
              "  <thead>\n",
              "    <tr style=\"text-align: right;\">\n",
              "      <th></th>\n",
              "      <th>member_name</th>\n",
              "      <th>speeches_count</th>\n",
              "      <th>political_party</th>\n",
              "    </tr>\n",
              "  </thead>\n",
              "  <tbody>\n",
              "    <tr>\n",
              "      <th>0</th>\n",
              "      <td>κακλαμανης χρηστου αποστολος</td>\n",
              "      <td>11269</td>\n",
              "      <td>πανελληνιο σοσιαλιστικο κινημα</td>\n",
              "    </tr>\n",
              "    <tr>\n",
              "      <th>11269</th>\n",
              "      <td>λαφαζανης γεωργιου παναγιωτης</td>\n",
              "      <td>1522</td>\n",
              "      <td>συνασπισμος της αριστερας των κινηματων και τη...</td>\n",
              "    </tr>\n",
              "    <tr>\n",
              "      <th>12791</th>\n",
              "      <td>λαφαζανης γεωργιου παναγιωτης</td>\n",
              "      <td>7872</td>\n",
              "      <td>συνασπισμος ριζοσπαστικης αριστερας</td>\n",
              "    </tr>\n",
              "    <tr>\n",
              "      <th>20663</th>\n",
              "      <td>παυλοπουλος βασιλειου προκοπιος</td>\n",
              "      <td>8320</td>\n",
              "      <td>νεα δημοκρατια</td>\n",
              "    </tr>\n",
              "    <tr>\n",
              "      <th>28983</th>\n",
              "      <td>κορακας χρηστου ευστρατιος</td>\n",
              "      <td>3871</td>\n",
              "      <td>κομμουνιστικο κομμα ελλαδας</td>\n",
              "    </tr>\n",
              "    <tr>\n",
              "      <th>29055</th>\n",
              "      <td>κορακας χρηστου ευστρατιος</td>\n",
              "      <td>2964</td>\n",
              "      <td>συνασπισμος της αριστερας των κινηματων και τη...</td>\n",
              "    </tr>\n",
              "    <tr>\n",
              "      <th>35818</th>\n",
              "      <td>λοβερδος νικολαου ανδρεας</td>\n",
              "      <td>3708</td>\n",
              "      <td>πανελληνιο σοσιαλιστικο κινημα</td>\n",
              "    </tr>\n",
              "    <tr>\n",
              "      <th>39526</th>\n",
              "      <td>λοβερδος νικολαου ανδρεας</td>\n",
              "      <td>3116</td>\n",
              "      <td>δημοκρατικη συμπαραταξη (πανελληνιο σοσιαλιστι...</td>\n",
              "    </tr>\n",
              "    <tr>\n",
              "      <th>42642</th>\n",
              "      <td>βενιζελος βασιλειου ευαγγελος</td>\n",
              "      <td>6383</td>\n",
              "      <td>πανελληνιο σοσιαλιστικο κινημα</td>\n",
              "    </tr>\n",
              "    <tr>\n",
              "      <th>49025</th>\n",
              "      <td>βενιζελος βασιλειου ευαγγελος</td>\n",
              "      <td>322</td>\n",
              "      <td>δημοκρατικη συμπαραταξη (πανελληνιο σοσιαλιστι...</td>\n",
              "    </tr>\n",
              "    <tr>\n",
              "      <th>49347</th>\n",
              "      <td>ροντουλης γεωργιου αστεριος</td>\n",
              "      <td>5988</td>\n",
              "      <td>λαικος ορθοδοξος συναγερμος</td>\n",
              "    </tr>\n",
              "    <tr>\n",
              "      <th>55335</th>\n",
              "      <td>σιουφας γεωργιου δημητριος</td>\n",
              "      <td>5558</td>\n",
              "      <td>νεα δημοκρατια</td>\n",
              "    </tr>\n",
              "    <tr>\n",
              "      <th>60893</th>\n",
              "      <td>γκατζης φιλιππου νικολαος</td>\n",
              "      <td>5489</td>\n",
              "      <td>κομμουνιστικο κομμα ελλαδας</td>\n",
              "    </tr>\n",
              "    <tr>\n",
              "      <th>66382</th>\n",
              "      <td>μητσοτακης κυριακου κωνσταντινος</td>\n",
              "      <td>5197</td>\n",
              "      <td>νεα δημοκρατια</td>\n",
              "    </tr>\n",
              "  </tbody>\n",
              "</table>\n",
              "</div>"
            ],
            "text/plain": [
              "                            member_name  ...                                    political_party\n",
              "0          κακλαμανης χρηστου αποστολος  ...                     πανελληνιο σοσιαλιστικο κινημα\n",
              "11269     λαφαζανης γεωργιου παναγιωτης  ...  συνασπισμος της αριστερας των κινηματων και τη...\n",
              "12791     λαφαζανης γεωργιου παναγιωτης  ...                συνασπισμος ριζοσπαστικης αριστερας\n",
              "20663   παυλοπουλος βασιλειου προκοπιος  ...                                     νεα δημοκρατια\n",
              "28983        κορακας χρηστου ευστρατιος  ...                        κομμουνιστικο κομμα ελλαδας\n",
              "29055        κορακας χρηστου ευστρατιος  ...  συνασπισμος της αριστερας των κινηματων και τη...\n",
              "35818         λοβερδος νικολαου ανδρεας  ...                     πανελληνιο σοσιαλιστικο κινημα\n",
              "39526         λοβερδος νικολαου ανδρεας  ...  δημοκρατικη συμπαραταξη (πανελληνιο σοσιαλιστι...\n",
              "42642     βενιζελος βασιλειου ευαγγελος  ...                     πανελληνιο σοσιαλιστικο κινημα\n",
              "49025     βενιζελος βασιλειου ευαγγελος  ...  δημοκρατικη συμπαραταξη (πανελληνιο σοσιαλιστι...\n",
              "49347       ροντουλης γεωργιου αστεριος  ...                        λαικος ορθοδοξος συναγερμος\n",
              "55335        σιουφας γεωργιου δημητριος  ...                                     νεα δημοκρατια\n",
              "60893         γκατζης φιλιππου νικολαος  ...                        κομμουνιστικο κομμα ελλαδας\n",
              "66382  μητσοτακης κυριακου κωνσταντινος  ...                                     νεα δημοκρατια\n",
              "\n",
              "[14 rows x 3 columns]"
            ]
          },
          "metadata": {
            "tags": []
          },
          "execution_count": 32
        }
      ]
    },
    {
      "cell_type": "markdown",
      "metadata": {
        "id": "G-4gjSmPkdHr"
      },
      "source": [
        "Here we see the 10 politicians with the most speeches made and the party that they belonged to when they made the speeches."
      ]
    },
    {
      "cell_type": "code",
      "metadata": {
        "colab": {
          "base_uri": "https://localhost:8080/",
          "height": 560
        },
        "id": "kXOX49Zl6yTn",
        "outputId": "0b551698-2104-4536-c728-f8ff0f08c3db"
      },
      "source": [
        "plt.figure(figsize=(16, 6))\n",
        "sns.barplot(x=\"member_name\", y=\"speeches_count\", hue=\"political_party\", data=top_speakers)\n",
        "plt.xticks(rotation=75)\n",
        "plt.show()"
      ],
      "execution_count": 33,
      "outputs": [
        {
          "output_type": "display_data",
          "data": {
            "image/png": "[encoded data removed]",
            "text/plain": [
              "<Figure size 1152x432 with 1 Axes>"
            ]
          },
          "metadata": {
            "tags": [],
            "needs_background": "light"
          }
        }
      ]
    },
    {
      "cell_type": "markdown",
      "metadata": {
        "id": "zAYSbKgsWsZw"
      },
      "source": [
        "## Split Data to Training and Testing"
      ]
    },
    {
      "cell_type": "markdown",
      "metadata": {
        "id": "bED4-BUZg-KK"
      },
      "source": [
        "Let's create a new dataframe and put there only the data tha we need for our models."
      ]
    },
    {
      "cell_type": "code",
      "metadata": {
        "colab": {
          "base_uri": "https://localhost:8080/",
          "height": 0
        },
        "id": "7WjoZJooGbgE",
        "outputId": "b154aee6-e101-4a1a-9355-69ca727edb18"
      },
      "source": [
        "text = pd.DataFrame()\r\n",
        "text[['data', 'target']] = proceedings[[ 'speech', 'political_party']].copy()\r\n",
        "text"
      ],
      "execution_count": 14,
      "outputs": [
        {
          "output_type": "execute_result",
          "data": {
            "text/html": [
              "<div>\n",
              "<style scoped>\n",
              "    .dataframe tbody tr th:only-of-type {\n",
              "        vertical-align: middle;\n",
              "    }\n",
              "\n",
              "    .dataframe tbody tr th {\n",
              "        vertical-align: top;\n",
              "    }\n",
              "\n",
              "    .dataframe thead th {\n",
              "        text-align: right;\n",
              "    }\n",
              "</style>\n",
              "<table border=\"1\" class=\"dataframe\">\n",
              "  <thead>\n",
              "    <tr style=\"text-align: right;\">\n",
              "      <th></th>\n",
              "      <th>data</th>\n",
              "      <th>target</th>\n",
              "    </tr>\n",
              "  </thead>\n",
              "  <tbody>\n",
              "    <tr>\n",
              "      <th>12</th>\n",
              "      <td>Κύριε Πρόεδρε, δεν έχουν μοιραστεί όλα τα ψηφ...</td>\n",
              "      <td>πανελληνιο σοσιαλιστικο κινημα</td>\n",
              "    </tr>\n",
              "    <tr>\n",
              "      <th>16</th>\n",
              "      <td>~\"ΕΦΗΜΕΡΙΣ ΤΗΣ ΚΥΒΕΡΝΗΣΕΩΣ ΤΗΣ ΕΛΛΗΝΙΚΗΣ ΔΗΜΟ...</td>\n",
              "      <td>νεα δημοκρατια</td>\n",
              "    </tr>\n",
              "    <tr>\n",
              "      <th>18</th>\n",
              "      <td>Να μας τη διαβάσετε.</td>\n",
              "      <td>πανελληνιο σοσιαλιστικο κινημα</td>\n",
              "    </tr>\n",
              "    <tr>\n",
              "      <th>21</th>\n",
              "      <td>Κύριε Πρόεδρε, κατ' αρχή θα πω μερικές κουβέν...</td>\n",
              "      <td>πανελληνιο σοσιαλιστικο κινημα</td>\n",
              "    </tr>\n",
              "    <tr>\n",
              "      <th>23</th>\n",
              "      <td>Λέει ο Κανονισμός ότι σε εξαιρετικές περιπτώσ...</td>\n",
              "      <td>πανελληνιο σοσιαλιστικο κινημα</td>\n",
              "    </tr>\n",
              "    <tr>\n",
              "      <th>...</th>\n",
              "      <td>...</td>\n",
              "      <td>...</td>\n",
              "    </tr>\n",
              "    <tr>\n",
              "      <th>1194392</th>\n",
              "      <td>Μα, τι λέτε τώρα;</td>\n",
              "      <td>νεα δημοκρατια</td>\n",
              "    </tr>\n",
              "    <tr>\n",
              "      <th>1194393</th>\n",
              "      <td>Καταλαβαίνετε τι λέτε τώρα; Αυτό είναι το πρώ...</td>\n",
              "      <td>συνασπισμος ριζοσπαστικης αριστερας</td>\n",
              "    </tr>\n",
              "    <tr>\n",
              "      <th>1194395</th>\n",
              "      <td>Ευχαριστώ, κύριε Πρόεδρε.Κύριε Υπουργέ, έγινα...</td>\n",
              "      <td>κομμουνιστικο κομμα ελλαδας</td>\n",
              "    </tr>\n",
              "    <tr>\n",
              "      <th>1194397</th>\n",
              "      <td>Ολοκλήρωσα, κύριε Πρόεδρε. Αντιλαμβάνεστε ότι...</td>\n",
              "      <td>κομμουνιστικο κομμα ελλαδας</td>\n",
              "    </tr>\n",
              "    <tr>\n",
              "      <th>1194402</th>\n",
              "      <td>Κύριε Πρόεδρε, οι καταστροφές προφανώς δεν ήτ...</td>\n",
              "      <td>κομμουνιστικο κομμα ελλαδας</td>\n",
              "    </tr>\n",
              "  </tbody>\n",
              "</table>\n",
              "<p>686977 rows × 2 columns</p>\n",
              "</div>"
            ],
            "text/plain": [
              "                                                      data                               target\n",
              "12        Κύριε Πρόεδρε, δεν έχουν μοιραστεί όλα τα ψηφ...       πανελληνιο σοσιαλιστικο κινημα\n",
              "16        ~\"ΕΦΗΜΕΡΙΣ ΤΗΣ ΚΥΒΕΡΝΗΣΕΩΣ ΤΗΣ ΕΛΛΗΝΙΚΗΣ ΔΗΜΟ...                       νεα δημοκρατια\n",
              "18                                    Να μας τη διαβάσετε.       πανελληνιο σοσιαλιστικο κινημα\n",
              "21        Κύριε Πρόεδρε, κατ' αρχή θα πω μερικές κουβέν...       πανελληνιο σοσιαλιστικο κινημα\n",
              "23        Λέει ο Κανονισμός ότι σε εξαιρετικές περιπτώσ...       πανελληνιο σοσιαλιστικο κινημα\n",
              "...                                                    ...                                  ...\n",
              "1194392                                  Μα, τι λέτε τώρα;                       νεα δημοκρατια\n",
              "1194393   Καταλαβαίνετε τι λέτε τώρα; Αυτό είναι το πρώ...  συνασπισμος ριζοσπαστικης αριστερας\n",
              "1194395   Ευχαριστώ, κύριε Πρόεδρε.Κύριε Υπουργέ, έγινα...          κομμουνιστικο κομμα ελλαδας\n",
              "1194397   Ολοκλήρωσα, κύριε Πρόεδρε. Αντιλαμβάνεστε ότι...          κομμουνιστικο κομμα ελλαδας\n",
              "1194402   Κύριε Πρόεδρε, οι καταστροφές προφανώς δεν ήτ...          κομμουνιστικο κομμα ελλαδας\n",
              "\n",
              "[686977 rows x 2 columns]"
            ]
          },
          "metadata": {
            "tags": []
          },
          "execution_count": 14
        }
      ]
    },
    {
      "cell_type": "code",
      "metadata": {
        "id": "QfpWMtE1Kugd"
      },
      "source": [
        "data = text.data\r\n",
        "target = text.target\r\n",
        "target_names = sorted(text.target.unique().tolist())"
      ],
      "execution_count": 15,
      "outputs": []
    },
    {
      "cell_type": "markdown",
      "metadata": {
        "id": "XNlWH9N8g0c9"
      },
      "source": [
        "We split the data to 70% training and 30% testing."
      ]
    },
    {
      "cell_type": "code",
      "metadata": {
        "id": "p_T8RtO_HDCn"
      },
      "source": [
        "from sklearn.model_selection import train_test_split\r\n",
        "\r\n",
        "X_train, X_test, y_train, y_test = train_test_split(data, target, test_size=0.3, random_state = 42)"
      ],
      "execution_count": 16,
      "outputs": []
    },
    {
      "cell_type": "markdown",
      "metadata": {
        "id": "PeI4wBU_foKf"
      },
      "source": [
        "## Classification without Neural Networks\r\n",
        "\r\n",
        "Now we are ready to start training a model that predicts the political party, using classification algorithms. But first we will create a preprocessing method that transforms all letters to lower cases and removes digits. We will use this method for all of our algorithms."
      ]
    },
    {
      "cell_type": "code",
      "metadata": {
        "id": "vIIx1LX8GXSI"
      },
      "source": [
        "import re\r\n",
        "\r\n",
        "def preprocess_text(text):\r\n",
        "    text = text.lower()\r\n",
        "    text = re.sub(r'\\d+', '', text)\r\n",
        "    return text"
      ],
      "execution_count": 17,
      "outputs": []
    },
    {
      "cell_type": "markdown",
      "metadata": {
        "id": "u-OJGdp127FC"
      },
      "source": [
        "For every classification algorithm that we will use next, we will create a pipline with:\r\n",
        "  - CountVectorizer: which converts a collection of text documents to a matrix of token counts.\r\n",
        "  - TfidfTransformer: which transforms a count matrix to a normalized term-frequency or term-frequency times inverse document-frequency representation."
      ]
    },
    {
      "cell_type": "markdown",
      "metadata": {
        "id": "y48I6TFBWa8q"
      },
      "source": [
        "### Multinomial Naive Bayes"
      ]
    },
    {
      "cell_type": "code",
      "metadata": {
        "colab": {
          "base_uri": "https://localhost:8080/"
        },
        "id": "_RJCSJLB9_a-",
        "outputId": "d40a2153-a847-4308-a5fc-653f06c95473"
      },
      "source": [
        "text_clf = Pipeline([('vect', CountVectorizer(preprocessor=preprocess_text)),\r\n",
        "                     ('tfidf', TfidfTransformer()),\r\n",
        "                     ('clf', MultinomialNB()),\r\n",
        "                    ])\r\n",
        "\r\n",
        "text_clf.fit(X_train, y_train)\r\n",
        "\r\n",
        "predicted = text_clf.predict(X_test)\r\n",
        "print('Score:', np.mean(predicted == y_test), end='\\n\\n')\r\n",
        "\r\n",
        "print(classification_report(y_test, predicted,\r\n",
        "                                    target_names=target_names))"
      ],
      "execution_count": null,
      "outputs": [
        {
          "output_type": "stream",
          "text": [
            "Score: 0.44373926460741214\n",
            "\n"
          ],
          "name": "stdout"
        },
        {
          "output_type": "stream",
          "text": [
            "/usr/local/lib/python3.6/dist-packages/sklearn/metrics/_classification.py:1272: UndefinedMetricWarning: Precision and F-score are ill-defined and being set to 0.0 in labels with no predicted samples. Use `zero_division` parameter to control this behavior.\n",
            "  _warn_prf(average, modifier, msg_start, len(result))\n"
          ],
          "name": "stderr"
        },
        {
          "output_type": "stream",
          "text": [
            "                                                                                 precision    recall  f1-score   support\n",
            "\n",
            "δημοκρατικη συμπαραταξη (πανελληνιο σοσιαλιστικο κινημα - δημοκρατικη αριστερα)       0.00      0.00      0.00      4747\n",
            "                                                   δημοκρατικο κοινωνικο κινημα       0.00      0.00      0.00      1834\n",
            "                                                                 ενωση κεντρωων       0.00      0.00      0.00      1983\n",
            "                                                    κομμουνιστικο κομμα ελλαδας       0.42      0.32      0.36     18726\n",
            "                                                    λαικος ορθοδοξος συναγερμος       0.50      0.00      0.00      5083\n",
            "                                                   λαικος συνδεσος - χρυση αυγη       0.00      0.00      0.00      4179\n",
            "                                                                 νεα δημοκρατια       0.44      0.65      0.52     69911\n",
            "                                                 πανελληνιο σοσιαλιστικο κινημα       0.46      0.59      0.51     67821\n",
            "                                            συνασπισμος ριζοσπαστικης αριστερας       0.76      0.01      0.02     24478\n",
            "                     συνασπισμος της αριστερας των κινηματων και της οικολογιας       0.00      0.00      0.00      7332\n",
            "\n",
            "                                                                       accuracy                           0.44    206094\n",
            "                                                                      macro avg       0.26      0.16      0.14    206094\n",
            "                                                                   weighted avg       0.44      0.44      0.38    206094\n",
            "\n"
          ],
          "name": "stdout"
        }
      ]
    },
    {
      "cell_type": "markdown",
      "metadata": {
        "id": "KtmfZjHyz9S6"
      },
      "source": [
        "We achieved an accuracy of 44,4%. Let's put `ngram_range=(1, 2)` in our CountVectorizer, in order to take in account not only single words, but groups of two words also.\r\n",
        "\r\n",
        "\r\n"
      ]
    },
    {
      "cell_type": "code",
      "metadata": {
        "colab": {
          "base_uri": "https://localhost:8080/"
        },
        "id": "_fm7nb82HXkR",
        "outputId": "0c048987-43cf-4236-92c0-704dc5d1de86"
      },
      "source": [
        "text_clf = Pipeline([('vect', CountVectorizer(ngram_range=(1, 2), preprocessor=preprocess_text)),\r\n",
        "                     ('tfidf', TfidfTransformer()),\r\n",
        "                     ('clf', MultinomialNB()),\r\n",
        "                    ])\r\n",
        "\r\n",
        "text_clf.fit(X_train, y_train)\r\n",
        "\r\n",
        "predicted = text_clf.predict(X_test)\r\n",
        "print('Score:', np.mean(predicted == y_test), end='\\n\\n')\r\n",
        "\r\n",
        "print(classification_report(y_test, predicted,\r\n",
        "                                    target_names=target_names))"
      ],
      "execution_count": null,
      "outputs": [
        {
          "output_type": "stream",
          "text": [
            "Score: 0.44568012654419825\n",
            "\n"
          ],
          "name": "stdout"
        },
        {
          "output_type": "stream",
          "text": [
            "/usr/local/lib/python3.6/dist-packages/sklearn/metrics/_classification.py:1272: UndefinedMetricWarning: Precision and F-score are ill-defined and being set to 0.0 in labels with no predicted samples. Use `zero_division` parameter to control this behavior.\n",
            "  _warn_prf(average, modifier, msg_start, len(result))\n"
          ],
          "name": "stderr"
        },
        {
          "output_type": "stream",
          "text": [
            "                                                                                 precision    recall  f1-score   support\n",
            "\n",
            "δημοκρατικη συμπαραταξη (πανελληνιο σοσιαλιστικο κινημα - δημοκρατικη αριστερα)       0.00      0.00      0.00      4747\n",
            "                                                   δημοκρατικο κοινωνικο κινημα       0.00      0.00      0.00      1834\n",
            "                                                                 ενωση κεντρωων       0.00      0.00      0.00      1983\n",
            "                                                    κομμουνιστικο κομμα ελλαδας       0.42      0.31      0.36     18726\n",
            "                                                    λαικος ορθοδοξος συναγερμος       0.00      0.00      0.00      5083\n",
            "                                                   λαικος συνδεσος - χρυση αυγη       0.00      0.00      0.00      4179\n",
            "                                                                 νεα δημοκρατια       0.45      0.60      0.51     69911\n",
            "                                                 πανελληνιο σοσιαλιστικο κινημα       0.45      0.65      0.53     67821\n",
            "                                            συνασπισμος ριζοσπαστικης αριστερας       0.94      0.01      0.01     24478\n",
            "                     συνασπισμος της αριστερας των κινηματων και της οικολογιας       0.00      0.00      0.00      7332\n",
            "\n",
            "                                                                       accuracy                           0.45    206094\n",
            "                                                                      macro avg       0.23      0.16      0.14    206094\n",
            "                                                                   weighted avg       0.45      0.45      0.38    206094\n",
            "\n"
          ],
          "name": "stdout"
        }
      ]
    },
    {
      "cell_type": "markdown",
      "metadata": {
        "id": "YRGsEugy02i9"
      },
      "source": [
        "After the addition to the CountVextorizer the accuracy went to 44,7%. A bit higher than without the `ngram_range=(1, 2)`. So, we will continue with that. The only problem is that it consumes a lot more RAM and it takes longer time.\r\n",
        "\r\n",
        "<br />\r\n",
        "\r\n",
        "Apart from that, we will try more classification algorithms in order to achieve a better accuracy."
      ]
    },
    {
      "cell_type": "markdown",
      "metadata": {
        "id": "an3a78OqW8M3"
      },
      "source": [
        "### Stohastic Gradient Descend"
      ]
    },
    {
      "cell_type": "code",
      "metadata": {
        "colab": {
          "base_uri": "https://localhost:8080/"
        },
        "id": "5yxUlW8zW9RD",
        "outputId": "17191819-0b93-4430-dd11-6a8e9975c508"
      },
      "source": [
        "from sklearn.linear_model import SGDClassifier\r\n",
        "\r\n",
        "sgd = Pipeline(steps=[('vect', CountVectorizer(ngram_range=(1, 2), preprocessor=preprocess_text)),\r\n",
        "                      ('tfidf', TfidfTransformer()),\r\n",
        "                      ('sgd', SGDClassifier())])\r\n",
        "\r\n",
        "sgd.fit(X_train, y_train)\r\n",
        "\r\n",
        "predicted = sgd.predict(X_test)\r\n",
        "print('Score:', np.mean(predicted == y_test), end='\\n\\n')\r\n",
        "\r\n",
        "print(classification_report(y_test, predicted,\r\n",
        "                                    target_names=target_names))"
      ],
      "execution_count": null,
      "outputs": [
        {
          "output_type": "stream",
          "text": [
            "Score: 0.49639484895241975\n",
            "\n",
            "                                                                                 precision    recall  f1-score   support\n",
            "\n",
            "δημοκρατικη συμπαραταξη (πανελληνιο σοσιαλιστικο κινημα - δημοκρατικη αριστερα)       0.24      0.10      0.14      4747\n",
            "                                                   δημοκρατικο κοινωνικο κινημα       0.37      0.03      0.06      1834\n",
            "                                                                 ενωση κεντρωων       0.56      0.05      0.09      1983\n",
            "                                                    κομμουνιστικο κομμα ελλαδας       0.47      0.58      0.52     18726\n",
            "                                                    λαικος ορθοδοξος συναγερμος       0.51      0.13      0.21      5083\n",
            "                                                   λαικος συνδεσος - χρυση αυγη       0.42      0.38      0.40      4179\n",
            "                                                                 νεα δημοκρατια       0.50      0.63      0.56     69911\n",
            "                                                 πανελληνιο σοσιαλιστικο κινημα       0.52      0.55      0.53     67821\n",
            "                                            συνασπισμος ριζοσπαστικης αριστερας       0.48      0.27      0.35     24478\n",
            "                     συνασπισμος της αριστερας των κινηματων και της οικολογιας       0.26      0.04      0.07      7332\n",
            "\n",
            "                                                                       accuracy                           0.50    206094\n",
            "                                                                      macro avg       0.43      0.28      0.29    206094\n",
            "                                                                   weighted avg       0.48      0.50      0.47    206094\n",
            "\n"
          ],
          "name": "stdout"
        }
      ]
    },
    {
      "cell_type": "markdown",
      "metadata": {
        "id": "fzr78ONU7er-"
      },
      "source": [
        "With the Stohastic Gradient Descend algorithm we achieved 49,6% accuracy. More than 5% higher than our previous score. Let's try some more algorithms."
      ]
    },
    {
      "cell_type": "markdown",
      "metadata": {
        "id": "N8KQSV7aZ49q"
      },
      "source": [
        "### Logistic Regression\r\n",
        "\r\n",
        "I tried to run the Logistic Regression with `ngram_range=(1, 2)` as parameter in Count Vectorizer, but it consumed all the availiable RAM of my computer and of google colab. So, we will perform the Logistic Regression without it."
      ]
    },
    {
      "cell_type": "code",
      "metadata": {
        "colab": {
          "base_uri": "https://localhost:8080/"
        },
        "id": "eqdgi6hQYqx1",
        "outputId": "f042b698-daef-48f6-955a-cba31d9e8a44"
      },
      "source": [
        "from sklearn.linear_model import LogisticRegression\r\n",
        "\r\n",
        "logR = Pipeline(steps=[('vect', CountVectorizer(preprocessor=preprocess_text)),\r\n",
        "                     ('tfidf', TfidfTransformer()),\r\n",
        "                     ('logR', LogisticRegression(n_jobs=1, C=1e5))])\r\n",
        "\r\n",
        "logR.fit(X_train, y_train)\r\n",
        "\r\n",
        "predicted = logR.predict(X_test)\r\n",
        "print('Score:', np.mean(predicted == y_test), end='\\n\\n')\r\n",
        "\r\n",
        "print(classification_report(y_test, predicted,\r\n",
        "                                    target_names=target_names))"
      ],
      "execution_count": null,
      "outputs": [
        {
          "output_type": "stream",
          "text": [
            "/usr/local/lib/python3.6/dist-packages/sklearn/linear_model/_logistic.py:940: ConvergenceWarning: lbfgs failed to converge (status=1):\n",
            "STOP: TOTAL NO. of ITERATIONS REACHED LIMIT.\n",
            "\n",
            "Increase the number of iterations (max_iter) or scale the data as shown in:\n",
            "    https://scikit-learn.org/stable/modules/preprocessing.html\n",
            "Please also refer to the documentation for alternative solver options:\n",
            "    https://scikit-learn.org/stable/modules/linear_model.html#logistic-regression\n",
            "  extra_warning_msg=_LOGISTIC_SOLVER_CONVERGENCE_MSG)\n"
          ],
          "name": "stderr"
        },
        {
          "output_type": "stream",
          "text": [
            "Score: 0.4878987258241385\n",
            "\n",
            "                                                                                 precision    recall  f1-score   support\n",
            "\n",
            "δημοκρατικη συμπαραταξη (πανελληνιο σοσιαλιστικο κινημα - δημοκρατικη αριστερα)       0.29      0.03      0.06      4747\n",
            "                                                   δημοκρατικο κοινωνικο κινημα       0.52      0.02      0.03      1834\n",
            "                                                                 ενωση κεντρωων       0.88      0.01      0.02      1983\n",
            "                                                    κομμουνιστικο κομμα ελλαδας       0.47      0.55      0.51     18726\n",
            "                                                    λαικος ορθοδοξος συναγερμος       0.53      0.16      0.24      5083\n",
            "                                                   λαικος συνδεσος - χρυση αυγη       0.41      0.33      0.36      4179\n",
            "                                                                 νεα δημοκρατια       0.50      0.57      0.53     69911\n",
            "                                                 πανελληνιο σοσιαλιστικο κινημα       0.50      0.59      0.54     67821\n",
            "                                            συνασπισμος ριζοσπαστικης αριστερας       0.44      0.31      0.36     24478\n",
            "                     συνασπισμος της αριστερας των κινηματων και της οικολογιας       0.44      0.10      0.16      7332\n",
            "\n",
            "                                                                       accuracy                           0.49    206094\n",
            "                                                                      macro avg       0.50      0.26      0.28    206094\n",
            "                                                                   weighted avg       0.48      0.49      0.47    206094\n",
            "\n"
          ],
          "name": "stdout"
        }
      ]
    },
    {
      "cell_type": "markdown",
      "metadata": {
        "id": "htQeSuZwnywz"
      },
      "source": [
        "We have achieved 48.8% accuracy."
      ]
    },
    {
      "cell_type": "markdown",
      "metadata": {
        "id": "TikkUhfplhfc"
      },
      "source": [
        "### AdaBoost Classifier"
      ]
    },
    {
      "cell_type": "code",
      "metadata": {
        "colab": {
          "base_uri": "https://localhost:8080/"
        },
        "id": "JxddqXSTk-Ai",
        "outputId": "0e156e25-feca-41a5-9089-85ce75ebe163"
      },
      "source": [
        "from sklearn.ensemble import AdaBoostClassifier\r\n",
        "ada = Pipeline(steps=[('vect', CountVectorizer(preprocessor=preprocess_text)),\r\n",
        "                      ('tfidf', TfidfTransformer()),\r\n",
        "                      ('ada', AdaBoostClassifier(n_estimators=100))])\r\n",
        "\r\n",
        "ada.fit(X_train, y_train)\r\n",
        "\r\n",
        "predicted = ada.predict(X_test)\r\n",
        "print('Score:', np.mean(predicted == y_test), end='\\n')\r\n",
        "\r\n",
        "print(classification_report(y_test, predicted,\r\n",
        "                                    target_names=target_names))"
      ],
      "execution_count": 38,
      "outputs": [
        {
          "output_type": "stream",
          "text": [
            "Score: 0.3966248410919289\n",
            "                                                                                 precision    recall  f1-score   support\n",
            "\n",
            "δημοκρατικη συμπαραταξη (πανελληνιο σοσιαλιστικο κινημα - δημοκρατικη αριστερα)       0.41      0.04      0.07      4747\n",
            "                                                   δημοκρατικο κοινωνικο κινημα       0.14      0.08      0.10      1834\n",
            "                                                                 ενωση κεντρωων       0.45      0.08      0.13      1983\n",
            "                                                    κομμουνιστικο κομμα ελλαδας       0.45      0.40      0.42     18726\n",
            "                                                    λαικος ορθοδοξος συναγερμος       0.49      0.10      0.16      5083\n",
            "                                                   λαικος συνδεσος - χρυση αυγη       0.42      0.33      0.37      4179\n",
            "                                                                 νεα δημοκρατια       0.39      0.57      0.46     69911\n",
            "                                                 πανελληνιο σοσιαλιστικο κινημα       0.40      0.41      0.41     67821\n",
            "                                            συνασπισμος ριζοσπαστικης αριστερας       0.33      0.15      0.21     24478\n",
            "                     συνασπισμος της αριστερας των κινηματων και της οικολογιας       0.30      0.08      0.13      7332\n",
            "\n",
            "                                                                       accuracy                           0.40    206094\n",
            "                                                                      macro avg       0.38      0.22      0.25    206094\n",
            "                                                                   weighted avg       0.39      0.40      0.37    206094\n",
            "\n"
          ],
          "name": "stdout"
        }
      ]
    },
    {
      "cell_type": "markdown",
      "metadata": {
        "id": "p4rAc6C_2n6T"
      },
      "source": [
        "We achieved an accuracy of 39.7% which is not so good comparing it with the previous results."
      ]
    },
    {
      "cell_type": "markdown",
      "metadata": {
        "id": "30KLUt41tKiZ"
      },
      "source": [
        "### XGBoost Classifier"
      ]
    },
    {
      "cell_type": "code",
      "metadata": {
        "colab": {
          "base_uri": "https://localhost:8080/"
        },
        "id": "R-wStu2MsGfQ",
        "outputId": "9ade1ed1-2e6e-4721-8e0d-ed62f36c9029"
      },
      "source": [
        "import xgboost as xgb\r\n",
        "\r\n",
        "xgboost = Pipeline(steps=[('vect', CountVectorizer(preprocessor=preprocess_text)),\r\n",
        "                          ('tfidf', TfidfTransformer()),\r\n",
        "                          ('xgboost', xgb.XGBClassifier())])\r\n",
        "\r\n",
        "xgboost.fit(X_train, y_train)\r\n",
        "\r\n",
        "predicted = xgboost.predict(X_test)\r\n",
        "print('Score:', np.mean(predicted == y_test), end='\\n')\r\n",
        "\r\n",
        "print(classification_report(y_test, predicted,\r\n",
        "                                    target_names=target_names))"
      ],
      "execution_count": 18,
      "outputs": [
        {
          "output_type": "stream",
          "text": [
            "Score: 0.43211350160606327\n",
            "                                                                                 precision    recall  f1-score   support\n",
            "\n",
            "δημοκρατικη συμπαραταξη (πανελληνιο σοσιαλιστικο κινημα - δημοκρατικη αριστερα)       0.77      0.03      0.05      4747\n",
            "                                                   δημοκρατικο κοινωνικο κινημα       0.78      0.07      0.12      1834\n",
            "                                                                 ενωση κεντρωων       0.76      0.08      0.14      1983\n",
            "                                                    κομμουνιστικο κομμα ελλαδας       0.52      0.38      0.44     18726\n",
            "                                                    λαικος ορθοδοξος συναγερμος       0.86      0.09      0.16      5083\n",
            "                                                   λαικος συνδεσος - χρυση αυγη       0.43      0.34      0.38      4179\n",
            "                                                                 νεα δημοκρατια       0.42      0.71      0.52     69911\n",
            "                                                 πανελληνιο σοσιαλιστικο κινημα       0.44      0.40      0.42     67821\n",
            "                                            συνασπισμος ριζοσπαστικης αριστερας       0.39      0.12      0.18     24478\n",
            "                     συνασπισμος της αριστερας των κινηματων και της οικολογιας       0.71      0.05      0.09      7332\n",
            "\n",
            "                                                                       accuracy                           0.43    206094\n",
            "                                                                      macro avg       0.61      0.22      0.25    206094\n",
            "                                                                   weighted avg       0.47      0.43      0.39    206094\n",
            "\n"
          ],
          "name": "stdout"
        }
      ]
    },
    {
      "cell_type": "markdown",
      "metadata": {
        "id": "u4nOlNtCEYQG"
      },
      "source": [
        "We have achieved an accuracy of 43.2% which is not the best one."
      ]
    },
    {
      "cell_type": "markdown",
      "metadata": {
        "id": "NiJQSXRNGcId"
      },
      "source": [
        "### Other Classifiers\r\n",
        "\r\n",
        "I also tried `Random Forest Classifier`, but after 8 hours it didn't finish running."
      ]
    },
    {
      "cell_type": "markdown",
      "metadata": {
        "id": "I1ZaVCPjlGa2"
      },
      "source": [
        "### Dummy Classifier\r\n",
        "\r\n",
        "Let's run a dummy classifier in order to compare it with our previous solutions and see if our previous classifiers achieve a better accruracy than a classifier that uses only simple rules."
      ]
    },
    {
      "cell_type": "code",
      "metadata": {
        "colab": {
          "base_uri": "https://localhost:8080/"
        },
        "id": "kRgQfmDElKAC",
        "outputId": "e8b32e19-4867-4d80-8ec0-8be6564e10eb"
      },
      "source": [
        "from sklearn.dummy import DummyClassifier\r\n",
        "\r\n",
        "dc = Pipeline(steps=[('vect', CountVectorizer(ngram_range=(1, 2))),\r\n",
        "                      ('tfidf', TfidfTransformer()),\r\n",
        "                      ('dc', DummyClassifier())])\r\n",
        "\r\n",
        "dc.fit(X_train, y_train)\r\n",
        "\r\n",
        "predicted = dc.predict(X_test)\r\n",
        "print('Score:', np.mean(predicted == y_test), end='\\n')\r\n",
        "\r\n",
        "print(classification_report(y_test, predicted,\r\n",
        "                                    target_names=target_names))"
      ],
      "execution_count": null,
      "outputs": [
        {
          "output_type": "stream",
          "text": [
            "/usr/local/lib/python3.6/dist-packages/sklearn/dummy.py:132: FutureWarning: The default value of strategy will change from stratified to prior in 0.24.\n",
            "  \"stratified to prior in 0.24.\", FutureWarning)\n"
          ],
          "name": "stderr"
        },
        {
          "output_type": "stream",
          "text": [
            "Score: 0.2442896095642267\n",
            "                                                                                 precision    recall  f1-score   support\n",
            "\n",
            "                                                 πανελληνιο σοσιαλιστικο κινημα       0.03      0.03      0.03      9088\n",
            "                                                                 νεα δημοκρατια       0.01      0.01      0.01      4187\n",
            "                                                    κομμουνιστικο κομμα ελλαδας       0.00      0.00      0.00      1603\n",
            "                     συνασπισμος της αριστερας των κινηματων και της οικολογιας       0.02      0.02      0.02      6875\n",
            "                                                    λαικος ορθοδοξος συναγερμος       0.01      0.01      0.01      1822\n",
            "                                                   ανεξαρτητοι (εκτος κομματος)       0.01      0.01      0.01      2935\n",
            "                                                   δημοκρατικο κοινωνικο κινημα       0.07      0.07      0.07     23465\n",
            "                                            συνασπισμος ριζοσπαστικης αριστερας       0.02      0.02      0.02      7194\n",
            "                                           ανεξαρτητοι ελληνες - πανος καμμενος       0.01      0.01      0.01      4291\n",
            "                                                   λαικος συνδεσος - χρυση αυγη       0.34      0.34      0.34    115962\n",
            "                                                                      το ποταμι       0.33      0.33      0.33    112900\n",
            "                     ανεξαρτητοι ελληνες εθνικη πατριωτικη δημοκρατικη συμμαχια       0.11      0.11      0.11     38131\n",
            "δημοκρατικη συμπαραταξη (πανελληνιο σοσιαλιστικο κινημα - δημοκρατικη αριστερα)       0.03      0.03      0.03     10667\n",
            "                                                                 ενωση κεντρωων       0.01      0.01      0.01      2319\n",
            "\n",
            "                                                                       accuracy                           0.24    341439\n",
            "                                                                      macro avg       0.07      0.07      0.07    341439\n",
            "                                                                   weighted avg       0.24      0.24      0.24    341439\n",
            "\n"
          ],
          "name": "stdout"
        }
      ]
    },
    {
      "cell_type": "markdown",
      "metadata": {
        "id": "X3Q8__NXmg9c"
      },
      "source": [
        "As we can see, we achieved an accuracy of 24,5% which is half of the accuracy that we got from Stohastic Gradient Descend or Logistic Regression. So we are doing a good job."
      ]
    },
    {
      "cell_type": "markdown",
      "metadata": {
        "id": "3SKO8PlH_l98"
      },
      "source": [
        "### Grid Search\r\n",
        "\r\n",
        "It is time to run a grid search for the best performing algorithms so far, in order to find the best hyperparameters. <br/>\r\n",
        "\r\n",
        "The most promising ones are `Stohastic Gradient Descend` and `Logistic Regression`, so let's run grid search for these two."
      ]
    },
    {
      "cell_type": "markdown",
      "metadata": {
        "id": "GIsP4KuEU5yt"
      },
      "source": [
        "#### Stohastic Gradient Descend with Grid Search"
      ]
    },
    {
      "cell_type": "code",
      "metadata": {
        "colab": {
          "base_uri": "https://localhost:8080/"
        },
        "id": "AZEM8BLR_oHV",
        "outputId": "bbac6cd6-52ce-4670-b707-fbaa76e2947d"
      },
      "source": [
        "from sklearn.model_selection import GridSearchCV\r\n",
        "from sklearn.linear_model import SGDClassifier\r\n",
        "\r\n",
        "pipeline = Pipeline([\r\n",
        "    ('vect', CountVectorizer()),\r\n",
        "    ('tfidf', TfidfTransformer()),\r\n",
        "    ('clf', SGDClassifier())])\r\n",
        "\r\n",
        "parameters = {\r\n",
        "  'clf__alpha': (1e-4, 1e-5, 1e-6),\r\n",
        "  'clf__penalty': ('l2', 'l1'),\r\n",
        "  'clf__max_iter': (700, 1000, 1300),\r\n",
        "  'clf__tol': (1e-2, 1e-3, 1e-4),\r\n",
        "}\r\n",
        "\r\n",
        "gs_sgd = GridSearchCV(pipeline, parameters, n_jobs=-1)\r\n",
        "\r\n",
        "gs_sgd.fit(X_train, y_train)\r\n",
        "\r\n",
        "best_params = gs_sgd.best_estimator_.get_params()\r\n",
        "print('Best parameters:')\r\n",
        "for param_name in parameters.keys():\r\n",
        "    print(\"\\t%s: %r\" % (param_name, best_params[param_name]))"
      ],
      "execution_count": null,
      "outputs": [
        {
          "output_type": "stream",
          "text": [
            "/usr/local/lib/python3.6/dist-packages/joblib/externals/loky/process_executor.py:691: UserWarning: A worker stopped while some jobs were given to the executor. This can be caused by a too short worker timeout or by a memory leak.\n",
            "  \"timeout or by a memory leak.\", UserWarning\n"
          ],
          "name": "stderr"
        },
        {
          "output_type": "stream",
          "text": [
            "Best parameters:\n",
            "\tclf__alpha: 1e-06\n",
            "\tclf__penalty: 'l2'\n",
            "\tclf__max_iter: 1300\n",
            "\tclf__tol: 0.0001\n"
          ],
          "name": "stdout"
        }
      ]
    },
    {
      "cell_type": "markdown",
      "metadata": {
        "id": "Ax6aWV7ykD7-"
      },
      "source": [
        "So, as we can see we got some results, but `penalty` has the same value as the default value of SGDClassifier. Let's train another SGDClassifier with `alpha = 1e-06`, `max_iter = 1300` and `tol=0.0001`.\r\n",
        "\r\n"
      ]
    },
    {
      "cell_type": "code",
      "metadata": {
        "colab": {
          "base_uri": "https://localhost:8080/"
        },
        "id": "P07wT8fPahyy",
        "outputId": "2aa80211-5619-4e40-94a6-f1cbdbf6ff22"
      },
      "source": [
        " from sklearn.linear_model import SGDClassifier\r\n",
        "\r\n",
        "sgd = Pipeline(steps=[('vect', CountVectorizer(ngram_range=(1, 2), preprocessor=preprocess_text)),\r\n",
        "                      ('tfidf', TfidfTransformer()),\r\n",
        "                      ('sgd', SGDClassifier(alpha=1e-06, \r\n",
        "                                            max_iter=1300,\r\n",
        "                                            tol=0.0001))])\r\n",
        "\r\n",
        "sgd.fit(X_train, y_train)\r\n",
        "\r\n",
        "predicted = sgd.predict(X_test)\r\n",
        "print('Score:', np.mean(predicted == y_test), end='\\n\\n')\r\n",
        "\r\n",
        "print(classification_report(y_test, predicted,\r\n",
        "                                    target_names=target_names))"
      ],
      "execution_count": null,
      "outputs": [
        {
          "output_type": "stream",
          "text": [
            "Score: 0.5220676002212583\n",
            "\n",
            "                                                                                 precision    recall  f1-score   support\n",
            "\n",
            "δημοκρατικη συμπαραταξη (πανελληνιο σοσιαλιστικο κινημα - δημοκρατικη αριστερα)       0.48      0.13      0.20      4747\n",
            "                                                   δημοκρατικο κοινωνικο κινημα       0.67      0.18      0.28      1834\n",
            "                                                                 ενωση κεντρωων       0.80      0.10      0.18      1983\n",
            "                                                    κομμουνιστικο κομμα ελλαδας       0.52      0.54      0.53     18726\n",
            "                                                    λαικος ορθοδοξος συναγερμος       0.29      0.29      0.29      5083\n",
            "                                                   λαικος συνδεσος - χρυση αυγη       0.70      0.20      0.31      4179\n",
            "                                                                 νεα δημοκρατια       0.54      0.60      0.57     69911\n",
            "                                                 πανελληνιο σοσιαλιστικο κινημα       0.52      0.61      0.56     67821\n",
            "                                            συνασπισμος ριζοσπαστικης αριστερας       0.50      0.38      0.43     24478\n",
            "                     συνασπισμος της αριστερας των κινηματων και της οικολογιας       0.56      0.20      0.29      7332\n",
            "\n",
            "                                                                       accuracy                           0.52    206094\n",
            "                                                                      macro avg       0.56      0.32      0.36    206094\n",
            "                                                                   weighted avg       0.53      0.52      0.51    206094\n",
            "\n"
          ],
          "name": "stdout"
        }
      ]
    },
    {
      "cell_type": "markdown",
      "metadata": {
        "id": "V28MTdPDropq"
      },
      "source": [
        "We achieved an accuracy of 52.2% which is the highest so far!"
      ]
    },
    {
      "cell_type": "markdown",
      "metadata": {
        "id": "bnuw5ONBVBxB"
      },
      "source": [
        "#### Logistic Regression with Grid Search"
      ]
    },
    {
      "cell_type": "code",
      "metadata": {
        "id": "TtylNdpyp3Cl"
      },
      "source": [
        "\"\"\"\r\n",
        "from sklearn.model_selection import GridSearchCV\r\n",
        "from sklearn.linear_model import LogisticRegression\r\n",
        "\r\n",
        "pipeline = Pipeline([\r\n",
        "    ('vect', CountVectorizer()),\r\n",
        "    ('tfidf', TfidfTransformer()),\r\n",
        "    ('clf', LogisticRegression())])\r\n",
        "\r\n",
        "parameters = {\r\n",
        "  'clf__C': (1.0, 100.0, 1e5),\r\n",
        "  'clf__max_iter': (100, 200, 300),\r\n",
        "}\r\n",
        "\r\n",
        "gs_logR = GridSearchCV(pipeline, parameters, n_jobs=-1)\r\n",
        "\r\n",
        "gs_logR.fit(X_train, y_train)\r\n",
        "\r\n",
        "best_params = gs_logR.best_estimator_.get_params()\r\n",
        "print('Best parameters:')\r\n",
        "for param_name in parameters.keys():\r\n",
        "    print(\"\\t%s: %r\" % (param_name, best_params[param_name]))\r\n",
        "\"\"\""
      ],
      "execution_count": null,
      "outputs": []
    },
    {
      "cell_type": "markdown",
      "metadata": {
        "id": "20yuXrRuMpX7"
      },
      "source": [
        "Running the above grid search, even with only two parameters, consumed all the vailiable RAM. So, I will try another Ligistic Regression with a value other than 100, which is the default, at `max_iter`. Let's go with 250."
      ]
    },
    {
      "cell_type": "code",
      "metadata": {
        "colab": {
          "base_uri": "https://localhost:8080/"
        },
        "id": "PH2cwbcw69da",
        "outputId": "9858d8fd-16e3-4e55-eef9-3ed4b1f90cba"
      },
      "source": [
        "from sklearn.linear_model import LogisticRegression\r\n",
        "\r\n",
        "logR = Pipeline(steps=[('vect', CountVectorizer(preprocessor=preprocess_text)),\r\n",
        "                     ('tfidf', TfidfTransformer()),\r\n",
        "                     ('logR', LogisticRegression(n_jobs=1, C=1e5, max_iter=250))])\r\n",
        "\r\n",
        "logR.fit(X_train, y_train)\r\n",
        "\r\n",
        "predicted = logR.predict(X_test)\r\n",
        "print('Score:', np.mean(predicted == y_test), end='\\n\\n')\r\n",
        "\r\n",
        "print(classification_report(y_test, predicted,\r\n",
        "                                    target_names=target_names))"
      ],
      "execution_count": null,
      "outputs": [
        {
          "output_type": "stream",
          "text": [
            "/usr/local/lib/python3.6/dist-packages/sklearn/linear_model/_logistic.py:940: ConvergenceWarning: lbfgs failed to converge (status=1):\n",
            "STOP: TOTAL NO. of ITERATIONS REACHED LIMIT.\n",
            "\n",
            "Increase the number of iterations (max_iter) or scale the data as shown in:\n",
            "    https://scikit-learn.org/stable/modules/preprocessing.html\n",
            "Please also refer to the documentation for alternative solver options:\n",
            "    https://scikit-learn.org/stable/modules/linear_model.html#logistic-regression\n",
            "  extra_warning_msg=_LOGISTIC_SOLVER_CONVERGENCE_MSG)\n"
          ],
          "name": "stderr"
        },
        {
          "output_type": "stream",
          "text": [
            "Score: 0.5094956670257261\n",
            "\n",
            "                                                                                 precision    recall  f1-score   support\n",
            "\n",
            "δημοκρατικη συμπαραταξη (πανελληνιο σοσιαλιστικο κινημα - δημοκρατικη αριστερα)       0.54      0.08      0.15      4747\n",
            "                                                   δημοκρατικο κοινωνικο κινημα       0.68      0.13      0.22      1834\n",
            "                                                                 ενωση κεντρωων       0.76      0.07      0.13      1983\n",
            "                                                    κομμουνιστικο κομμα ελλαδας       0.49      0.55      0.52     18726\n",
            "                                                    λαικος ορθοδοξος συναγερμος       0.69      0.21      0.32      5083\n",
            "                                                   λαικος συνδεσος - χρυση αυγη       0.43      0.35      0.39      4179\n",
            "                                                                 νεα δημοκρατια       0.50      0.62      0.56     69911\n",
            "                                                 πανελληνιο σοσιαλιστικο κινημα       0.52      0.57      0.54     67821\n",
            "                                            συνασπισμος ριζοσπαστικης αριστερας       0.48      0.34      0.40     24478\n",
            "                     συνασπισμος της αριστερας των κινηματων και της οικολογιας       0.57      0.17      0.26      7332\n",
            "\n",
            "                                                                       accuracy                           0.51    206094\n",
            "                                                                      macro avg       0.57      0.31      0.35    206094\n",
            "                                                                   weighted avg       0.52      0.51      0.49    206094\n",
            "\n"
          ],
          "name": "stdout"
        }
      ]
    },
    {
      "cell_type": "markdown",
      "metadata": {
        "id": "hzFSycjpGY1F"
      },
      "source": [
        "We see that the accuracy of the original Logistic Regression improved. Let's thry with a higher `max_iter` at 500. "
      ]
    },
    {
      "cell_type": "code",
      "metadata": {
        "colab": {
          "base_uri": "https://localhost:8080/"
        },
        "id": "gGsHR348s6KF",
        "outputId": "12141d97-34c8-440c-f913-bcc02ddfacff"
      },
      "source": [
        "from sklearn.linear_model import LogisticRegression\r\n",
        "\r\n",
        "logR = Pipeline(steps=[('vect', CountVectorizer(preprocessor=preprocess_text)),\r\n",
        "                     ('tfidf', TfidfTransformer()),\r\n",
        "                     ('logR', LogisticRegression(n_jobs=1, C=1e5, max_iter=500))])\r\n",
        "\r\n",
        "logR.fit(X_train, y_train)\r\n",
        "\r\n",
        "predicted = logR.predict(X_test)\r\n",
        "print('Score:', np.mean(predicted == y_test), end='\\n\\n')\r\n",
        "\r\n",
        "print(classification_report(y_test, predicted,\r\n",
        "                                    target_names=target_names))"
      ],
      "execution_count": null,
      "outputs": [
        {
          "output_type": "stream",
          "text": [
            "/usr/local/lib/python3.6/dist-packages/sklearn/linear_model/_logistic.py:940: ConvergenceWarning: lbfgs failed to converge (status=1):\n",
            "STOP: TOTAL NO. of ITERATIONS REACHED LIMIT.\n",
            "\n",
            "Increase the number of iterations (max_iter) or scale the data as shown in:\n",
            "    https://scikit-learn.org/stable/modules/preprocessing.html\n",
            "Please also refer to the documentation for alternative solver options:\n",
            "    https://scikit-learn.org/stable/modules/linear_model.html#logistic-regression\n",
            "  extra_warning_msg=_LOGISTIC_SOLVER_CONVERGENCE_MSG)\n"
          ],
          "name": "stderr"
        },
        {
          "output_type": "stream",
          "text": [
            "Score: 0.5043475307384009\n",
            "\n",
            "                                                                                 precision    recall  f1-score   support\n",
            "\n",
            "δημοκρατικη συμπαραταξη (πανελληνιο σοσιαλιστικο κινημα - δημοκρατικη αριστερα)       0.41      0.12      0.19      4747\n",
            "                                                   δημοκρατικο κοινωνικο κινημα       0.50      0.20      0.29      1834\n",
            "                                                                 ενωση κεντρωων       0.64      0.10      0.18      1983\n",
            "                                                    κομμουνιστικο κομμα ελλαδας       0.47      0.57      0.52     18726\n",
            "                                                    λαικος ορθοδοξος συναγερμος       0.57      0.25      0.35      5083\n",
            "                                                   λαικος συνδεσος - χρυση αυγη       0.42      0.39      0.41      4179\n",
            "                                                                 νεα δημοκρατια       0.52      0.55      0.54     69911\n",
            "                                                 πανελληνιο σοσιαλιστικο κινημα       0.51      0.59      0.55     67821\n",
            "                                            συνασπισμος ριζοσπαστικης αριστερας       0.46      0.36      0.41     24478\n",
            "                     συνασπισμος της αριστερας των κινηματων και της οικολογιας       0.45      0.21      0.28      7332\n",
            "\n",
            "                                                                       accuracy                           0.50    206094\n",
            "                                                                      macro avg       0.50      0.34      0.37    206094\n",
            "                                                                   weighted avg       0.50      0.50      0.49    206094\n",
            "\n"
          ],
          "name": "stdout"
        }
      ]
    },
    {
      "cell_type": "markdown",
      "metadata": {
        "id": "eGN4IC7UNe_h"
      },
      "source": [
        "As we can see we achieved an accuracy of 50.4% which is worse than the previous Logistic Regression that we have ran. So, the best model that we have trained so far is the one with the Stohastic Gradient Descend Classifier that we ran after the grid search."
      ]
    },
    {
      "cell_type": "markdown",
      "metadata": {
        "id": "7exHfLixuP-W"
      },
      "source": [
        "### Best Prediction Model - Stohastic Gradient Decend"
      ]
    },
    {
      "cell_type": "code",
      "metadata": {
        "colab": {
          "base_uri": "https://localhost:8080/"
        },
        "id": "vmySzksSuUbR",
        "outputId": "2aa80211-5619-4e40-94a6-f1cbdbf6ff22"
      },
      "source": [
        "# Copied and pasted the cell of the classification report of the best performing model.\n",
        "#\n",
        "# If you have reran the notebook, the output of this cell will be empty. So, if that happened,\n",
        "# you can see the report of you go to the \"Strohastic Gradient Descent with Grid Search\" section."
      ],
      "execution_count": null,
      "outputs": [
        {
          "output_type": "stream",
          "text": [
            "Score: 0.5220676002212583\n",
            "\n",
            "                                                                                 precision    recall  f1-score   support\n",
            "\n",
            "δημοκρατικη συμπαραταξη (πανελληνιο σοσιαλιστικο κινημα - δημοκρατικη αριστερα)       0.48      0.13      0.20      4747\n",
            "                                                   δημοκρατικο κοινωνικο κινημα       0.67      0.18      0.28      1834\n",
            "                                                                 ενωση κεντρωων       0.80      0.10      0.18      1983\n",
            "                                                    κομμουνιστικο κομμα ελλαδας       0.52      0.54      0.53     18726\n",
            "                                                    λαικος ορθοδοξος συναγερμος       0.29      0.29      0.29      5083\n",
            "                                                   λαικος συνδεσος - χρυση αυγη       0.70      0.20      0.31      4179\n",
            "                                                                 νεα δημοκρατια       0.54      0.60      0.57     69911\n",
            "                                                 πανελληνιο σοσιαλιστικο κινημα       0.52      0.61      0.56     67821\n",
            "                                            συνασπισμος ριζοσπαστικης αριστερας       0.50      0.38      0.43     24478\n",
            "                     συνασπισμος της αριστερας των κινηματων και της οικολογιας       0.56      0.20      0.29      7332\n",
            "\n",
            "                                                                       accuracy                           0.52    206094\n",
            "                                                                      macro avg       0.56      0.32      0.36    206094\n",
            "                                                                   weighted avg       0.53      0.52      0.51    206094\n",
            "\n"
          ],
          "name": "stdout"
        }
      ]
    },
    {
      "cell_type": "markdown",
      "metadata": {
        "id": "7-ANlARRu6EG"
      },
      "source": [
        "As you can see, the **highest accuracy** that we achieved is **52.2%**. Also, even for the political parties with low support we achieved a satisfying recall and f1-score."
      ]
    },
    {
      "cell_type": "markdown",
      "metadata": {
        "id": "ZiaUaz5tMHeg"
      },
      "source": [
        "## Classification with Neural Networks\r\n",
        "\r\n",
        "Now let's train a model that predicts the political party of the speaker, using neural networks."
      ]
    },
    {
      "cell_type": "code",
      "metadata": {
        "id": "15NAEBTaMPts"
      },
      "source": [
        "import tensorflow as tf\n",
        "from tensorflow import keras\n",
        "from tensorflow.keras import optimizers\n",
        "from tensorflow.keras.preprocessing.sequence import pad_sequences"
      ],
      "execution_count": 14,
      "outputs": []
    },
    {
      "cell_type": "markdown",
      "metadata": {
        "id": "6Ef1ZFCj4OkN"
      },
      "source": [
        "### Prepare Data\r\n",
        "To begin with, we will use `Tokenizer` of TensorFlow in order to convert each text(speech) into a sequence of integers.\r\n",
        "\r\n",
        "Source of how to use Tokenizer: [towards data science](https://towardsdatascience.com/multi-class-text-classification-with-lstm-1590bee1bd17)"
      ]
    },
    {
      "cell_type": "code",
      "metadata": {
        "colab": {
          "base_uri": "https://localhost:8080/"
        },
        "id": "WCsceSgkBeVl",
        "outputId": "875f673b-a156-4613-d1f9-45bde5aa67c1"
      },
      "source": [
        "# The maximum number of words to be used. (most frequent)\n",
        "MAX_NB_WORDS = 100000\n",
        "# Max number of words in each complaint.\n",
        "MAX_SEQUENCE_LENGTH = 400\n",
        "# This is fixed.\n",
        "EMBEDDING_DIM = 100\n",
        "\n",
        "tokenizer = tf.keras.preprocessing.text.Tokenizer(num_words=MAX_NB_WORDS, filters='!\"#$%&()*+,-./:;<=>?@[\\]^_`{|}~', lower=True)\n",
        "tokenizer.fit_on_texts(proceedings.speech.values)\n",
        "word_index = tokenizer.word_index\n",
        "print('Found %s unique tokens.' % len(word_index))"
      ],
      "execution_count": 15,
      "outputs": [
        {
          "output_type": "stream",
          "name": "stdout",
          "text": [
            "Found 560516 unique tokens.\n"
          ]
        }
      ]
    },
    {
      "cell_type": "markdown",
      "metadata": {
        "id": "zN1Ud7zDNn8n"
      },
      "source": [
        "Now, let's transform the list of sequences into a 2D array."
      ]
    },
    {
      "cell_type": "code",
      "metadata": {
        "colab": {
          "base_uri": "https://localhost:8080/"
        },
        "id": "g5QDI7kOFb79",
        "outputId": "9b5c9928-7364-4302-e107-969692c3af37"
      },
      "source": [
        "data = tokenizer.texts_to_sequences(proceedings.speech.values)\n",
        "data = pad_sequences(data, maxlen=MAX_SEQUENCE_LENGTH)\n",
        "print('Shape of data tensor:', data.shape)"
      ],
      "execution_count": 16,
      "outputs": [
        {
          "output_type": "stream",
          "name": "stdout",
          "text": [
            "Shape of data tensor: (686977, 400)\n"
          ]
        }
      ]
    },
    {
      "cell_type": "markdown",
      "metadata": {
        "id": "hOMCcYtONyat"
      },
      "source": [
        "We will greate dummies for every label."
      ]
    },
    {
      "cell_type": "code",
      "metadata": {
        "colab": {
          "base_uri": "https://localhost:8080/"
        },
        "id": "dMIqlGs6EVen",
        "outputId": "6b66bbb9-0a03-4bea-908d-401e8f00e340"
      },
      "source": [
        "labels = pd.get_dummies(proceedings.political_party).values\n",
        "print('Shape of label tensor:', labels.shape)"
      ],
      "execution_count": 17,
      "outputs": [
        {
          "output_type": "stream",
          "name": "stdout",
          "text": [
            "Shape of label tensor: (686977, 10)\n"
          ]
        }
      ]
    },
    {
      "cell_type": "markdown",
      "metadata": {
        "id": "LtpbMqrrN63c"
      },
      "source": [
        "It's time to split the data into 70% training and 30% testing."
      ]
    },
    {
      "cell_type": "code",
      "metadata": {
        "id": "emSjzAErEp7G"
      },
      "source": [
        "from sklearn.model_selection import train_test_split\n",
        "\n",
        "X_train, X_test, y_train, y_test = train_test_split(data, labels, test_size=0.3, random_state = 42)"
      ],
      "execution_count": 18,
      "outputs": []
    },
    {
      "cell_type": "code",
      "metadata": {
        "colab": {
          "base_uri": "https://localhost:8080/"
        },
        "id": "-U8tssHI9Uvm",
        "outputId": "f9acc44a-630e-497a-a327-72608a6af0de"
      },
      "source": [
        "print(X_train.shape,y_train.shape)\n",
        "print(X_test.shape,y_test.shape)"
      ],
      "execution_count": 19,
      "outputs": [
        {
          "output_type": "stream",
          "name": "stdout",
          "text": [
            "(480883, 400) (480883, 10)\n(206094, 400) (206094, 10)\n"
          ]
        }
      ]
    },
    {
      "cell_type": "markdown",
      "metadata": {
        "id": "1_3zoIK1J2At"
      },
      "source": [
        "### Start TPU\r\n",
        "\r\n",
        "Source of how to start TPU: [colab](https://colab.research.google.com/notebooks/tpu.ipynb?fbclid=IwAR0Pb_v5RNi_sWzZZetOEgy-EZ4kBOcLHObE1kRdc-YfQbQQNMP_gKW_4L8#scrollTo=FpvUOuC3j27n)"
      ]
    },
    {
      "cell_type": "code",
      "metadata": {
        "id": "Z_hsfVaP-ITj"
      },
      "source": [
        "# If you want to ran the models with TPU, uncomment the bellow code.\n",
        "\n",
        "\"\"\"\n",
        "%tensorflow_version 2.x\n",
        "import tensorflow as tf\n",
        "print(\"Tensorflow version \" + tf.__version__)\n",
        "\n",
        "try:\n",
        "  tpu = tf.distribute.cluster_resolver.TPUClusterResolver()  # TPU detection\n",
        "  print('Running on TPU ', tpu.cluster_spec().as_dict()['worker'])\n",
        "except ValueError:\n",
        "  raise BaseException('ERROR: Not connected to a TPU runtime; please see the previous cell in this notebook for instructions!')\n",
        "\n",
        "tf.config.experimental_connect_to_cluster(tpu)\n",
        "tf.tpu.experimental.initialize_tpu_system(tpu)\n",
        "tpu_strategy = tf.distribute.experimental.TPUStrategy(tpu)\n",
        "\"\"\""
      ],
      "execution_count": 20,
      "outputs": [
        {
          "output_type": "execute_result",
          "data": {
            "text/plain": [
              "'\\n%tensorflow_version 2.x\\nimport tensorflow as tf\\nprint(\"Tensorflow version \" + tf.__version__)\\n\\ntry:\\n  tpu = tf.distribute.cluster_resolver.TPUClusterResolver()  # TPU detection\\n  print(\\'Running on TPU \\', tpu.cluster_spec().as_dict()[\\'worker\\'])\\nexcept ValueError:\\n  raise BaseException(\\'ERROR: Not connected to a TPU runtime; please see the previous cell in this notebook for instructions!\\')\\n\\ntf.config.experimental_connect_to_cluster(tpu)\\ntf.tpu.experimental.initialize_tpu_system(tpu)\\ntpu_strategy = tf.distribute.experimental.TPUStrategy(tpu)\\n'"
            ]
          },
          "metadata": {},
          "execution_count": 20
        }
      ]
    },
    {
      "cell_type": "markdown",
      "metadata": {
        "id": "i1E0DpxLJ5UF"
      },
      "source": [
        "### Create first 3 Models\r\n",
        "\r\n",
        "Now, we will create some models, trying different layers. In general, since we want to do multi-class text classification, a good choice would be `categorical crossentropy` as our loss funnction, `softmax` as activation function in the last layer and `adam` as the optimizer. But, we will try some more functions in order to be sure that these are the best choices. "
      ]
    },
    {
      "cell_type": "code",
      "metadata": {
        "colab": {
          "base_uri": "https://localhost:8080/"
        },
        "id": "QF6j20sa4YS4",
        "outputId": "98d9e848-695c-4fe9-b6ed-e154fd1961e6"
      },
      "source": [
        "def create_model():\n",
        "\n",
        "  model = keras.Sequential([\n",
        "      keras.layers.Dense(10, input_shape=(data.shape[1],), activation='softmax')\n",
        "  ])\n",
        "\n",
        "  sgd = optimizers.SGD(learning_rate=0.1)\n",
        "  \n",
        "  model.compile(loss='categorical_crossentropy',\n",
        "                optimizer=sgd,\n",
        "                metrics=['accuracy'])\n",
        "  return model\n",
        "\n",
        "def create_model_2():\n",
        "  model = keras.Sequential()\n",
        "  model.add(keras.layers.Embedding(MAX_NB_WORDS, EMBEDDING_DIM, input_length=data.shape[1]))\n",
        "  model.add(keras.layers.SpatialDropout1D(0.2))\n",
        "  model.add(keras.layers.LSTM(100, dropout=0.2, recurrent_dropout=0.2))\n",
        "  model.add(keras.layers.Dense(10, activation='softmax'))\n",
        "  sgd = optimizers.SGD(learning_rate=0.1)\n",
        "  model.compile(loss='mean_squared_error', optimizer=sgd, metrics=['accuracy'])\n",
        "\n",
        "  return model\n",
        "\n",
        "def create_model_3():\n",
        "  model = keras.Sequential()\n",
        "  model.add(keras.layers.Embedding(MAX_NB_WORDS, EMBEDDING_DIM, input_length=data.shape[1]))\n",
        "  model.add(keras.layers.SpatialDropout1D(0.2))\n",
        "  model.add(keras.layers.LSTM(100, dropout=0.2, recurrent_dropout=0.2))\n",
        "  model.add(keras.layers.Dense(10, activation='softmax'))\n",
        "  model.compile(loss='categorical_crossentropy', optimizer='adam', metrics=['accuracy'])\n",
        "\n",
        "  return model\n",
        "\n",
        "# Creating the model in the TPUStrategy scope means we will train the model on the TPU\n",
        "#\n",
        "# If you want to ran the models with TPU, uncomment the bellow code\n",
        "# and nest the models inside the \"with tpu_strategy.scope()\".\n",
        "\n",
        "# with tpu_strategy.scope():\n",
        "model = create_model()\n",
        "model_2 = create_model_2()\n",
        "model_3 = create_model_3()\n",
        "\n",
        "print(model.summary())\n",
        "print(model_2.summary())\n",
        "print(model_3.summary())"
      ],
      "execution_count": 21,
      "outputs": [
        {
          "output_type": "stream",
          "name": "stdout",
          "text": [
            "Model: \"sequential\"\n_________________________________________________________________\nLayer (type)                 Output Shape              Param #   \n=================================================================\ndense (Dense)                (None, 10)                4010      \n=================================================================\nTotal params: 4,010\nTrainable params: 4,010\nNon-trainable params: 0\n_________________________________________________________________\nNone\nModel: \"sequential_1\"\n_________________________________________________________________\nLayer (type)                 Output Shape              Param #   \n=================================================================\nembedding (Embedding)        (None, 400, 100)          10000000  \n_________________________________________________________________\nspatial_dropout1d (SpatialDr (None, 400, 100)          0         \n_________________________________________________________________\nlstm (LSTM)                  (None, 100)               80400     \n_________________________________________________________________\ndense_1 (Dense)              (None, 10)                1010      \n=================================================================\nTotal params: 10,081,410\nTrainable params: 10,081,410\nNon-trainable params: 0\n_________________________________________________________________\nNone\nModel: \"sequential_2\"\n_________________________________________________________________\nLayer (type)                 Output Shape              Param #   \n=================================================================\nembedding_1 (Embedding)      (None, 400, 100)          10000000  \n_________________________________________________________________\nspatial_dropout1d_1 (Spatial (None, 400, 100)          0         \n_________________________________________________________________\nlstm_1 (LSTM)                (None, 100)               80400     \n_________________________________________________________________\ndense_2 (Dense)              (None, 10)                1010      \n=================================================================\nTotal params: 10,081,410\nTrainable params: 10,081,410\nNon-trainable params: 0\n_________________________________________________________________\nNone\n"
          ]
        }
      ]
    },
    {
      "cell_type": "markdown",
      "metadata": {
        "id": "gsSUeO9CKIU7"
      },
      "source": [
        "### Dense"
      ]
    },
    {
      "cell_type": "code",
      "metadata": {
        "colab": {
          "base_uri": "https://localhost:8080/"
        },
        "id": "BAjbBK645fHk",
        "outputId": "e5cba015-0ed0-48fc-b567-58cd18fa0034"
      },
      "source": [
        "epochs = 5\r\n",
        "batch_size = 64\r\n",
        "\r\n",
        "history = model.fit(X_train, y_train, epochs=epochs, batch_size=batch_size)"
      ],
      "execution_count": null,
      "outputs": [
        {
          "output_type": "stream",
          "text": [
            "Epoch 1/5\n",
            "7514/7514 [==============================] - 117s 15ms/step - loss: 14051199.3736 - accuracy: 0.2582\n",
            "Epoch 2/5\n",
            "7514/7514 [==============================] - 116s 15ms/step - loss: 14255505.4466 - accuracy: 0.2593\n",
            "Epoch 3/5\n",
            "7514/7514 [==============================] - 114s 15ms/step - loss: 14375589.2283 - accuracy: 0.2600\n",
            "Epoch 4/5\n",
            "7514/7514 [==============================] - 115s 15ms/step - loss: 14294425.6745 - accuracy: 0.2574\n",
            "Epoch 5/5\n",
            "7514/7514 [==============================] - 116s 15ms/step - loss: 14389311.6846 - accuracy: 0.2577\n"
          ],
          "name": "stdout"
        }
      ]
    },
    {
      "cell_type": "markdown",
      "metadata": {
        "id": "uDXKiUyTTe-E"
      },
      "source": [
        "We do not expect this model to improve its accuracy, I did it for learning reasons."
      ]
    },
    {
      "cell_type": "markdown",
      "metadata": {
        "id": "7Cz8l8gW5obz"
      },
      "source": [
        "### Embedding - LSTM - mean_squared_error\r\n",
        "\r\n",
        "This neural network consists of an Embedding, a SpatialDropout1D, an LSTM and a Dense layer."
      ]
    },
    {
      "cell_type": "code",
      "metadata": {
        "colab": {
          "base_uri": "https://localhost:8080/"
        },
        "id": "8p56pOvwMGzX",
        "outputId": "4acf745d-58ad-4840-801f-6950078f38ef"
      },
      "source": [
        "epochs = 5\r\n",
        "batch_size = 64\r\n",
        "\r\n",
        "history = model_2.fit(X_train, y_train, epochs=epochs, batch_size=batch_size, validation_split=0.1,\r\n",
        "                      callbacks=[keras.callbacks.EarlyStopping(monitor='val_loss', patience=3, min_delta=0.0001)])\r\n"
      ],
      "execution_count": null,
      "outputs": [
        {
          "output_type": "stream",
          "text": [
            "Epoch 1/5\n",
            "6763/6763 [==============================] - 362s 53ms/step - loss: 0.0781 - accuracy: 0.3309 - val_loss: 0.0745 - val_accuracy: 0.3451\n",
            "Epoch 2/5\n",
            "6763/6763 [==============================] - 355s 52ms/step - loss: 0.0744 - accuracy: 0.3437 - val_loss: 0.0742 - val_accuracy: 0.3369\n",
            "Epoch 3/5\n",
            "6763/6763 [==============================] - 354s 52ms/step - loss: 0.0741 - accuracy: 0.3422 - val_loss: 0.0739 - val_accuracy: 0.3359\n",
            "Epoch 4/5\n",
            "6763/6763 [==============================] - 354s 52ms/step - loss: 0.0739 - accuracy: 0.3487 - val_loss: 0.0737 - val_accuracy: 0.3602\n",
            "Epoch 5/5\n",
            "6763/6763 [==============================] - 354s 52ms/step - loss: 0.0736 - accuracy: 0.3596 - val_loss: 0.0734 - val_accuracy: 0.3548\n"
          ],
          "name": "stdout"
        }
      ]
    },
    {
      "cell_type": "markdown",
      "metadata": {
        "id": "2bz9YdlUTvAk"
      },
      "source": [
        "We achieved 35.5% accuracy which is not so good. Probably because we put `mean squared error` as the loss function and `SGD` as our optimizer."
      ]
    },
    {
      "cell_type": "markdown",
      "metadata": {
        "id": "7sjo651g57Vf"
      },
      "source": [
        "### Embedding - LSTM - categorical_crossentropy\r\n",
        "\r\n",
        "This model has the same layers as the one before. The difference is on the loss function and on the optimizer."
      ]
    },
    {
      "cell_type": "code",
      "metadata": {
        "colab": {
          "base_uri": "https://localhost:8080/"
        },
        "id": "8DJiP7p173w2",
        "outputId": "8f81b144-1fc2-4bf9-8b66-943f383b46c2"
      },
      "source": [
        "epochs = 20\r\n",
        "batch_size = 64\r\n",
        "\r\n",
        "history = model_3.fit(X_train, y_train, epochs=epochs, batch_size=batch_size, validation_split=0.1,\r\n",
        "                      callbacks=[keras.callbacks.EarlyStopping(monitor='val_loss', patience=3, min_delta=0.0001)])"
      ],
      "execution_count": null,
      "outputs": [
        {
          "output_type": "stream",
          "text": [
            "Epoch 1/20\n",
            "6763/6763 [==============================] - 310s 45ms/step - loss: 1.5512 - accuracy: 0.3770 - val_loss: 1.3612 - val_accuracy: 0.4510\n",
            "Epoch 2/20\n",
            "6763/6763 [==============================] - 298s 44ms/step - loss: 1.2945 - accuracy: 0.4910 - val_loss: 1.2626 - val_accuracy: 0.5021\n",
            "Epoch 3/20\n",
            "6763/6763 [==============================] - 299s 44ms/step - loss: 1.1311 - accuracy: 0.5653 - val_loss: 1.2722 - val_accuracy: 0.5061\n",
            "Epoch 4/20\n",
            "6763/6763 [==============================] - 298s 44ms/step - loss: 1.0234 - accuracy: 0.6058 - val_loss: 1.3212 - val_accuracy: 0.4991\n",
            "Epoch 5/20\n",
            "6763/6763 [==============================] - 299s 44ms/step - loss: 0.9451 - accuracy: 0.6358 - val_loss: 1.3683 - val_accuracy: 0.4976\n"
          ],
          "name": "stdout"
        }
      ]
    },
    {
      "cell_type": "code",
      "metadata": {
        "colab": {
          "base_uri": "https://localhost:8080/"
        },
        "id": "04au82nf7-rT",
        "outputId": "d90d8fc3-5e1c-4260-a0c8-1b00b9247ec6"
      },
      "source": [
        "accr = model_3.evaluate(X_test, y_test)\r\n",
        "print('Test set\\n  Loss: {:0.3f}\\n  Accuracy: {:0.3f}'.format(accr[0],accr[1]))"
      ],
      "execution_count": null,
      "outputs": [
        {
          "output_type": "stream",
          "text": [
            "6441/6441 [==============================] - 132s 20ms/step - loss: 1.3709 - accuracy: 0.4969\n",
            "Test set\n",
            "  Loss: 1.371\n",
            "  Accuracy: 0.497\n"
          ],
          "name": "stdout"
        }
      ]
    },
    {
      "cell_type": "markdown",
      "metadata": {
        "id": "CEffiKsWUYZy"
      },
      "source": [
        "We see that with the same layers as before, but with `categorical crossentrophy`, `softmax` and `adam`, we achieve an accuracy of 49.7%."
      ]
    },
    {
      "cell_type": "markdown",
      "metadata": {
        "id": "rjLIdH7qKOgk"
      },
      "source": [
        "### Embedding - Flatten\r\n",
        "\r\n",
        "This neural network consists of an Embedding, a Flatten and two Dense layers."
      ]
    },
    {
      "cell_type": "code",
      "metadata": {
        "colab": {
          "base_uri": "https://localhost:8080/"
        },
        "id": "4RE72yV_CRtc",
        "outputId": "2b798f25-0655-4e48-ba8f-6a0f0beece40"
      },
      "source": [
        "def create_model_fl():\r\n",
        "  model = keras.Sequential()\r\n",
        "  model.add(keras.layers.Embedding(MAX_NB_WORDS, EMBEDDING_DIM, input_length=data.shape[1]))\r\n",
        "  model.add(keras.layers.Flatten())\r\n",
        "  model.add(keras.layers.Dense(100, activation='relu'))\r\n",
        "  model.add(keras.layers.Dense(10, activation='softmax'))\r\n",
        "  model.compile(loss='categorical_crossentropy', optimizer='adam', metrics=['accuracy'])\r\n",
        "\r\n",
        "  return model\r\n",
        "\r\n",
        "# Creating the model in the TPUStrategy scope means we will train the model on the TPU\r\n",
        "#\r\n",
        "# If you want to ran the models with TPU, uncomment the bellow code\r\n",
        "# and nest the models inside the \"with tpu_strategy.scope()\".\r\n",
        "\r\n",
        "# with tpu_strategy.scope():\r\n",
        "model_fl = create_model_fl()\r\n",
        "\r\n",
        "print(model_fl.summary())"
      ],
      "execution_count": 25,
      "outputs": [
        {
          "output_type": "stream",
          "text": [
            "Model: \"sequential_3\"\n",
            "_________________________________________________________________\n",
            "Layer (type)                 Output Shape              Param #   \n",
            "=================================================================\n",
            "embedding_2 (Embedding)      (None, 400, 100)          10000000  \n",
            "_________________________________________________________________\n",
            "flatten (Flatten)            (None, 40000)             0         \n",
            "_________________________________________________________________\n",
            "dense_3 (Dense)              (None, 100)               4000100   \n",
            "_________________________________________________________________\n",
            "dense_4 (Dense)              (None, 10)                1010      \n",
            "=================================================================\n",
            "Total params: 14,001,110\n",
            "Trainable params: 14,001,110\n",
            "Non-trainable params: 0\n",
            "_________________________________________________________________\n",
            "None\n"
          ],
          "name": "stdout"
        }
      ]
    },
    {
      "cell_type": "code",
      "metadata": {
        "id": "9jouN1qCC2Lj",
        "colab": {
          "base_uri": "https://localhost:8080/"
        },
        "outputId": "11690425-af42-4857-e08b-9ef28ac9f4f2"
      },
      "source": [
        "epochs = 20\r\n",
        "batch_size = 32\r\n",
        "\r\n",
        "history_fl = model_fl.fit(X_train, y_train, epochs=epochs, batch_size=batch_size, validation_split=0.1,\r\n",
        "                      callbacks=[keras.callbacks.EarlyStopping(monitor='val_accuracy', patience=4, min_delta=0.0001)])"
      ],
      "execution_count": null,
      "outputs": [
        {
          "output_type": "stream",
          "text": [
            "Epoch 1/20\n",
            "13525/13525 [==============================] - 330s 24ms/step - loss: 1.4596 - accuracy: 0.4094 - val_loss: 1.3111 - val_accuracy: 0.4809\n",
            "Epoch 2/20\n",
            "13525/13525 [==============================] - 324s 24ms/step - loss: 1.0699 - accuracy: 0.5807 - val_loss: 1.4359 - val_accuracy: 0.4680\n",
            "Epoch 3/20\n",
            "13525/13525 [==============================] - 327s 24ms/step - loss: 0.8235 - accuracy: 0.6852 - val_loss: 1.8677 - val_accuracy: 0.4506\n",
            "Epoch 4/20\n",
            "13525/13525 [==============================] - 325s 24ms/step - loss: 0.7007 - accuracy: 0.7357 - val_loss: 2.2204 - val_accuracy: 0.4446\n",
            "Epoch 5/20\n",
            "13525/13525 [==============================] - 326s 24ms/step - loss: 0.6327 - accuracy: 0.7621 - val_loss: 2.5125 - val_accuracy: 0.4419\n"
          ],
          "name": "stdout"
        }
      ]
    },
    {
      "cell_type": "markdown",
      "metadata": {
        "id": "GwudtR5JWbGQ"
      },
      "source": [
        "As you can se it stopped because we put patience=4 in EasrlyStopping. Even from the second epoch the validation accuracy is decreasing, whareas the training accuracy is increasing, which means that the model has overfitted."
      ]
    },
    {
      "cell_type": "markdown",
      "metadata": {
        "id": "Qjj4tLmgbWjN"
      },
      "source": [
        "### Embedding - GlobalMaxPooling1D\r\n",
        "\r\n",
        "This neural network consists of an Embedding, a GlobalMaxPooling1D and two Dense layers"
      ]
    },
    {
      "cell_type": "code",
      "metadata": {
        "id": "N7PNJ3JSKlB7",
        "colab": {
          "base_uri": "https://localhost:8080/"
        },
        "outputId": "85b575ff-1c82-489f-8b2e-eb1ec80f2c33"
      },
      "source": [
        "def create_model_gmp():\r\n",
        "  model = keras.Sequential()\r\n",
        "  model.add(keras.layers.Embedding(MAX_NB_WORDS, EMBEDDING_DIM, input_length=data.shape[1]))\r\n",
        "  model.add(keras.layers.GlobalMaxPooling1D())\r\n",
        "  model.add(keras.layers.Dense(100, activation='relu'))\r\n",
        "  model.add(keras.layers.Dense(10, activation='softmax'))\r\n",
        "  model.compile(loss='categorical_crossentropy', optimizer='adam', metrics=['accuracy'])\r\n",
        "\r\n",
        "  return model\r\n",
        "\r\n",
        "# Creating the model in the TPUStrategy scope means we will train the model on the TPU\r\n",
        "#\r\n",
        "# If you want to ran the models with TPU, uncomment the bellow code\r\n",
        "# and nest the models inside the \"with tpu_strategy.scope()\".\r\n",
        "\r\n",
        "# with tpu_strategy.scope():\r\n",
        "model_gmp = create_model_gmp()\r\n",
        "\r\n",
        "print(model_gmp.summary())"
      ],
      "execution_count": 26,
      "outputs": [
        {
          "output_type": "stream",
          "text": [
            "Model: \"sequential_4\"\n",
            "_________________________________________________________________\n",
            "Layer (type)                 Output Shape              Param #   \n",
            "=================================================================\n",
            "embedding_3 (Embedding)      (None, 400, 100)          10000000  \n",
            "_________________________________________________________________\n",
            "global_max_pooling1d (Global (None, 100)               0         \n",
            "_________________________________________________________________\n",
            "dense_5 (Dense)              (None, 100)               10100     \n",
            "_________________________________________________________________\n",
            "dense_6 (Dense)              (None, 10)                1010      \n",
            "=================================================================\n",
            "Total params: 10,011,110\n",
            "Trainable params: 10,011,110\n",
            "Non-trainable params: 0\n",
            "_________________________________________________________________\n",
            "None\n"
          ],
          "name": "stdout"
        }
      ]
    },
    {
      "cell_type": "code",
      "metadata": {
        "id": "wxZLxGddSQAh",
        "colab": {
          "base_uri": "https://localhost:8080/"
        },
        "outputId": "641cfecc-4fd3-4bf7-f8ff-4ac5dd772553"
      },
      "source": [
        "epochs = 20\r\n",
        "batch_size = 32\r\n",
        "\r\n",
        "history_5 = model_gmp.fit(X_train, y_train, epochs=epochs, batch_size=batch_size, validation_split=0.1,\r\n",
        "                      callbacks=[keras.callbacks.EarlyStopping(monitor='val_accuracy', patience=4, min_delta=0.0001)])"
      ],
      "execution_count": null,
      "outputs": [
        {
          "output_type": "stream",
          "text": [
            "Epoch 1/20\n",
            "13525/13525 [==============================] - 311s 23ms/step - loss: 1.4849 - accuracy: 0.4045 - val_loss: 1.3458 - val_accuracy: 0.4622\n",
            "Epoch 2/20\n",
            "13525/13525 [==============================] - 307s 23ms/step - loss: 1.3035 - accuracy: 0.4870 - val_loss: 1.3194 - val_accuracy: 0.4740\n",
            "Epoch 3/20\n",
            "13525/13525 [==============================] - 305s 23ms/step - loss: 1.2292 - accuracy: 0.5270 - val_loss: 1.3093 - val_accuracy: 0.4851\n",
            "Epoch 4/20\n",
            "13525/13525 [==============================] - 304s 22ms/step - loss: 1.1672 - accuracy: 0.5555 - val_loss: 1.3260 - val_accuracy: 0.4840\n",
            "Epoch 5/20\n",
            "13525/13525 [==============================] - 303s 22ms/step - loss: 1.1136 - accuracy: 0.5785 - val_loss: 1.3524 - val_accuracy: 0.4872\n",
            "Epoch 6/20\n",
            "13525/13525 [==============================] - 305s 23ms/step - loss: 1.0679 - accuracy: 0.5976 - val_loss: 1.3636 - val_accuracy: 0.4841\n",
            "Epoch 7/20\n",
            "13525/13525 [==============================] - 304s 22ms/step - loss: 1.0235 - accuracy: 0.6179 - val_loss: 1.3861 - val_accuracy: 0.4850\n",
            "Epoch 8/20\n",
            "13525/13525 [==============================] - 304s 23ms/step - loss: 0.9870 - accuracy: 0.6326 - val_loss: 1.4183 - val_accuracy: 0.4764\n",
            "Epoch 9/20\n",
            "  361/13525 [..............................] - ETA: 4:37 - loss: 0.9106 - accuracy: 0.6681"
          ],
          "name": "stdout"
        }
      ]
    },
    {
      "cell_type": "markdown",
      "metadata": {
        "id": "q9xlhXR7C6t-"
      },
      "source": [
        "Colab stopped it due to time limit, but as we see the validation accuracy is getting worse, so there is no point to re-run it. It reached almost 49% validation accuracy, but validation loss in also increasing, so this model also became overfitted."
      ]
    },
    {
      "cell_type": "markdown",
      "metadata": {
        "id": "Omb8UmljbOVD"
      },
      "source": [
        "### CNN\r\n",
        "\r\n",
        "Let's try a Convolutional Neural Network (CNN). The neural network will be cinsisted an Embedding, a Conv1D (which is the convolutional layer), a GlobalMaxPooling1D and two Dense layers.\r\n",
        "\r\n",
        "The idea of the model was from [Nikolai Janakiev - realpython.com](https://realpython.com/python-keras-text-classification/#convolutional-neural-networks-cnn)\r\n",
        "\r\n",
        "However, we will choose softmax as the activation method for our model because it is more suitable for multi-class text classification."
      ]
    },
    {
      "cell_type": "code",
      "metadata": {
        "colab": {
          "base_uri": "https://localhost:8080/"
        },
        "id": "-NJF8cKMNhq-",
        "outputId": "4187fb90-d436-4e70-d81c-e7d448deca28"
      },
      "source": [
        "def create_model_cnn():\r\n",
        "  model = keras.Sequential()\r\n",
        "  model.add(keras.layers.Embedding(MAX_NB_WORDS, EMBEDDING_DIM, input_length=data.shape[1]))\r\n",
        "  model.add(keras.layers.Conv1D(128, 5, activation='relu'))\r\n",
        "  model.add(keras.layers.GlobalMaxPooling1D())\r\n",
        "  model.add(keras.layers.Dense(100, activation='relu'))\r\n",
        "  model.add(keras.layers.Dense(10, activation='softmax'))\r\n",
        "  model.compile(loss='categorical_crossentropy', optimizer='adam', metrics=['accuracy'])\r\n",
        "\r\n",
        "  return model\r\n",
        "\r\n",
        "# Creating the model in the TPUStrategy scope means we will train the model on the TPU\r\n",
        "#\r\n",
        "# If you want to ran the models with TPU, uncomment the bellow code\r\n",
        "# and nest the models inside the \"with tpu_strategy.scope()\".\r\n",
        "\r\n",
        "# with tpu_strategy.scope():\r\n",
        "model_cnn = create_model_cnn()\r\n",
        "\r\n",
        "print(model_cnn.summary())"
      ],
      "execution_count": 28,
      "outputs": [
        {
          "output_type": "stream",
          "text": [
            "Model: \"sequential_6\"\n",
            "_________________________________________________________________\n",
            "Layer (type)                 Output Shape              Param #   \n",
            "=================================================================\n",
            "embedding_5 (Embedding)      (None, 400, 100)          10000000  \n",
            "_________________________________________________________________\n",
            "conv1d_1 (Conv1D)            (None, 396, 128)          64128     \n",
            "_________________________________________________________________\n",
            "global_max_pooling1d_2 (Glob (None, 128)               0         \n",
            "_________________________________________________________________\n",
            "dense_9 (Dense)              (None, 100)               12900     \n",
            "_________________________________________________________________\n",
            "dense_10 (Dense)             (None, 10)                1010      \n",
            "=================================================================\n",
            "Total params: 10,078,038\n",
            "Trainable params: 10,078,038\n",
            "Non-trainable params: 0\n",
            "_________________________________________________________________\n",
            "None\n"
          ],
          "name": "stdout"
        }
      ]
    },
    {
      "cell_type": "code",
      "metadata": {
        "colab": {
          "base_uri": "https://localhost:8080/"
        },
        "id": "JRCeFsJUNn-_",
        "outputId": "25a39c7f-10f7-4ec2-aec0-d8eb300ac678"
      },
      "source": [
        "epochs = 20\r\n",
        "batch_size = 32\r\n",
        "\r\n",
        "history_cnn = model_cnn.fit(X_train, y_train, epochs=epochs, batch_size=batch_size, validation_split=0.1,\r\n",
        "                      callbacks=[keras.callbacks.EarlyStopping(monitor='val_accuracy', patience=5, min_delta=0.0001)])"
      ],
      "execution_count": 22,
      "outputs": [
        {
          "output_type": "stream",
          "text": [
            "Epoch 1/20\n",
            "13525/13525 [==============================] - 323s 23ms/step - loss: 1.4317 - accuracy: 0.4297 - val_loss: 1.2795 - val_accuracy: 0.4941\n",
            "Epoch 2/20\n",
            "13525/13525 [==============================] - 317s 23ms/step - loss: 1.1718 - accuracy: 0.5440 - val_loss: 1.2681 - val_accuracy: 0.5050\n",
            "Epoch 3/20\n",
            "13525/13525 [==============================] - 317s 23ms/step - loss: 0.9969 - accuracy: 0.6190 - val_loss: 1.3403 - val_accuracy: 0.4928\n",
            "Epoch 4/20\n",
            "13525/13525 [==============================] - 316s 23ms/step - loss: 0.8429 - accuracy: 0.6809 - val_loss: 1.5163 - val_accuracy: 0.4845\n",
            "Epoch 5/20\n",
            "13525/13525 [==============================] - 315s 23ms/step - loss: 0.7398 - accuracy: 0.7218 - val_loss: 1.7220 - val_accuracy: 0.4829\n",
            "Epoch 6/20\n",
            "13525/13525 [==============================] - 317s 23ms/step - loss: 0.6749 - accuracy: 0.7468 - val_loss: 1.9396 - val_accuracy: 0.4667\n",
            "Epoch 7/20\n",
            "13525/13525 [==============================] - 317s 23ms/step - loss: 0.6253 - accuracy: 0.7659 - val_loss: 2.1589 - val_accuracy: 0.4625\n"
          ],
          "name": "stdout"
        }
      ]
    },
    {
      "cell_type": "code",
      "metadata": {
        "colab": {
          "base_uri": "https://localhost:8080/"
        },
        "id": "dp5L7lk2YOVr",
        "outputId": "2d29b38a-8dd7-4bb3-cae1-b07f6eb667f5"
      },
      "source": [
        "accr = model_cnn.evaluate(X_test, y_test)\r\n",
        "print('Test set\\n  Loss: {:0.3f}\\n  Accuracy: {:0.3f}'.format(accr[0],accr[1]))"
      ],
      "execution_count": 23,
      "outputs": [
        {
          "output_type": "stream",
          "text": [
            "6441/6441 [==============================] - 101s 16ms/step - loss: 2.1579 - accuracy: 0.4610\n",
            "Test set\n",
            "  Loss: 2.158\n",
            "  Accuracy: 0.461\n"
          ],
          "name": "stdout"
        }
      ]
    },
    {
      "cell_type": "markdown",
      "metadata": {
        "id": "8HB6ihne-Giw"
      },
      "source": [
        "We ended up with a 46.1% accuracy and the training stopped because we put patience=5 in EarlyStopping. Althoug the trained started very well, with 49.4% accuracy, but after epoch 2 it became overffited. Let's have a better look by visualizing the loss and the accuracy of the training and testing data."
      ]
    },
    {
      "cell_type": "code",
      "metadata": {
        "colab": {
          "base_uri": "https://localhost:8080/",
          "height": 596
        },
        "id": "ApstDXlkYZeR",
        "outputId": "2261765b-4f2a-4e36-ae8a-06eb2d5752d4"
      },
      "source": [
        "plt.title('Loss')\r\n",
        "plt.plot(history_cnn.history['loss'], label='train')\r\n",
        "plt.plot(history_cnn.history['val_loss'], label='test')\r\n",
        "plt.legend()\r\n",
        "plt.show()\r\n",
        "\r\n",
        "print(\"\\n\\n\")\r\n",
        "\r\n",
        "plt.title('Accuracy')\r\n",
        "plt.plot(history_cnn.history['accuracy'], label='train')\r\n",
        "plt.plot(history_cnn.history['val_accuracy'], label='test')\r\n",
        "plt.legend()\r\n",
        "plt.show();"
      ],
      "execution_count": 28,
      "outputs": [
        {
          "output_type": "display_data",
          "data": {
            "image/png": "[encoded data removed]",
            "text/plain": [
              "<Figure size 432x288 with 1 Axes>"
            ]
          },
          "metadata": {
            "tags": [],
            "needs_background": "light"
          }
        },
        {
          "output_type": "stream",
          "text": [
            "\n",
            "\n",
            "\n"
          ],
          "name": "stdout"
        },
        {
          "output_type": "display_data",
          "data": {
            "image/png": "[encoded data removed]",
            "text/plain": [
              "<Figure size 432x288 with 1 Axes>"
            ]
          },
          "metadata": {
            "tags": [],
            "needs_background": "light"
          }
        }
      ]
    },
    {
      "cell_type": "markdown",
      "metadata": {
        "id": "4pz6P8Se-yFP"
      },
      "source": [
        "It is obvious that after the second epoch the model becomes overfitted."
      ]
    },
    {
      "cell_type": "markdown",
      "metadata": {
        "id": "bgqSro0FvAKk"
      },
      "source": [
        "### Second CCN\r\n",
        "\r\n",
        "Let's try the same model again but with `softmax`, instead of `relu`, as the activation function in the penultimate Dense layer."
      ]
    },
    {
      "cell_type": "code",
      "metadata": {
        "colab": {
          "base_uri": "https://localhost:8080/"
        },
        "id": "UW1Wzp6gvDaB",
        "outputId": "cc6f16dc-4207-4ce9-8e91-b3c2c7581928"
      },
      "source": [
        "def create_model_cnn_2():\r\n",
        "  model = keras.Sequential()\r\n",
        "  model.add(keras.layers.Embedding(MAX_NB_WORDS, EMBEDDING_DIM, input_length=data.shape[1]))\r\n",
        "  model.add(keras.layers.Conv1D(128, 5, activation='relu'))\r\n",
        "  model.add(keras.layers.GlobalMaxPooling1D())\r\n",
        "  model.add(keras.layers.Dense(100, activation='softmax'))\r\n",
        "  model.add(keras.layers.Dense(10, activation='softmax'))\r\n",
        "  model.compile(loss='categorical_crossentropy', optimizer='adam', metrics=['accuracy'])\r\n",
        "\r\n",
        "  return model\r\n",
        "\r\n",
        "# Creating the model in the TPUStrategy scope means we will train the model on the TPU\r\n",
        "#\r\n",
        "# If you want to ran the models with TPU, uncomment the bellow code\r\n",
        "# and nest the models inside the \"with tpu_strategy.scope()\".\r\n",
        "\r\n",
        "# with tpu_strategy.scope():\r\n",
        "model_cnn_2 = create_model_cnn_2()\r\n",
        "\r\n",
        "print(model_cnn_2.summary())"
      ],
      "execution_count": 29,
      "outputs": [
        {
          "output_type": "stream",
          "text": [
            "Model: \"sequential_7\"\n",
            "_________________________________________________________________\n",
            "Layer (type)                 Output Shape              Param #   \n",
            "=================================================================\n",
            "embedding_6 (Embedding)      (None, 400, 100)          10000000  \n",
            "_________________________________________________________________\n",
            "conv1d_2 (Conv1D)            (None, 396, 128)          64128     \n",
            "_________________________________________________________________\n",
            "global_max_pooling1d_3 (Glob (None, 128)               0         \n",
            "_________________________________________________________________\n",
            "dense_11 (Dense)             (None, 100)               12900     \n",
            "_________________________________________________________________\n",
            "dense_12 (Dense)             (None, 10)                1010      \n",
            "=================================================================\n",
            "Total params: 10,078,038\n",
            "Trainable params: 10,078,038\n",
            "Non-trainable params: 0\n",
            "_________________________________________________________________\n",
            "None\n"
          ],
          "name": "stdout"
        }
      ]
    },
    {
      "cell_type": "code",
      "metadata": {
        "colab": {
          "base_uri": "https://localhost:8080/"
        },
        "id": "djSDk6sOvJ3E",
        "outputId": "bc788e14-0a57-45c5-b887-3ec69aa87af5"
      },
      "source": [
        "epochs = 20\r\n",
        "batch_size = 32\r\n",
        "\r\n",
        "history_cnn_2 = model_cnn_2.fit(X_train, y_train, epochs=epochs, batch_size=batch_size, validation_split=0.1,\r\n",
        "                      callbacks=[keras.callbacks.EarlyStopping(monitor='val_accuracy', patience=5, min_delta=0.0001)])"
      ],
      "execution_count": null,
      "outputs": [
        {
          "output_type": "stream",
          "text": [
            "Epoch 1/20\n",
            "13525/13525 [==============================] - 330s 24ms/step - loss: 1.6554 - accuracy: 0.3508 - val_loss: 1.5774 - val_accuracy: 0.3633\n",
            "Epoch 2/20\n",
            "13525/13525 [==============================] - 325s 24ms/step - loss: 1.5741 - accuracy: 0.3656 - val_loss: 1.5768 - val_accuracy: 0.3633\n",
            "Epoch 3/20\n",
            "13525/13525 [==============================] - 324s 24ms/step - loss: 1.5782 - accuracy: 0.3626 - val_loss: 1.5706 - val_accuracy: 0.3686\n",
            "Epoch 4/20\n",
            "13525/13525 [==============================] - 324s 24ms/step - loss: 1.5462 - accuracy: 0.3814 - val_loss: 1.4859 - val_accuracy: 0.3939\n",
            "Epoch 5/20\n",
            "13525/13525 [==============================] - 322s 24ms/step - loss: 1.4455 - accuracy: 0.4139 - val_loss: 1.4490 - val_accuracy: 0.4240\n",
            "Epoch 6/20\n",
            "13525/13525 [==============================] - 319s 24ms/step - loss: 1.3469 - accuracy: 0.4800 - val_loss: 1.4086 - val_accuracy: 0.4542\n",
            "Epoch 7/20\n",
            "13525/13525 [==============================] - 320s 24ms/step - loss: 1.1984 - accuracy: 0.5648 - val_loss: 1.4314 - val_accuracy: 0.4633\n",
            "Epoch 8/20\n",
            "13525/13525 [==============================] - 322s 24ms/step - loss: 1.0540 - accuracy: 0.6283 - val_loss: 1.4987 - val_accuracy: 0.4596\n",
            "Epoch 9/20\n",
            "13525/13525 [==============================] - 322s 24ms/step - loss: 0.9460 - accuracy: 0.6715 - val_loss: 1.6116 - val_accuracy: 0.4555\n",
            "Epoch 10/20\n",
            "13525/13525 [==============================] - 321s 24ms/step - loss: 0.8682 - accuracy: 0.6971 - val_loss: 1.6961 - val_accuracy: 0.4490\n",
            "Epoch 11/20\n",
            "13525/13525 [==============================] - 324s 24ms/step - loss: 0.8123 - accuracy: 0.7163 - val_loss: 1.7813 - val_accuracy: 0.4472\n",
            "Epoch 12/20\n",
            "13525/13525 [==============================] - 325s 24ms/step - loss: 0.7739 - accuracy: 0.7297 - val_loss: 1.8606 - val_accuracy: 0.4444\n"
          ],
          "name": "stdout"
        }
      ]
    },
    {
      "cell_type": "code",
      "metadata": {
        "colab": {
          "base_uri": "https://localhost:8080/"
        },
        "id": "L0d6bXZ2vWTr",
        "outputId": "d9e2ebda-0c3d-48ff-d7c8-c1f353417872"
      },
      "source": [
        "accr = model_cnn_2.evaluate(X_test, y_test)\r\n",
        "print('Test set\\n  Loss: {:0.3f}\\n  Accuracy: {:0.3f}'.format(accr[0],accr[1]))"
      ],
      "execution_count": null,
      "outputs": [
        {
          "output_type": "stream",
          "text": [
            "6441/6441 [==============================] - 109s 17ms/step - loss: 1.8544 - accuracy: 0.4442\n",
            "Test set\n",
            "  Loss: 1.854\n",
            "  Accuracy: 0.444\n"
          ],
          "name": "stdout"
        }
      ]
    },
    {
      "cell_type": "markdown",
      "metadata": {
        "id": "jz8OdbFp_cdH"
      },
      "source": [
        "Now, we see that the validation accuracy may starts at 36.3% but it is improving. However, at 46% it becomes overfitted again. Eventually it ends up at 44.4%."
      ]
    },
    {
      "cell_type": "markdown",
      "metadata": {
        "id": "OLxtu11rZsAa"
      },
      "source": [
        "### Third CNN\r\n",
        "\r\n",
        "The last CNN look very promising at the beginning of the training. Let's keep it the same and only change the output units of the penultimate `Dense` layer, from 100 to 64."
      ]
    },
    {
      "cell_type": "code",
      "metadata": {
        "colab": {
          "base_uri": "https://localhost:8080/"
        },
        "id": "ISdpu589ZvFe",
        "outputId": "0d559243-f771-479b-8ff4-dd86fa19ea2c"
      },
      "source": [
        "def create_model_cnn_3():\r\n",
        "  model = keras.Sequential()\r\n",
        "  model.add(keras.layers.Embedding(MAX_NB_WORDS, EMBEDDING_DIM, input_length=data.shape[1]))\r\n",
        "  model.add(keras.layers.Conv1D(128, 5, activation='relu'))\r\n",
        "  model.add(keras.layers.GlobalMaxPooling1D())\r\n",
        "  model.add(keras.layers.Dense(64, activation='softmax'))\r\n",
        "  model.add(keras.layers.Dense(10, activation='softmax'))\r\n",
        "  model.compile(loss='categorical_crossentropy', optimizer='adam', metrics=['accuracy'])\r\n",
        "\r\n",
        "  return model\r\n",
        "\r\n",
        "# Creating the model in the TPUStrategy scope means we will train the model on the TPU\r\n",
        "#\r\n",
        "# If you want to ran the models with TPU, uncomment the bellow code\r\n",
        "# and nest the models inside the \"with tpu_strategy.scope()\".\r\n",
        "\r\n",
        "# with tpu_strategy.scope():\r\n",
        "model_cnn_3 = create_model_cnn_3()\r\n",
        "\r\n",
        "print(model_cnn_3.summary())"
      ],
      "execution_count": 30,
      "outputs": [
        {
          "output_type": "stream",
          "text": [
            "Model: \"sequential_8\"\n",
            "_________________________________________________________________\n",
            "Layer (type)                 Output Shape              Param #   \n",
            "=================================================================\n",
            "embedding_7 (Embedding)      (None, 400, 100)          10000000  \n",
            "_________________________________________________________________\n",
            "conv1d_3 (Conv1D)            (None, 396, 128)          64128     \n",
            "_________________________________________________________________\n",
            "global_max_pooling1d_4 (Glob (None, 128)               0         \n",
            "_________________________________________________________________\n",
            "dense_13 (Dense)             (None, 64)                8256      \n",
            "_________________________________________________________________\n",
            "dense_14 (Dense)             (None, 10)                650       \n",
            "=================================================================\n",
            "Total params: 10,073,034\n",
            "Trainable params: 10,073,034\n",
            "Non-trainable params: 0\n",
            "_________________________________________________________________\n",
            "None\n"
          ],
          "name": "stdout"
        }
      ]
    },
    {
      "cell_type": "markdown",
      "metadata": {
        "id": "_vQxuda4B36Z"
      },
      "source": [
        "We will also set the `batch size` to 64, instead of 32."
      ]
    },
    {
      "cell_type": "code",
      "metadata": {
        "colab": {
          "base_uri": "https://localhost:8080/"
        },
        "id": "Su1YITbPZ8CU",
        "outputId": "7d1a63e1-a58f-4e01-b728-5ecef691f756"
      },
      "source": [
        "epochs = 20\r\n",
        "batch_size = 64\r\n",
        "\r\n",
        "history_cnn_3 = model_cnn_3.fit(X_train, y_train, epochs=epochs, batch_size=batch_size, validation_split=0.1,\r\n",
        "                      callbacks=[keras.callbacks.EarlyStopping(monitor='val_accuracy', patience=5, min_delta=0.0001)])"
      ],
      "execution_count": 32,
      "outputs": [
        {
          "output_type": "stream",
          "text": [
            "Epoch 1/20\n",
            "6763/6763 [==============================] - 170s 24ms/step - loss: 1.7412 - accuracy: 0.3323 - val_loss: 1.5842 - val_accuracy: 0.3634\n",
            "Epoch 2/20\n",
            "6763/6763 [==============================] - 161s 24ms/step - loss: 1.5769 - accuracy: 0.3667 - val_loss: 1.5718 - val_accuracy: 0.3655\n",
            "Epoch 3/20\n",
            "6763/6763 [==============================] - 160s 24ms/step - loss: 1.5666 - accuracy: 0.3673 - val_loss: 1.5695 - val_accuracy: 0.3640\n",
            "Epoch 4/20\n",
            "6763/6763 [==============================] - 163s 24ms/step - loss: 1.5290 - accuracy: 0.3792 - val_loss: 1.4823 - val_accuracy: 0.3898\n",
            "Epoch 5/20\n",
            "6763/6763 [==============================] - 161s 24ms/step - loss: 1.4375 - accuracy: 0.4058 - val_loss: 1.4495 - val_accuracy: 0.3989\n",
            "Epoch 6/20\n",
            "6763/6763 [==============================] - 162s 24ms/step - loss: 1.3528 - accuracy: 0.4393 - val_loss: 1.4436 - val_accuracy: 0.4164\n",
            "Epoch 7/20\n",
            "6763/6763 [==============================] - 163s 24ms/step - loss: 1.2519 - accuracy: 0.5059 - val_loss: 1.4852 - val_accuracy: 0.4226\n",
            "Epoch 8/20\n",
            "6763/6763 [==============================] - 162s 24ms/step - loss: 1.1482 - accuracy: 0.5747 - val_loss: 1.5470 - val_accuracy: 0.4347\n",
            "Epoch 9/20\n",
            "6763/6763 [==============================] - 162s 24ms/step - loss: 1.0353 - accuracy: 0.6347 - val_loss: 1.6688 - val_accuracy: 0.4367\n",
            "Epoch 10/20\n",
            "6763/6763 [==============================] - 161s 24ms/step - loss: 0.9404 - accuracy: 0.6748 - val_loss: 1.7997 - val_accuracy: 0.4375\n",
            "Epoch 11/20\n",
            "6763/6763 [==============================] - 163s 24ms/step - loss: 0.8721 - accuracy: 0.7004 - val_loss: 1.9118 - val_accuracy: 0.4362\n",
            "Epoch 12/20\n",
            "6763/6763 [==============================] - 162s 24ms/step - loss: 0.8251 - accuracy: 0.7177 - val_loss: 2.0564 - val_accuracy: 0.4337\n",
            "Epoch 13/20\n",
            "6763/6763 [==============================] - 163s 24ms/step - loss: 0.7959 - accuracy: 0.7273 - val_loss: 2.2038 - val_accuracy: 0.4282\n",
            "Epoch 14/20\n",
            "6763/6763 [==============================] - 163s 24ms/step - loss: 0.7639 - accuracy: 0.7376 - val_loss: 2.3823 - val_accuracy: 0.4193\n",
            "Epoch 15/20\n",
            "6763/6763 [==============================] - 163s 24ms/step - loss: 0.7427 - accuracy: 0.7443 - val_loss: 2.3585 - val_accuracy: 0.4295\n"
          ],
          "name": "stdout"
        }
      ]
    },
    {
      "cell_type": "code",
      "metadata": {
        "colab": {
          "base_uri": "https://localhost:8080/"
        },
        "id": "86AiwIl7aC4l",
        "outputId": "1eb9cfef-e01b-4501-e93d-0f4dfbb35f14"
      },
      "source": [
        "accr = model_cnn_3.evaluate(X_test, y_test)\r\n",
        "print('Test set\\n  Loss: {:0.3f}\\n  Accuracy: {:0.3f}'.format(accr[0],accr[1]))"
      ],
      "execution_count": 33,
      "outputs": [
        {
          "output_type": "stream",
          "text": [
            "6441/6441 [==============================] - 101s 16ms/step - loss: 2.3309 - accuracy: 0.4302\n",
            "Test set\n",
            "  Loss: 2.331\n",
            "  Accuracy: 0.430\n"
          ],
          "name": "stdout"
        }
      ]
    },
    {
      "cell_type": "markdown",
      "metadata": {
        "id": "KZCl_lUYCGBI"
      },
      "source": [
        "The result is the same as before, but now it started to overfit at 43.7% accuracy, even less than before."
      ]
    },
    {
      "cell_type": "markdown",
      "metadata": {
        "id": "Hmp69fNQmMzR"
      },
      "source": [
        "### Best Performing Model\r\n",
        "\r\n",
        "The best performing model so far was the one with an Embedding, a SpatialDropout1D, an LSTM and a Dense layer. The activation function was `softmax`, the loss function was `categorical crossentrophy` and the optimizer was `adam`.\r\n",
        "\r\n"
      ]
    },
    {
      "cell_type": "code",
      "metadata": {
        "id": "k1MpbOlPmPTs"
      },
      "source": [
        "# Creating the model in the TPUStrategy scope means we will train the model on the TPU\r\n",
        "#\r\n",
        "# If you want to ran the models with TPU, uncomment the bellow code\r\n",
        "# and nest the models inside the \"with tpu_strategy.scope()\".\r\n",
        "\r\n",
        "# with tpu_strategy.scope():\r\n",
        "model_3 = create_model_3()"
      ],
      "execution_count": 31,
      "outputs": []
    },
    {
      "cell_type": "markdown",
      "metadata": {
        "id": "ZBcCW-k-qMTn"
      },
      "source": [
        "Let's re-train the best performing model with a batch size of 32 instead of 64 and increase the patience of EarlyStopping to 5, instead of 3."
      ]
    },
    {
      "cell_type": "code",
      "metadata": {
        "colab": {
          "base_uri": "https://localhost:8080/"
        },
        "id": "1Ruid4B0nFlS",
        "outputId": "da89f5c1-8dec-463e-f289-5f990331857c"
      },
      "source": [
        "epochs = 20\r\n",
        "batch_size = 32\r\n",
        "\r\n",
        "history_3 = model_3.fit(X_train, y_train, epochs=epochs, batch_size=batch_size, validation_split=0.1,\r\n",
        "                      callbacks=[keras.callbacks.EarlyStopping(monitor='val_accuracy', patience=5, min_delta=0.0001)])"
      ],
      "execution_count": null,
      "outputs": [
        {
          "output_type": "stream",
          "text": [
            "Epoch 1/20\n",
            "13525/13525 [==============================] - 583s 42ms/step - loss: 1.5227 - accuracy: 0.3846 - val_loss: 1.3154 - val_accuracy: 0.4767\n",
            "Epoch 2/20\n",
            "13525/13525 [==============================] - 572s 42ms/step - loss: 1.2446 - accuracy: 0.5134 - val_loss: 1.2476 - val_accuracy: 0.5087\n",
            "Epoch 3/20\n",
            "13525/13525 [==============================] - 572s 42ms/step - loss: 1.1044 - accuracy: 0.5747 - val_loss: 1.2575 - val_accuracy: 0.5118\n",
            "Epoch 4/20\n",
            "13525/13525 [==============================] - 572s 42ms/step - loss: 1.0086 - accuracy: 0.6115 - val_loss: 1.3081 - val_accuracy: 0.5090\n",
            "Epoch 5/20\n",
            "13525/13525 [==============================] - 572s 42ms/step - loss: 0.9394 - accuracy: 0.6398 - val_loss: 1.3733 - val_accuracy: 0.5027\n",
            "Epoch 6/20\n",
            "13525/13525 [==============================] - 573s 42ms/step - loss: 0.8859 - accuracy: 0.6612 - val_loss: 1.4468 - val_accuracy: 0.4970\n",
            "Epoch 7/20\n",
            "13525/13525 [==============================] - 572s 42ms/step - loss: 0.8470 - accuracy: 0.6753 - val_loss: 1.4873 - val_accuracy: 0.4962\n",
            "Epoch 8/20\n",
            " 2941/13525 [=====>........................] - ETA: 7:08 - loss: 0.8043 - accuracy: 0.6941"
          ],
          "name": "stdout"
        }
      ]
    },
    {
      "cell_type": "markdown",
      "metadata": {
        "id": "YhGVb0IUDiOZ"
      },
      "source": [
        "The training stopped due to time limit of colab, but as we can see the validation accuracy is dropping. So, there is no point to re-train it. Also, the validation accuracy will not end up above 49.7% which was the previous best score. \r\n",
        "\r\n",
        "Something that we can do is to decrease the patience of EarlyStopping in order not to allow the model to overfit and decrease its accuracy.\r\n",
        "\r\n"
      ]
    },
    {
      "cell_type": "code",
      "metadata": {
        "colab": {
          "base_uri": "https://localhost:8080/"
        },
        "id": "6VMgjPS-HzLO",
        "outputId": "5f11184b-ed91-462f-e0d1-f8bd48b07872"
      },
      "source": [
        "epochs = 20\r\n",
        "batch_size = 32\r\n",
        "\r\n",
        "history_3 = model_3.fit(X_train, y_train, epochs=epochs, batch_size=batch_size, validation_split=0.1,\r\n",
        "                      callbacks=[keras.callbacks.EarlyStopping(monitor='val_accuracy', patience=1, min_delta=0.0001)])"
      ],
      "execution_count": 29,
      "outputs": [
        {
          "output_type": "stream",
          "text": [
            "Epoch 1/20\n",
            "13525/13525 [==============================] - 581s 42ms/step - loss: 1.5081 - accuracy: 0.3902 - val_loss: 1.2980 - val_accuracy: 0.4855\n",
            "Epoch 2/20\n",
            "13525/13525 [==============================] - 571s 42ms/step - loss: 1.2303 - accuracy: 0.5205 - val_loss: 1.2487 - val_accuracy: 0.5072\n",
            "Epoch 3/20\n",
            "13525/13525 [==============================] - 571s 42ms/step - loss: 1.0949 - accuracy: 0.5767 - val_loss: 1.2634 - val_accuracy: 0.5091\n",
            "Epoch 4/20\n",
            "13525/13525 [==============================] - 571s 42ms/step - loss: 1.0017 - accuracy: 0.6148 - val_loss: 1.3133 - val_accuracy: 0.5072\n"
          ],
          "name": "stdout"
        }
      ]
    },
    {
      "cell_type": "code",
      "metadata": {
        "colab": {
          "base_uri": "https://localhost:8080/"
        },
        "id": "wwxC7NpGRkyN",
        "outputId": "1db77e8a-7da9-4620-cc2b-61afb8bcddb1"
      },
      "source": [
        "accr = model_3.evaluate(X_test, y_test)\r\n",
        "print('Test set\\n  Loss: {:0.3f}\\n  Accuracy: {:0.3f}'.format(accr[0],accr[1]))"
      ],
      "execution_count": 30,
      "outputs": [
        {
          "output_type": "stream",
          "text": [
            "6441/6441 [==============================] - 130s 20ms/step - loss: 1.3121 - accuracy: 0.5052\n",
            "Test set\n",
            "  Loss: 1.312\n",
            "  Accuracy: 0.505\n"
          ],
          "name": "stdout"
        }
      ]
    },
    {
      "cell_type": "markdown",
      "metadata": {
        "id": "OjFiXXNLHw0-"
      },
      "source": [
        "Let's print again the summary of the best performing model."
      ]
    },
    {
      "cell_type": "code",
      "metadata": {
        "colab": {
          "base_uri": "https://localhost:8080/"
        },
        "id": "8fnxP7CUnMmb",
        "outputId": "b55aa2a9-673c-4a52-b474-e0b817eb6e48"
      },
      "source": [
        "print(model_3.summary())"
      ],
      "execution_count": 22,
      "outputs": [
        {
          "output_type": "stream",
          "text": [
            "Model: \"sequential_2\"\n",
            "_________________________________________________________________\n",
            "Layer (type)                 Output Shape              Param #   \n",
            "=================================================================\n",
            "embedding_1 (Embedding)      (None, 400, 100)          10000000  \n",
            "_________________________________________________________________\n",
            "spatial_dropout1d_1 (Spatial (None, 400, 100)          0         \n",
            "_________________________________________________________________\n",
            "lstm_1 (LSTM)                (None, 100)               80400     \n",
            "_________________________________________________________________\n",
            "dense_2 (Dense)              (None, 10)                1010      \n",
            "=================================================================\n",
            "Total params: 10,081,410\n",
            "Trainable params: 10,081,410\n",
            "Non-trainable params: 0\n",
            "_________________________________________________________________\n",
            "None\n"
          ],
          "name": "stdout"
        }
      ]
    },
    {
      "cell_type": "markdown",
      "metadata": {
        "id": "PLYxvAdCEsRE"
      },
      "source": [
        "**Accuracy: 50.5%**"
      ]
    },
    {
      "cell_type": "markdown",
      "metadata": {
        "id": "KIBL5HM6Dkuu"
      },
      "source": [
        "### Conclusion\r\n",
        "\r\n",
        "We used a variety of different models and layers, but every time the models becamse overfitted very early. Maybe, at the data preparation section we should set the MAX_SEQUENCE_LENGTH to something lower than 400. Another possible explanation is that each speech is very unique and this makes the training models to learn the training data in detail, which impacts negatively the performance of the models on the testing data."
      ]
    }
  ]
}